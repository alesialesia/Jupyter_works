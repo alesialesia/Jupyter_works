{
 "cells": [
  {
   "cell_type": "code",
   "execution_count": 23,
   "id": "c03a231f",
   "metadata": {},
   "outputs": [],
   "source": [
    "import numpy as np\n",
    "import pandas as pd \n",
    "import seaborn as sns\n",
    "import matplotlib.pyplot as plt\n",
    "from scipy.stats import shapiro\n",
    "import scipy.stats as stats\n",
    "\n",
    " \n",
    "\n",
    "import warnings\n",
    "warnings.filterwarnings(\"ignore\")\n",
    "warnings.simplefilter(action='ignore', category=FutureWarning)\n",
    "\n",
    " \n",
    "\n",
    "pd.set_option('display.max_columns', None)\n",
    "pd.options.display.float_format = '{:.4f}'.format"
   ]
  },
  {
   "cell_type": "code",
   "execution_count": 4,
   "id": "df6ef26f",
   "metadata": {},
   "outputs": [
    {
     "data": {
      "text/html": [
       "<div>\n",
       "<style scoped>\n",
       "    .dataframe tbody tr th:only-of-type {\n",
       "        vertical-align: middle;\n",
       "    }\n",
       "\n",
       "    .dataframe tbody tr th {\n",
       "        vertical-align: top;\n",
       "    }\n",
       "\n",
       "    .dataframe thead th {\n",
       "        text-align: right;\n",
       "    }\n",
       "</style>\n",
       "<table border=\"1\" class=\"dataframe\">\n",
       "  <thead>\n",
       "    <tr style=\"text-align: right;\">\n",
       "      <th></th>\n",
       "      <th>user_id</th>\n",
       "      <th>group</th>\n",
       "      <th>views</th>\n",
       "      <th>clicks</th>\n",
       "    </tr>\n",
       "  </thead>\n",
       "  <tbody>\n",
       "    <tr>\n",
       "      <th>0</th>\n",
       "      <td>1</td>\n",
       "      <td>control</td>\n",
       "      <td>3.0</td>\n",
       "      <td>0.0</td>\n",
       "    </tr>\n",
       "    <tr>\n",
       "      <th>1</th>\n",
       "      <td>2</td>\n",
       "      <td>control</td>\n",
       "      <td>1.0</td>\n",
       "      <td>0.0</td>\n",
       "    </tr>\n",
       "    <tr>\n",
       "      <th>2</th>\n",
       "      <td>3</td>\n",
       "      <td>control</td>\n",
       "      <td>3.0</td>\n",
       "      <td>1.0</td>\n",
       "    </tr>\n",
       "    <tr>\n",
       "      <th>3</th>\n",
       "      <td>4</td>\n",
       "      <td>control</td>\n",
       "      <td>5.0</td>\n",
       "      <td>0.0</td>\n",
       "    </tr>\n",
       "    <tr>\n",
       "      <th>4</th>\n",
       "      <td>5</td>\n",
       "      <td>control</td>\n",
       "      <td>2.0</td>\n",
       "      <td>0.0</td>\n",
       "    </tr>\n",
       "    <tr>\n",
       "      <th>...</th>\n",
       "      <td>...</td>\n",
       "      <td>...</td>\n",
       "      <td>...</td>\n",
       "      <td>...</td>\n",
       "    </tr>\n",
       "    <tr>\n",
       "      <th>79995</th>\n",
       "      <td>79996</td>\n",
       "      <td>test</td>\n",
       "      <td>4.0</td>\n",
       "      <td>0.0</td>\n",
       "    </tr>\n",
       "    <tr>\n",
       "      <th>79996</th>\n",
       "      <td>79997</td>\n",
       "      <td>test</td>\n",
       "      <td>2.0</td>\n",
       "      <td>0.0</td>\n",
       "    </tr>\n",
       "    <tr>\n",
       "      <th>79997</th>\n",
       "      <td>79998</td>\n",
       "      <td>test</td>\n",
       "      <td>13.0</td>\n",
       "      <td>1.0</td>\n",
       "    </tr>\n",
       "    <tr>\n",
       "      <th>79998</th>\n",
       "      <td>79999</td>\n",
       "      <td>test</td>\n",
       "      <td>2.0</td>\n",
       "      <td>0.0</td>\n",
       "    </tr>\n",
       "    <tr>\n",
       "      <th>79999</th>\n",
       "      <td>80000</td>\n",
       "      <td>test</td>\n",
       "      <td>1.0</td>\n",
       "      <td>0.0</td>\n",
       "    </tr>\n",
       "  </tbody>\n",
       "</table>\n",
       "<p>80000 rows × 4 columns</p>\n",
       "</div>"
      ],
      "text/plain": [
       "       user_id    group  views  clicks\n",
       "0            1  control    3.0     0.0\n",
       "1            2  control    1.0     0.0\n",
       "2            3  control    3.0     1.0\n",
       "3            4  control    5.0     0.0\n",
       "4            5  control    2.0     0.0\n",
       "...        ...      ...    ...     ...\n",
       "79995    79996     test    4.0     0.0\n",
       "79996    79997     test    2.0     0.0\n",
       "79997    79998     test   13.0     1.0\n",
       "79998    79999     test    2.0     0.0\n",
       "79999    80000     test    1.0     0.0\n",
       "\n",
       "[80000 rows x 4 columns]"
      ]
     },
     "execution_count": 4,
     "metadata": {},
     "output_type": "execute_result"
    }
   ],
   "source": [
    "ab_data = pd.read_csv('ab_test_results_aggregated_views_clicks_6.csv')\n",
    "ab_data"
   ]
  },
  {
   "cell_type": "code",
   "execution_count": 18,
   "id": "a822f130",
   "metadata": {},
   "outputs": [
    {
     "data": {
      "text/plain": [
       "((80000, 5), 80000)"
      ]
     },
     "execution_count": 18,
     "metadata": {},
     "output_type": "execute_result"
    }
   ],
   "source": [
    "ab_data.shape, ab_data.user_id.nunique()"
   ]
  },
  {
   "cell_type": "code",
   "execution_count": 10,
   "id": "5b0b4cc5",
   "metadata": {},
   "outputs": [
    {
     "data": {
      "text/html": [
       "<div>\n",
       "<style scoped>\n",
       "    .dataframe tbody tr th:only-of-type {\n",
       "        vertical-align: middle;\n",
       "    }\n",
       "\n",
       "    .dataframe tbody tr th {\n",
       "        vertical-align: top;\n",
       "    }\n",
       "\n",
       "    .dataframe thead th {\n",
       "        text-align: right;\n",
       "    }\n",
       "</style>\n",
       "<table border=\"1\" class=\"dataframe\">\n",
       "  <thead>\n",
       "    <tr style=\"text-align: right;\">\n",
       "      <th></th>\n",
       "      <th>user_id</th>\n",
       "      <th>group</th>\n",
       "      <th>views</th>\n",
       "      <th>clicks</th>\n",
       "      <th>ctr</th>\n",
       "    </tr>\n",
       "  </thead>\n",
       "  <tbody>\n",
       "    <tr>\n",
       "      <th>0</th>\n",
       "      <td>1</td>\n",
       "      <td>control</td>\n",
       "      <td>3.0</td>\n",
       "      <td>0.0</td>\n",
       "      <td>0.000000</td>\n",
       "    </tr>\n",
       "    <tr>\n",
       "      <th>1</th>\n",
       "      <td>2</td>\n",
       "      <td>control</td>\n",
       "      <td>1.0</td>\n",
       "      <td>0.0</td>\n",
       "      <td>0.000000</td>\n",
       "    </tr>\n",
       "    <tr>\n",
       "      <th>2</th>\n",
       "      <td>3</td>\n",
       "      <td>control</td>\n",
       "      <td>3.0</td>\n",
       "      <td>1.0</td>\n",
       "      <td>33.333333</td>\n",
       "    </tr>\n",
       "    <tr>\n",
       "      <th>3</th>\n",
       "      <td>4</td>\n",
       "      <td>control</td>\n",
       "      <td>5.0</td>\n",
       "      <td>0.0</td>\n",
       "      <td>0.000000</td>\n",
       "    </tr>\n",
       "    <tr>\n",
       "      <th>4</th>\n",
       "      <td>5</td>\n",
       "      <td>control</td>\n",
       "      <td>2.0</td>\n",
       "      <td>0.0</td>\n",
       "      <td>0.000000</td>\n",
       "    </tr>\n",
       "  </tbody>\n",
       "</table>\n",
       "</div>"
      ],
      "text/plain": [
       "   user_id    group  views  clicks        ctr\n",
       "0        1  control    3.0     0.0   0.000000\n",
       "1        2  control    1.0     0.0   0.000000\n",
       "2        3  control    3.0     1.0  33.333333\n",
       "3        4  control    5.0     0.0   0.000000\n",
       "4        5  control    2.0     0.0   0.000000"
      ]
     },
     "execution_count": 10,
     "metadata": {},
     "output_type": "execute_result"
    }
   ],
   "source": [
    "#по датасету рассчитаем метрику CTR\n",
    "ab_data['ctr']=ab_data.clicks/ab_data.views*100\n",
    "ab_data.head()"
   ]
  },
  {
   "cell_type": "code",
   "execution_count": 74,
   "id": "5a72d2b1",
   "metadata": {},
   "outputs": [],
   "source": [
    "ab_test = ab_data.query('group == \"test\"')"
   ]
  },
  {
   "cell_type": "code",
   "execution_count": 75,
   "id": "b6770d4e",
   "metadata": {},
   "outputs": [],
   "source": [
    "ab_control = ab_data.query('group == \"control\"')"
   ]
  },
  {
   "cell_type": "code",
   "execution_count": 76,
   "id": "2cbfd4ac",
   "metadata": {},
   "outputs": [],
   "source": [
    "#сравним значения CTR в котрольной и тестовой группе"
   ]
  },
  {
   "cell_type": "code",
   "execution_count": 16,
   "id": "84c9a97d",
   "metadata": {},
   "outputs": [
    {
     "data": {
      "text/html": [
       "<div>\n",
       "<style scoped>\n",
       "    .dataframe tbody tr th:only-of-type {\n",
       "        vertical-align: middle;\n",
       "    }\n",
       "\n",
       "    .dataframe tbody tr th {\n",
       "        vertical-align: top;\n",
       "    }\n",
       "\n",
       "    .dataframe thead th {\n",
       "        text-align: right;\n",
       "    }\n",
       "</style>\n",
       "<table border=\"1\" class=\"dataframe\">\n",
       "  <thead>\n",
       "    <tr style=\"text-align: right;\">\n",
       "      <th></th>\n",
       "      <th>count</th>\n",
       "      <th>mean</th>\n",
       "      <th>std</th>\n",
       "      <th>min</th>\n",
       "      <th>1%</th>\n",
       "      <th>5%</th>\n",
       "      <th>10%</th>\n",
       "      <th>20%</th>\n",
       "      <th>50%</th>\n",
       "      <th>80%</th>\n",
       "      <th>90%</th>\n",
       "      <th>95%</th>\n",
       "      <th>99%</th>\n",
       "      <th>max</th>\n",
       "    </tr>\n",
       "  </thead>\n",
       "  <tbody>\n",
       "    <tr>\n",
       "      <th>ctr</th>\n",
       "      <td>40000.0</td>\n",
       "      <td>8.036326</td>\n",
       "      <td>17.23626</td>\n",
       "      <td>0.0</td>\n",
       "      <td>0.0</td>\n",
       "      <td>0.0</td>\n",
       "      <td>0.0</td>\n",
       "      <td>0.0</td>\n",
       "      <td>0.0</td>\n",
       "      <td>14.285714</td>\n",
       "      <td>28.571429</td>\n",
       "      <td>50.0</td>\n",
       "      <td>100.0</td>\n",
       "      <td>100.0</td>\n",
       "    </tr>\n",
       "  </tbody>\n",
       "</table>\n",
       "</div>"
      ],
      "text/plain": [
       "       count      mean       std  min   1%   5%  10%  20%  50%        80%  \\\n",
       "ctr  40000.0  8.036326  17.23626  0.0  0.0  0.0  0.0  0.0  0.0  14.285714   \n",
       "\n",
       "           90%   95%    99%    max  \n",
       "ctr  28.571429  50.0  100.0  100.0  "
      ]
     },
     "execution_count": 16,
     "metadata": {},
     "output_type": "execute_result"
    }
   ],
   "source": [
    "ab_test.describe([0.01, 0.05, 0.10, 0.20, 0.80, 0.90, 0.95, 0.99])[[\"ctr\"]].T"
   ]
  },
  {
   "cell_type": "code",
   "execution_count": 17,
   "id": "24d67024",
   "metadata": {},
   "outputs": [
    {
     "data": {
      "text/html": [
       "<div>\n",
       "<style scoped>\n",
       "    .dataframe tbody tr th:only-of-type {\n",
       "        vertical-align: middle;\n",
       "    }\n",
       "\n",
       "    .dataframe tbody tr th {\n",
       "        vertical-align: top;\n",
       "    }\n",
       "\n",
       "    .dataframe thead th {\n",
       "        text-align: right;\n",
       "    }\n",
       "</style>\n",
       "<table border=\"1\" class=\"dataframe\">\n",
       "  <thead>\n",
       "    <tr style=\"text-align: right;\">\n",
       "      <th></th>\n",
       "      <th>count</th>\n",
       "      <th>mean</th>\n",
       "      <th>std</th>\n",
       "      <th>min</th>\n",
       "      <th>1%</th>\n",
       "      <th>5%</th>\n",
       "      <th>10%</th>\n",
       "      <th>20%</th>\n",
       "      <th>50%</th>\n",
       "      <th>80%</th>\n",
       "      <th>90%</th>\n",
       "      <th>95%</th>\n",
       "      <th>99%</th>\n",
       "      <th>max</th>\n",
       "    </tr>\n",
       "  </thead>\n",
       "  <tbody>\n",
       "    <tr>\n",
       "      <th>ctr</th>\n",
       "      <td>40000.0</td>\n",
       "      <td>6.916589</td>\n",
       "      <td>15.962607</td>\n",
       "      <td>0.0</td>\n",
       "      <td>0.0</td>\n",
       "      <td>0.0</td>\n",
       "      <td>0.0</td>\n",
       "      <td>0.0</td>\n",
       "      <td>0.0</td>\n",
       "      <td>11.111111</td>\n",
       "      <td>25.0</td>\n",
       "      <td>37.5</td>\n",
       "      <td>100.0</td>\n",
       "      <td>100.0</td>\n",
       "    </tr>\n",
       "  </tbody>\n",
       "</table>\n",
       "</div>"
      ],
      "text/plain": [
       "       count      mean        std  min   1%   5%  10%  20%  50%        80%  \\\n",
       "ctr  40000.0  6.916589  15.962607  0.0  0.0  0.0  0.0  0.0  0.0  11.111111   \n",
       "\n",
       "      90%   95%    99%    max  \n",
       "ctr  25.0  37.5  100.0  100.0  "
      ]
     },
     "execution_count": 17,
     "metadata": {},
     "output_type": "execute_result"
    }
   ],
   "source": [
    "ab_control.describe([0.01, 0.05, 0.10, 0.20, 0.80, 0.90, 0.95, 0.99])[[\"ctr\"]].T"
   ]
  },
  {
   "cell_type": "markdown",
   "id": "0e23f817",
   "metadata": {},
   "source": [
    "- Одинаковые показатели минимального, максимального показателя CTR в тестовой и контрольной группах.\n",
    "\n",
    "\n",
    "- Средний СTR в тестовой группе = 8.03, в контрольной группе = 6.91\n",
    "\n",
    "\n",
    "- Стандартное отклонение в тестовой группе = 17.23, в контрольной группе = 15.96\n",
    "\n",
    "\n",
    "- Есть некоторые различия в 80, 90, 95 перцентилях (в тестовой группе 95% показетелей CTR > 50, в то время как в контрольной группе 95% показателей CTR > 37.5)."
   ]
  },
  {
   "cell_type": "markdown",
   "id": "66a4fb71",
   "metadata": {},
   "source": [
    "# __АВ тестирование по метрике просмотров (views) в группах__"
   ]
  },
  {
   "cell_type": "markdown",
   "id": "dd60d933",
   "metadata": {},
   "source": [
    "- __Нулевая  гипотеза Н0__ - различий в средних показателях просмотров в тестовой и контрольной группах нет.\n",
    "\n",
    "\n",
    "- __Альтернативная гипотеза Н1__ - есть статистически значимые отличия в средних показателях просмотров в группах теста и контроля."
   ]
  },
  {
   "cell_type": "code",
   "execution_count": 66,
   "id": "39ae375b",
   "metadata": {},
   "outputs": [
    {
     "data": {
      "text/html": [
       "<div>\n",
       "<style scoped>\n",
       "    .dataframe tbody tr th:only-of-type {\n",
       "        vertical-align: middle;\n",
       "    }\n",
       "\n",
       "    .dataframe tbody tr th {\n",
       "        vertical-align: top;\n",
       "    }\n",
       "\n",
       "    .dataframe thead th {\n",
       "        text-align: right;\n",
       "    }\n",
       "</style>\n",
       "<table border=\"1\" class=\"dataframe\">\n",
       "  <thead>\n",
       "    <tr style=\"text-align: right;\">\n",
       "      <th></th>\n",
       "      <th>count</th>\n",
       "      <th>median</th>\n",
       "      <th>mean</th>\n",
       "      <th>std</th>\n",
       "      <th>max</th>\n",
       "      <th>min</th>\n",
       "    </tr>\n",
       "    <tr>\n",
       "      <th>group</th>\n",
       "      <th></th>\n",
       "      <th></th>\n",
       "      <th></th>\n",
       "      <th></th>\n",
       "      <th></th>\n",
       "      <th></th>\n",
       "    </tr>\n",
       "  </thead>\n",
       "  <tbody>\n",
       "    <tr>\n",
       "      <th>control</th>\n",
       "      <td>40000</td>\n",
       "      <td>3.0000</td>\n",
       "      <td>4.9810</td>\n",
       "      <td>5.9105</td>\n",
       "      <td>163.0000</td>\n",
       "      <td>1.0000</td>\n",
       "    </tr>\n",
       "    <tr>\n",
       "      <th>test</th>\n",
       "      <td>40000</td>\n",
       "      <td>3.0000</td>\n",
       "      <td>5.0155</td>\n",
       "      <td>5.9205</td>\n",
       "      <td>206.0000</td>\n",
       "      <td>1.0000</td>\n",
       "    </tr>\n",
       "  </tbody>\n",
       "</table>\n",
       "</div>"
      ],
      "text/plain": [
       "         count  median   mean    std      max    min\n",
       "group                                               \n",
       "control  40000  3.0000 4.9810 5.9105 163.0000 1.0000\n",
       "test     40000  3.0000 5.0155 5.9205 206.0000 1.0000"
      ]
     },
     "execution_count": 66,
     "metadata": {},
     "output_type": "execute_result"
    }
   ],
   "source": [
    "#сравним статистические показатели просмотров в тестовой и контрольной группах\n",
    "ab_data.groupby(\"group\").views.agg([\"count\", \"median\", \"mean\", \"std\", \"max\", \"min\"])"
   ]
  },
  {
   "cell_type": "markdown",
   "id": "57171815",
   "metadata": {},
   "source": [
    "- В тестовой и контрольной группах нет существенных отличий в просмотрах (исключение: максимальный просмотр у пользователя в контрольной группе = 206, в тестовой = 163)"
   ]
  },
  {
   "cell_type": "code",
   "execution_count": 34,
   "id": "b2278edf",
   "metadata": {},
   "outputs": [
    {
     "data": {
      "text/plain": [
       "1    80000\n",
       "Name: group, dtype: int64"
      ]
     },
     "execution_count": 34,
     "metadata": {},
     "output_type": "execute_result"
    }
   ],
   "source": [
    "#проверим не попали ли пользователи в одну и ту же группу\n",
    "double_variant_count = ab_data.groupby('user_id')['group'].nunique().value_counts()\n",
    "double_variant_count"
   ]
  },
  {
   "cell_type": "code",
   "execution_count": 78,
   "id": "d2d05da0",
   "metadata": {},
   "outputs": [],
   "source": [
    "#импортируем необходимые модули\n",
    "import bootstrapped.bootstrap as bs\n",
    "import bootstrapped.stats_functions as bs_stats\n",
    "import bootstrapped.compare_functions as bs_compare\n",
    "from scipy.stats import mannwhitneyu\n",
    "from scipy.stats import ttest_ind\n",
    "from scipy.stats import norm\n",
    "import scipy.stats as ss"
   ]
  },
  {
   "cell_type": "code",
   "execution_count": 92,
   "id": "d54f4ca6",
   "metadata": {},
   "outputs": [
    {
     "data": {
      "text/plain": [
       "<AxesSubplot:>"
      ]
     },
     "execution_count": 92,
     "metadata": {},
     "output_type": "execute_result"
    },
    {
     "data": {
      "image/png": "[encoded data removed]",
      "text/plain": [
       "<Figure size 432x288 with 1 Axes>"
      ]
     },
     "metadata": {},
     "output_type": "display_data"
    }
   ],
   "source": [
    "ab_control.views.hist()"
   ]
  },
  {
   "cell_type": "code",
   "execution_count": 93,
   "id": "cd9dc9f4",
   "metadata": {},
   "outputs": [
    {
     "data": {
      "text/plain": [
       "<AxesSubplot:>"
      ]
     },
     "execution_count": 93,
     "metadata": {},
     "output_type": "execute_result"
    },
    {
     "data": {
      "image/png": "[encoded data removed]",
      "text/plain": [
       "<Figure size 432x288 with 1 Axes>"
      ]
     },
     "metadata": {},
     "output_type": "display_data"
    }
   ],
   "source": [
    "ab_test.views.hist()"
   ]
  },
  {
   "cell_type": "code",
   "execution_count": 79,
   "id": "77f33fb5",
   "metadata": {},
   "outputs": [
    {
     "name": "stdout",
     "output_type": "stream",
     "text": [
      "ShapiroResult(statistic=0.6079708933830261, pvalue=1.0663881313511858e-42)\n"
     ]
    }
   ],
   "source": [
    "#проверим на нормальность распределения контрольную группу (SHAPIRO-WILK TEST)\n",
    "print(ss.shapiro(ab_control.views.sample(1000, random_state=17)))"
   ]
  },
  {
   "cell_type": "code",
   "execution_count": 95,
   "id": "51fe1a60",
   "metadata": {},
   "outputs": [
    {
     "name": "stdout",
     "output_type": "stream",
     "text": [
      "ShapiroResult(statistic=0.633316159248352, pvalue=1.0181834641784121e-41)\n"
     ]
    }
   ],
   "source": [
    "#проверим на нормальность распределения тестовую группу (SHAPIRO-WILK TEST)\n",
    "print(ss.shapiro(ab_test.views.sample(1000, random_state=17)))"
   ]
  },
  {
   "cell_type": "markdown",
   "id": "567ed6b5",
   "metadata": {},
   "source": [
    "- Полученные p-значения ниже определенного уровня значимости < 0.05, у нас есть достаточно доказательств, чтобы сказать, что данные выборки не получены из нормального распределения."
   ]
  },
  {
   "cell_type": "code",
   "execution_count": 99,
   "id": "1aec341b",
   "metadata": {},
   "outputs": [],
   "source": [
    "#прологорифмируем данные для более симметричного распределения\n",
    "ab_control['views_log']=np.log(ab_control.views)\n",
    "ab_test['views_log']=np.log(ab_test.views)"
   ]
  },
  {
   "cell_type": "code",
   "execution_count": 101,
   "id": "357d1c89",
   "metadata": {},
   "outputs": [
    {
     "data": {
      "text/html": [
       "<div>\n",
       "<style scoped>\n",
       "    .dataframe tbody tr th:only-of-type {\n",
       "        vertical-align: middle;\n",
       "    }\n",
       "\n",
       "    .dataframe tbody tr th {\n",
       "        vertical-align: top;\n",
       "    }\n",
       "\n",
       "    .dataframe thead th {\n",
       "        text-align: right;\n",
       "    }\n",
       "</style>\n",
       "<table border=\"1\" class=\"dataframe\">\n",
       "  <thead>\n",
       "    <tr style=\"text-align: right;\">\n",
       "      <th></th>\n",
       "      <th>user_id</th>\n",
       "      <th>group</th>\n",
       "      <th>views</th>\n",
       "      <th>clicks</th>\n",
       "      <th>ctr</th>\n",
       "      <th>views_log</th>\n",
       "    </tr>\n",
       "  </thead>\n",
       "  <tbody>\n",
       "    <tr>\n",
       "      <th>0</th>\n",
       "      <td>1</td>\n",
       "      <td>control</td>\n",
       "      <td>3.0000</td>\n",
       "      <td>0.0000</td>\n",
       "      <td>0.0000</td>\n",
       "      <td>1.0986</td>\n",
       "    </tr>\n",
       "    <tr>\n",
       "      <th>1</th>\n",
       "      <td>2</td>\n",
       "      <td>control</td>\n",
       "      <td>1.0000</td>\n",
       "      <td>0.0000</td>\n",
       "      <td>0.0000</td>\n",
       "      <td>0.0000</td>\n",
       "    </tr>\n",
       "    <tr>\n",
       "      <th>2</th>\n",
       "      <td>3</td>\n",
       "      <td>control</td>\n",
       "      <td>3.0000</td>\n",
       "      <td>1.0000</td>\n",
       "      <td>33.3333</td>\n",
       "      <td>1.0986</td>\n",
       "    </tr>\n",
       "    <tr>\n",
       "      <th>3</th>\n",
       "      <td>4</td>\n",
       "      <td>control</td>\n",
       "      <td>5.0000</td>\n",
       "      <td>0.0000</td>\n",
       "      <td>0.0000</td>\n",
       "      <td>1.6094</td>\n",
       "    </tr>\n",
       "    <tr>\n",
       "      <th>4</th>\n",
       "      <td>5</td>\n",
       "      <td>control</td>\n",
       "      <td>2.0000</td>\n",
       "      <td>0.0000</td>\n",
       "      <td>0.0000</td>\n",
       "      <td>0.6931</td>\n",
       "    </tr>\n",
       "  </tbody>\n",
       "</table>\n",
       "</div>"
      ],
      "text/plain": [
       "   user_id    group  views  clicks     ctr  views_log\n",
       "0        1  control 3.0000  0.0000  0.0000     1.0986\n",
       "1        2  control 1.0000  0.0000  0.0000     0.0000\n",
       "2        3  control 3.0000  1.0000 33.3333     1.0986\n",
       "3        4  control 5.0000  0.0000  0.0000     1.6094\n",
       "4        5  control 2.0000  0.0000  0.0000     0.6931"
      ]
     },
     "execution_count": 101,
     "metadata": {},
     "output_type": "execute_result"
    }
   ],
   "source": [
    "ab_control.head()"
   ]
  },
  {
   "cell_type": "code",
   "execution_count": 98,
   "id": "4b9de239",
   "metadata": {},
   "outputs": [
    {
     "data": {
      "text/plain": [
       "<AxesSubplot:>"
      ]
     },
     "execution_count": 98,
     "metadata": {},
     "output_type": "execute_result"
    },
    {
     "data": {
      "image/png": "[encoded data removed]",
      "text/plain": [
       "<Figure size 432x288 with 1 Axes>"
      ]
     },
     "metadata": {},
     "output_type": "display_data"
    }
   ],
   "source": [
    "ab_control.views_log.hist()"
   ]
  },
  {
   "cell_type": "code",
   "execution_count": 102,
   "id": "a8bd7c77",
   "metadata": {},
   "outputs": [
    {
     "data": {
      "text/html": [
       "<div>\n",
       "<style scoped>\n",
       "    .dataframe tbody tr th:only-of-type {\n",
       "        vertical-align: middle;\n",
       "    }\n",
       "\n",
       "    .dataframe tbody tr th {\n",
       "        vertical-align: top;\n",
       "    }\n",
       "\n",
       "    .dataframe thead th {\n",
       "        text-align: right;\n",
       "    }\n",
       "</style>\n",
       "<table border=\"1\" class=\"dataframe\">\n",
       "  <thead>\n",
       "    <tr style=\"text-align: right;\">\n",
       "      <th></th>\n",
       "      <th>user_id</th>\n",
       "      <th>group</th>\n",
       "      <th>views</th>\n",
       "      <th>clicks</th>\n",
       "      <th>ctr</th>\n",
       "      <th>views_log</th>\n",
       "    </tr>\n",
       "  </thead>\n",
       "  <tbody>\n",
       "    <tr>\n",
       "      <th>40000</th>\n",
       "      <td>40001</td>\n",
       "      <td>test</td>\n",
       "      <td>1.0000</td>\n",
       "      <td>0.0000</td>\n",
       "      <td>0.0000</td>\n",
       "      <td>0.0000</td>\n",
       "    </tr>\n",
       "    <tr>\n",
       "      <th>40001</th>\n",
       "      <td>40002</td>\n",
       "      <td>test</td>\n",
       "      <td>3.0000</td>\n",
       "      <td>0.0000</td>\n",
       "      <td>0.0000</td>\n",
       "      <td>1.0986</td>\n",
       "    </tr>\n",
       "    <tr>\n",
       "      <th>40002</th>\n",
       "      <td>40003</td>\n",
       "      <td>test</td>\n",
       "      <td>1.0000</td>\n",
       "      <td>0.0000</td>\n",
       "      <td>0.0000</td>\n",
       "      <td>0.0000</td>\n",
       "    </tr>\n",
       "    <tr>\n",
       "      <th>40003</th>\n",
       "      <td>40004</td>\n",
       "      <td>test</td>\n",
       "      <td>2.0000</td>\n",
       "      <td>0.0000</td>\n",
       "      <td>0.0000</td>\n",
       "      <td>0.6931</td>\n",
       "    </tr>\n",
       "    <tr>\n",
       "      <th>40004</th>\n",
       "      <td>40005</td>\n",
       "      <td>test</td>\n",
       "      <td>4.0000</td>\n",
       "      <td>0.0000</td>\n",
       "      <td>0.0000</td>\n",
       "      <td>1.3863</td>\n",
       "    </tr>\n",
       "  </tbody>\n",
       "</table>\n",
       "</div>"
      ],
      "text/plain": [
       "       user_id group  views  clicks    ctr  views_log\n",
       "40000    40001  test 1.0000  0.0000 0.0000     0.0000\n",
       "40001    40002  test 3.0000  0.0000 0.0000     1.0986\n",
       "40002    40003  test 1.0000  0.0000 0.0000     0.0000\n",
       "40003    40004  test 2.0000  0.0000 0.0000     0.6931\n",
       "40004    40005  test 4.0000  0.0000 0.0000     1.3863"
      ]
     },
     "execution_count": 102,
     "metadata": {},
     "output_type": "execute_result"
    }
   ],
   "source": [
    "ab_test.head()"
   ]
  },
  {
   "cell_type": "code",
   "execution_count": 103,
   "id": "2ea1617d",
   "metadata": {},
   "outputs": [
    {
     "data": {
      "text/plain": [
       "<AxesSubplot:>"
      ]
     },
     "execution_count": 103,
     "metadata": {},
     "output_type": "execute_result"
    },
    {
     "data": {
      "image/png": "[encoded data removed]",
      "text/plain": [
       "<Figure size 432x288 with 1 Axes>"
      ]
     },
     "metadata": {},
     "output_type": "display_data"
    }
   ],
   "source": [
    "ab_test.views_log.hist()"
   ]
  },
  {
   "cell_type": "code",
   "execution_count": 104,
   "id": "5a4532bc",
   "metadata": {},
   "outputs": [
    {
     "data": {
      "text/plain": [
       "Ttest_indResult(statistic=-0.8439058074205535, pvalue=0.3987245661884091)"
      ]
     },
     "execution_count": 104,
     "metadata": {},
     "output_type": "execute_result"
    }
   ],
   "source": [
    "#критерием t-стьюдента смотрим есть ли различия в средних, либо нет\n",
    "stats.ttest_ind(ab_control.views_log, ab_test.views_log)"
   ]
  },
  {
   "cell_type": "markdown",
   "id": "a2953daf",
   "metadata": {},
   "source": [
    "pvalue=0.39 > 0.05, принимаем нулевую гипотезу о том, что различий в средней нет (между просмотрами в тестовой и контрольной группах)"
   ]
  },
  {
   "cell_type": "code",
   "execution_count": 107,
   "id": "de3281c2",
   "metadata": {},
   "outputs": [
    {
     "data": {
      "text/plain": [
       "5.015475"
      ]
     },
     "execution_count": 107,
     "metadata": {},
     "output_type": "execute_result"
    }
   ],
   "source": [
    "ab_test.views.mean()"
   ]
  },
  {
   "cell_type": "code",
   "execution_count": 108,
   "id": "9b74b80f",
   "metadata": {},
   "outputs": [
    {
     "data": {
      "text/plain": [
       "4.98105"
      ]
     },
     "execution_count": 108,
     "metadata": {},
     "output_type": "execute_result"
    }
   ],
   "source": [
    "ab_control.views.mean()"
   ]
  },
  {
   "cell_type": "code",
   "execution_count": 85,
   "id": "7c5f6ecb",
   "metadata": {},
   "outputs": [
    {
     "data": {
      "text/plain": [
       "1.0069112938035154"
      ]
     },
     "execution_count": 85,
     "metadata": {},
     "output_type": "execute_result"
    }
   ],
   "source": [
    "5.0154755/4.98105"
   ]
  },
  {
   "cell_type": "code",
   "execution_count": 86,
   "id": "4f232964",
   "metadata": {},
   "outputs": [
    {
     "data": {
      "text/plain": [
       "0.006911293803515406"
      ]
     },
     "execution_count": 86,
     "metadata": {},
     "output_type": "execute_result"
    }
   ],
   "source": [
    "1.0069112938035154-1"
   ]
  },
  {
   "cell_type": "markdown",
   "id": "7b067eef",
   "metadata": {},
   "source": [
    "- Среднее значение не изменилось статистически значимо."
   ]
  },
  {
   "cell_type": "code",
   "execution_count": 43,
   "id": "5932885e",
   "metadata": {},
   "outputs": [
    {
     "data": {
      "text/plain": [
       "MannwhitneyuResult(statistic=802814010.5, pvalue=0.3838297976545195)"
      ]
     },
     "execution_count": 43,
     "metadata": {},
     "output_type": "execute_result"
    }
   ],
   "source": [
    "#Критерий Манна-Уитни\n",
    "mannwhitneyu(ab_test.views, ab_control.views)\n",
    "#просмотры и в контрольной, и в тестовой группе"
   ]
  },
  {
   "cell_type": "code",
   "execution_count": null,
   "id": "589d8934",
   "metadata": {},
   "outputs": [],
   "source": [
    "#pvalue > 0.05, делаем вывод, что разницы в средних нет, принимаем Н0"
   ]
  },
  {
   "cell_type": "markdown",
   "id": "881f933b",
   "metadata": {},
   "source": [
    "# __Оценка методом бутстрапа__"
   ]
  },
  {
   "cell_type": "code",
   "execution_count": 53,
   "id": "0c532e3d",
   "metadata": {},
   "outputs": [
    {
     "data": {
      "text/plain": [
       "(40000,)"
      ]
     },
     "execution_count": 53,
     "metadata": {},
     "output_type": "execute_result"
    }
   ],
   "source": [
    "test = np.array(ab_test['views'])\n",
    "test.shape"
   ]
  },
  {
   "cell_type": "code",
   "execution_count": 54,
   "id": "98b81683",
   "metadata": {},
   "outputs": [
    {
     "data": {
      "text/plain": [
       "(40000,)"
      ]
     },
     "execution_count": 54,
     "metadata": {},
     "output_type": "execute_result"
    }
   ],
   "source": [
    "control = np.array(ab_control['views'])\n",
    "control.shape"
   ]
  },
  {
   "cell_type": "code",
   "execution_count": 55,
   "id": "c0de6724",
   "metadata": {},
   "outputs": [],
   "source": [
    "array = bs.bootstrap_ab(test = test, ctrl = control\n",
    "                              , stat_func = bs_stats.mean\n",
    "                              , compare_func = bs_compare.difference\n",
    "                              , return_distribution = True)"
   ]
  },
  {
   "cell_type": "code",
   "execution_count": 56,
   "id": "b01b3f83",
   "metadata": {},
   "outputs": [
    {
     "data": {
      "text/plain": [
       "array([[<AxesSubplot:title={'center':'0'}>]], dtype=object)"
      ]
     },
     "execution_count": 56,
     "metadata": {},
     "output_type": "execute_result"
    },
    {
     "data": {
      "image/png": "[encoded data removed]",
      "text/plain": [
       "<Figure size 432x288 with 1 Axes>"
      ]
     },
     "metadata": {
      "needs_background": "light"
     },
     "output_type": "display_data"
    }
   ],
   "source": [
    "pd.DataFrame(array).hist()"
   ]
  },
  {
   "cell_type": "code",
   "execution_count": 57,
   "id": "ede5a3fc",
   "metadata": {},
   "outputs": [
    {
     "data": {
      "text/plain": [
       "-0.04767562499999991"
      ]
     },
     "execution_count": 57,
     "metadata": {},
     "output_type": "execute_result"
    }
   ],
   "source": [
    "np.percentile(array, 2.5)"
   ]
  },
  {
   "cell_type": "code",
   "execution_count": 58,
   "id": "7b70fce1",
   "metadata": {},
   "outputs": [
    {
     "data": {
      "text/plain": [
       "0.1168543749999994"
      ]
     },
     "execution_count": 58,
     "metadata": {},
     "output_type": "execute_result"
    }
   ],
   "source": [
    "np.percentile(array, 97.5)"
   ]
  },
  {
   "cell_type": "markdown",
   "id": "581de5bd",
   "metadata": {},
   "source": [
    "- На уровне значимости 5% в данном случае 95% доверительный интервал разности квантилей между группами равен от __-0.04 до 0.11__. \n",
    "\n",
    "\n",
    "- Делаем вывод, что 0 входит в ДИ, значит, __статически значимых отличий между показателями просмотров в тестовой и контрольной группах нет.__"
   ]
  },
  {
   "cell_type": "code",
   "execution_count": 61,
   "id": "ef6362fa",
   "metadata": {},
   "outputs": [],
   "source": [
    "from tqdm.notebook import trange, tqdm"
   ]
  },
  {
   "cell_type": "code",
   "execution_count": 62,
   "id": "1a7d554d",
   "metadata": {},
   "outputs": [],
   "source": [
    "#проверим еще одним способом\n",
    "def get_bootstrap(\n",
    "    column_1, # числовые значения первой выборки\n",
    "    column_2, # числовые значения второй выборки\n",
    "    boot_it = 1000, # количество бутстрэп-подвыборок\n",
    "    statistic = np.mean, # интересующая нас статистика\n",
    "    bootstrap_conf_level = 0.95 # уровень значимости\n",
    "):\n",
    "    boot_len = max([len(column_1), len(column_2)])\n",
    "    boot_data = []\n",
    "    for i in tqdm(range(boot_it)): # извлекаем подвыборки\n",
    "        samples_1 = column_1.sample(\n",
    "            boot_len, \n",
    "            replace = True # параметр возвращения\n",
    "        ).values\n",
    "\n",
    "        samples_2 = column_2.sample(\n",
    "            boot_len, \n",
    "            replace = True\n",
    "        ).values\n",
    "\n",
    "        boot_data.append(statistic(samples_1-samples_2)) # mean() - применяем статистику\n",
    "\n",
    "    pd_boot_data = pd.DataFrame(boot_data)\n",
    "\n",
    "    left_quant = (1 - bootstrap_conf_level)/2\n",
    "    right_quant = 1 - (1 - bootstrap_conf_level) / 2\n",
    "    ci = pd_boot_data.quantile([left_quant, right_quant])\n",
    "\n",
    "    p_1 = norm.cdf(\n",
    "        x = 0, \n",
    "        loc = np.mean(boot_data), \n",
    "        scale = np.std(boot_data)\n",
    "    )\n",
    "    p_2 = norm.cdf(\n",
    "        x = 0, \n",
    "        loc = -np.mean(boot_data), \n",
    "        scale = np.std(boot_data)\n",
    "    )\n",
    "    p_value = min(p_1, p_2) * 2\n",
    "\n",
    "    # Визуализация\n",
    "    plt.hist(pd_boot_data[0], bins = 50)\n",
    "\n",
    "    plt.style.use('ggplot')\n",
    "    plt.vlines(ci,ymin=0,ymax=50,linestyle='--')\n",
    "    plt.xlabel('boot_data')\n",
    "    plt.ylabel('frequency')\n",
    "    plt.title(\"Histogram of boot_data\")\n",
    "    plt.show()\n",
    "\n",
    "    return {\"boot_data\": boot_data, \n",
    "            \"ci\": ci, \n",
    "            \"p_value\": p_value}"
   ]
  },
  {
   "cell_type": "code",
   "execution_count": 63,
   "id": "688da53b",
   "metadata": {},
   "outputs": [
    {
     "data": {
      "application/vnd.jupyter.widget-view+json": {
       "model_id": "16e3e04101534160be3ef120f0843690",
       "version_major": 2,
       "version_minor": 0
      },
      "text/plain": [
       "  0%|          | 0/2000 [00:00<?, ?it/s]"
      ]
     },
     "metadata": {},
     "output_type": "display_data"
    },
    {
     "data": {
      "image/png": "[encoded data removed]",
      "text/plain": [
       "<Figure size 432x288 with 1 Axes>"
      ]
     },
     "metadata": {
      "needs_background": "light"
     },
     "output_type": "display_data"
    }
   ],
   "source": [
    "booted_data = get_bootstrap(ab_test['views'], ab_control['views'], boot_it = 2000)"
   ]
  },
  {
   "cell_type": "code",
   "execution_count": 64,
   "id": "11039ae4",
   "metadata": {},
   "outputs": [
    {
     "data": {
      "text/html": [
       "<div>\n",
       "<style scoped>\n",
       "    .dataframe tbody tr th:only-of-type {\n",
       "        vertical-align: middle;\n",
       "    }\n",
       "\n",
       "    .dataframe tbody tr th {\n",
       "        vertical-align: top;\n",
       "    }\n",
       "\n",
       "    .dataframe thead th {\n",
       "        text-align: right;\n",
       "    }\n",
       "</style>\n",
       "<table border=\"1\" class=\"dataframe\">\n",
       "  <thead>\n",
       "    <tr style=\"text-align: right;\">\n",
       "      <th></th>\n",
       "      <th>0</th>\n",
       "    </tr>\n",
       "  </thead>\n",
       "  <tbody>\n",
       "    <tr>\n",
       "      <th>0.0250</th>\n",
       "      <td>-0.0468</td>\n",
       "    </tr>\n",
       "    <tr>\n",
       "      <th>0.9750</th>\n",
       "      <td>0.1115</td>\n",
       "    </tr>\n",
       "  </tbody>\n",
       "</table>\n",
       "</div>"
      ],
      "text/plain": [
       "             0\n",
       "0.0250 -0.0468\n",
       "0.9750  0.1115"
      ]
     },
     "execution_count": 64,
     "metadata": {},
     "output_type": "execute_result"
    }
   ],
   "source": [
    "booted_data[\"ci\"]"
   ]
  },
  {
   "cell_type": "code",
   "execution_count": null,
   "id": "e6dbfd5d",
   "metadata": {},
   "outputs": [],
   "source": [
    "#получили аналогичные показатели ДИ как в первом способе (-0.04 и 0.11)"
   ]
  },
  {
   "cell_type": "code",
   "execution_count": 65,
   "id": "ac32181e",
   "metadata": {},
   "outputs": [
    {
     "data": {
      "text/plain": [
       "0.42411506170457414"
      ]
     },
     "execution_count": 65,
     "metadata": {},
     "output_type": "execute_result"
    }
   ],
   "source": [
    "booted_data[\"p_value\"]"
   ]
  },
  {
   "cell_type": "markdown",
   "id": "4d3a4678",
   "metadata": {},
   "source": [
    "- p-value > 0.05\n",
    "\n",
    "\n",
    "- 0 принадлежит доверительному интервалу, следовательно, __статистически значимых различий в средних показателях просмотров страниц в контрольной и тестовой группе нет.__\n",
    "\n",
    "\n",
    "- Подтверждаем нулевую гипотезу Н0."
   ]
  },
  {
   "cell_type": "markdown",
   "id": "2151eb8b",
   "metadata": {},
   "source": [
    "-"
   ]
  },
  {
   "cell_type": "markdown",
   "id": "1461802f",
   "metadata": {},
   "source": [
    "# __АВ тестирование по метрике кликов (clicks) в группах__"
   ]
  },
  {
   "cell_type": "markdown",
   "id": "56866b51",
   "metadata": {},
   "source": [
    "- __Нулевая  гипотеза Н0__ - различий в средних показателях кликов в тестовой и контрольной группах нет.\n",
    "\n",
    "\n",
    "- __Альтернативная гипотеза Н1__ - есть статистически значимые отличия в средних показателях кликов в группах теста и контроля."
   ]
  },
  {
   "cell_type": "code",
   "execution_count": 88,
   "id": "e91ef964",
   "metadata": {},
   "outputs": [
    {
     "data": {
      "text/html": [
       "<div>\n",
       "<style scoped>\n",
       "    .dataframe tbody tr th:only-of-type {\n",
       "        vertical-align: middle;\n",
       "    }\n",
       "\n",
       "    .dataframe tbody tr th {\n",
       "        vertical-align: top;\n",
       "    }\n",
       "\n",
       "    .dataframe thead th {\n",
       "        text-align: right;\n",
       "    }\n",
       "</style>\n",
       "<table border=\"1\" class=\"dataframe\">\n",
       "  <thead>\n",
       "    <tr style=\"text-align: right;\">\n",
       "      <th></th>\n",
       "      <th>count</th>\n",
       "      <th>median</th>\n",
       "      <th>mean</th>\n",
       "      <th>std</th>\n",
       "      <th>max</th>\n",
       "      <th>min</th>\n",
       "    </tr>\n",
       "    <tr>\n",
       "      <th>group</th>\n",
       "      <th></th>\n",
       "      <th></th>\n",
       "      <th></th>\n",
       "      <th></th>\n",
       "      <th></th>\n",
       "      <th></th>\n",
       "    </tr>\n",
       "  </thead>\n",
       "  <tbody>\n",
       "    <tr>\n",
       "      <th>control</th>\n",
       "      <td>40000</td>\n",
       "      <td>0.0000</td>\n",
       "      <td>0.3457</td>\n",
       "      <td>0.7099</td>\n",
       "      <td>16.0000</td>\n",
       "      <td>0.0000</td>\n",
       "    </tr>\n",
       "    <tr>\n",
       "      <th>test</th>\n",
       "      <td>40000</td>\n",
       "      <td>0.0000</td>\n",
       "      <td>0.4012</td>\n",
       "      <td>0.7795</td>\n",
       "      <td>21.0000</td>\n",
       "      <td>0.0000</td>\n",
       "    </tr>\n",
       "  </tbody>\n",
       "</table>\n",
       "</div>"
      ],
      "text/plain": [
       "         count  median   mean    std     max    min\n",
       "group                                              \n",
       "control  40000  0.0000 0.3457 0.7099 16.0000 0.0000\n",
       "test     40000  0.0000 0.4012 0.7795 21.0000 0.0000"
      ]
     },
     "execution_count": 88,
     "metadata": {},
     "output_type": "execute_result"
    }
   ],
   "source": [
    "#сравним статистические показатели просмотров в тестовой и контрольной группах\n",
    "ab_data.groupby(\"group\").clicks.agg([\"count\", \"median\", \"mean\", \"std\", \"max\", \"min\"])"
   ]
  },
  {
   "cell_type": "code",
   "execution_count": 90,
   "id": "8b80dcfd",
   "metadata": {},
   "outputs": [
    {
     "data": {
      "text/plain": [
       "<AxesSubplot:>"
      ]
     },
     "execution_count": 90,
     "metadata": {},
     "output_type": "execute_result"
    },
    {
     "data": {
      "image/png": "[encoded data removed]",
      "text/plain": [
       "<Figure size 432x288 with 1 Axes>"
      ]
     },
     "metadata": {},
     "output_type": "display_data"
    }
   ],
   "source": [
    "ab_control.clicks.hist()"
   ]
  },
  {
   "cell_type": "code",
   "execution_count": 91,
   "id": "db3030fa",
   "metadata": {},
   "outputs": [
    {
     "data": {
      "text/plain": [
       "<AxesSubplot:>"
      ]
     },
     "execution_count": 91,
     "metadata": {},
     "output_type": "execute_result"
    },
    {
     "data": {
      "image/png": "[encoded data removed]",
      "text/plain": [
       "<Figure size 432x288 with 1 Axes>"
      ]
     },
     "metadata": {},
     "output_type": "display_data"
    }
   ],
   "source": [
    "ab_test.clicks.hist()"
   ]
  },
  {
   "cell_type": "code",
   "execution_count": 89,
   "id": "fc9e54e7",
   "metadata": {},
   "outputs": [
    {
     "name": "stdout",
     "output_type": "stream",
     "text": [
      "ShapiroResult(statistic=0.5189881324768066, pvalue=1.401298464324817e-45)\n"
     ]
    }
   ],
   "source": [
    "#проверим на нормальность распределения контрольную группу (SHAPIRO-WILK TEST)\n",
    "print(ss.shapiro(ab_control.clicks.sample(1000, random_state=17)))"
   ]
  },
  {
   "cell_type": "code",
   "execution_count": 94,
   "id": "7cfb413b",
   "metadata": {},
   "outputs": [
    {
     "name": "stdout",
     "output_type": "stream",
     "text": [
      "ShapiroResult(statistic=0.6003580093383789, pvalue=5.5351289340830274e-43)\n"
     ]
    }
   ],
   "source": [
    "#проверим на нормальность распределения тестовую группу (SHAPIRO-WILK TEST)\n",
    "print(ss.shapiro(ab_test.clicks.sample(1000, random_state=17)))"
   ]
  },
  {
   "cell_type": "markdown",
   "id": "a8e55862",
   "metadata": {},
   "source": [
    "- Полученные p-значения ниже определенного уровня значимости < 0.05, у нас есть достаточно доказательств, чтобы сказать, что данные выборки не получены из нормального распределения."
   ]
  },
  {
   "cell_type": "code",
   "execution_count": 114,
   "id": "235a21c9",
   "metadata": {},
   "outputs": [],
   "source": [
    "#убираем нули (потому что логариф от нуля выдаст ошибку)\n",
    "ab_control_new = ab_control.query('clicks>0')\n",
    "ab_test_new = ab_test.query('clicks>0')"
   ]
  },
  {
   "cell_type": "code",
   "execution_count": 115,
   "id": "578762cb",
   "metadata": {},
   "outputs": [],
   "source": [
    "#прологорифмируем данные для более симметричного распределения\n",
    "ab_control_new['clicks_log']=np.log(ab_control_new.clicks)\n",
    "ab_test_new['clicks_log']=np.log(ab_test_new.clicks)"
   ]
  },
  {
   "cell_type": "code",
   "execution_count": 116,
   "id": "a6f6b513",
   "metadata": {},
   "outputs": [
    {
     "data": {
      "text/html": [
       "<div>\n",
       "<style scoped>\n",
       "    .dataframe tbody tr th:only-of-type {\n",
       "        vertical-align: middle;\n",
       "    }\n",
       "\n",
       "    .dataframe tbody tr th {\n",
       "        vertical-align: top;\n",
       "    }\n",
       "\n",
       "    .dataframe thead th {\n",
       "        text-align: right;\n",
       "    }\n",
       "</style>\n",
       "<table border=\"1\" class=\"dataframe\">\n",
       "  <thead>\n",
       "    <tr style=\"text-align: right;\">\n",
       "      <th></th>\n",
       "      <th>user_id</th>\n",
       "      <th>group</th>\n",
       "      <th>views</th>\n",
       "      <th>clicks</th>\n",
       "      <th>ctr</th>\n",
       "      <th>views_log</th>\n",
       "      <th>clicks_log</th>\n",
       "    </tr>\n",
       "  </thead>\n",
       "  <tbody>\n",
       "    <tr>\n",
       "      <th>2</th>\n",
       "      <td>3</td>\n",
       "      <td>control</td>\n",
       "      <td>3.0000</td>\n",
       "      <td>1.0000</td>\n",
       "      <td>33.3333</td>\n",
       "      <td>1.0986</td>\n",
       "      <td>0.0000</td>\n",
       "    </tr>\n",
       "    <tr>\n",
       "      <th>6</th>\n",
       "      <td>7</td>\n",
       "      <td>control</td>\n",
       "      <td>5.0000</td>\n",
       "      <td>2.0000</td>\n",
       "      <td>40.0000</td>\n",
       "      <td>1.6094</td>\n",
       "      <td>0.6931</td>\n",
       "    </tr>\n",
       "    <tr>\n",
       "      <th>8</th>\n",
       "      <td>9</td>\n",
       "      <td>control</td>\n",
       "      <td>23.0000</td>\n",
       "      <td>1.0000</td>\n",
       "      <td>4.3478</td>\n",
       "      <td>3.1355</td>\n",
       "      <td>0.0000</td>\n",
       "    </tr>\n",
       "    <tr>\n",
       "      <th>10</th>\n",
       "      <td>11</td>\n",
       "      <td>control</td>\n",
       "      <td>4.0000</td>\n",
       "      <td>1.0000</td>\n",
       "      <td>25.0000</td>\n",
       "      <td>1.3863</td>\n",
       "      <td>0.0000</td>\n",
       "    </tr>\n",
       "    <tr>\n",
       "      <th>14</th>\n",
       "      <td>15</td>\n",
       "      <td>control</td>\n",
       "      <td>17.0000</td>\n",
       "      <td>1.0000</td>\n",
       "      <td>5.8824</td>\n",
       "      <td>2.8332</td>\n",
       "      <td>0.0000</td>\n",
       "    </tr>\n",
       "  </tbody>\n",
       "</table>\n",
       "</div>"
      ],
      "text/plain": [
       "    user_id    group   views  clicks     ctr  views_log  clicks_log\n",
       "2         3  control  3.0000  1.0000 33.3333     1.0986      0.0000\n",
       "6         7  control  5.0000  2.0000 40.0000     1.6094      0.6931\n",
       "8         9  control 23.0000  1.0000  4.3478     3.1355      0.0000\n",
       "10       11  control  4.0000  1.0000 25.0000     1.3863      0.0000\n",
       "14       15  control 17.0000  1.0000  5.8824     2.8332      0.0000"
      ]
     },
     "execution_count": 116,
     "metadata": {},
     "output_type": "execute_result"
    }
   ],
   "source": [
    "ab_control_new.head()"
   ]
  },
  {
   "cell_type": "code",
   "execution_count": 117,
   "id": "ed8a55d8",
   "metadata": {},
   "outputs": [
    {
     "data": {
      "text/plain": [
       "<AxesSubplot:>"
      ]
     },
     "execution_count": 117,
     "metadata": {},
     "output_type": "execute_result"
    },
    {
     "data": {
      "image/png": "[encoded data removed]",
      "text/plain": [
       "<Figure size 432x288 with 1 Axes>"
      ]
     },
     "metadata": {},
     "output_type": "display_data"
    }
   ],
   "source": [
    "ab_control_new.clicks_log.hist()"
   ]
  },
  {
   "cell_type": "code",
   "execution_count": 118,
   "id": "f77244cd",
   "metadata": {},
   "outputs": [
    {
     "data": {
      "text/html": [
       "<div>\n",
       "<style scoped>\n",
       "    .dataframe tbody tr th:only-of-type {\n",
       "        vertical-align: middle;\n",
       "    }\n",
       "\n",
       "    .dataframe tbody tr th {\n",
       "        vertical-align: top;\n",
       "    }\n",
       "\n",
       "    .dataframe thead th {\n",
       "        text-align: right;\n",
       "    }\n",
       "</style>\n",
       "<table border=\"1\" class=\"dataframe\">\n",
       "  <thead>\n",
       "    <tr style=\"text-align: right;\">\n",
       "      <th></th>\n",
       "      <th>user_id</th>\n",
       "      <th>group</th>\n",
       "      <th>views</th>\n",
       "      <th>clicks</th>\n",
       "      <th>ctr</th>\n",
       "      <th>views_log</th>\n",
       "      <th>clicks_log</th>\n",
       "    </tr>\n",
       "  </thead>\n",
       "  <tbody>\n",
       "    <tr>\n",
       "      <th>40005</th>\n",
       "      <td>40006</td>\n",
       "      <td>test</td>\n",
       "      <td>17.0000</td>\n",
       "      <td>2.0000</td>\n",
       "      <td>11.7647</td>\n",
       "      <td>2.8332</td>\n",
       "      <td>0.6931</td>\n",
       "    </tr>\n",
       "    <tr>\n",
       "      <th>40007</th>\n",
       "      <td>40008</td>\n",
       "      <td>test</td>\n",
       "      <td>6.0000</td>\n",
       "      <td>1.0000</td>\n",
       "      <td>16.6667</td>\n",
       "      <td>1.7918</td>\n",
       "      <td>0.0000</td>\n",
       "    </tr>\n",
       "    <tr>\n",
       "      <th>40009</th>\n",
       "      <td>40010</td>\n",
       "      <td>test</td>\n",
       "      <td>2.0000</td>\n",
       "      <td>1.0000</td>\n",
       "      <td>50.0000</td>\n",
       "      <td>0.6931</td>\n",
       "      <td>0.0000</td>\n",
       "    </tr>\n",
       "    <tr>\n",
       "      <th>40012</th>\n",
       "      <td>40013</td>\n",
       "      <td>test</td>\n",
       "      <td>35.0000</td>\n",
       "      <td>3.0000</td>\n",
       "      <td>8.5714</td>\n",
       "      <td>3.5553</td>\n",
       "      <td>1.0986</td>\n",
       "    </tr>\n",
       "    <tr>\n",
       "      <th>40019</th>\n",
       "      <td>40020</td>\n",
       "      <td>test</td>\n",
       "      <td>16.0000</td>\n",
       "      <td>1.0000</td>\n",
       "      <td>6.2500</td>\n",
       "      <td>2.7726</td>\n",
       "      <td>0.0000</td>\n",
       "    </tr>\n",
       "  </tbody>\n",
       "</table>\n",
       "</div>"
      ],
      "text/plain": [
       "       user_id group   views  clicks     ctr  views_log  clicks_log\n",
       "40005    40006  test 17.0000  2.0000 11.7647     2.8332      0.6931\n",
       "40007    40008  test  6.0000  1.0000 16.6667     1.7918      0.0000\n",
       "40009    40010  test  2.0000  1.0000 50.0000     0.6931      0.0000\n",
       "40012    40013  test 35.0000  3.0000  8.5714     3.5553      1.0986\n",
       "40019    40020  test 16.0000  1.0000  6.2500     2.7726      0.0000"
      ]
     },
     "execution_count": 118,
     "metadata": {},
     "output_type": "execute_result"
    }
   ],
   "source": [
    "ab_test_new.head()"
   ]
  },
  {
   "cell_type": "code",
   "execution_count": 119,
   "id": "f38299da",
   "metadata": {},
   "outputs": [
    {
     "data": {
      "text/plain": [
       "<AxesSubplot:>"
      ]
     },
     "execution_count": 119,
     "metadata": {},
     "output_type": "execute_result"
    },
    {
     "data": {
      "image/png": "[encoded data removed]",
      "text/plain": [
       "<Figure size 432x288 with 1 Axes>"
      ]
     },
     "metadata": {},
     "output_type": "display_data"
    }
   ],
   "source": [
    "ab_test_new.clicks_log.hist()"
   ]
  },
  {
   "cell_type": "code",
   "execution_count": 120,
   "id": "524c8a68",
   "metadata": {},
   "outputs": [
    {
     "data": {
      "text/plain": [
       "Ttest_indResult(statistic=-4.383586763023549, pvalue=1.172814976869036e-05)"
      ]
     },
     "execution_count": 120,
     "metadata": {},
     "output_type": "execute_result"
    }
   ],
   "source": [
    "#критерием t-стьюдента смотрим есть ли различия в средних, либо нет\n",
    "stats.ttest_ind(ab_control_new.clicks_log, ab_test_new.clicks_log)"
   ]
  },
  {
   "cell_type": "markdown",
   "id": "2bc6f989",
   "metadata": {},
   "source": [
    "- pvalue < 0.05, отвергаем нулевую гипотезу о том, что различий в средних нет (между кликами в тестовой и контрольной группах)."
   ]
  },
  {
   "cell_type": "code",
   "execution_count": 122,
   "id": "b4bfec0f",
   "metadata": {},
   "outputs": [
    {
     "data": {
      "text/plain": [
       "MannwhitneyuResult(statistic=826743912.0, pvalue=1.0192425013680013e-25)"
      ]
     },
     "execution_count": 122,
     "metadata": {},
     "output_type": "execute_result"
    }
   ],
   "source": [
    "#Критерий Манна-Уитни\n",
    "mannwhitneyu(ab_test.clicks, ab_control.clicks)\n",
    "#клики и в контрольной, и в тестовой группе"
   ]
  },
  {
   "cell_type": "code",
   "execution_count": 123,
   "id": "c0f73389",
   "metadata": {},
   "outputs": [],
   "source": [
    "#pvalue < 0.05, делаем вывод, что разница в средних есть, отвергаем Н0"
   ]
  },
  {
   "cell_type": "markdown",
   "id": "13ad633f",
   "metadata": {},
   "source": [
    "# __Оценка методом бутстрапа__"
   ]
  },
  {
   "cell_type": "code",
   "execution_count": 124,
   "id": "e2731ba9",
   "metadata": {},
   "outputs": [
    {
     "data": {
      "text/plain": [
       "(40000,)"
      ]
     },
     "execution_count": 124,
     "metadata": {},
     "output_type": "execute_result"
    }
   ],
   "source": [
    "test_new = np.array(ab_test['clicks'])\n",
    "test_new.shape"
   ]
  },
  {
   "cell_type": "code",
   "execution_count": 125,
   "id": "a77e22dc",
   "metadata": {},
   "outputs": [
    {
     "data": {
      "text/plain": [
       "(40000,)"
      ]
     },
     "execution_count": 125,
     "metadata": {},
     "output_type": "execute_result"
    }
   ],
   "source": [
    "control_new = np.array(ab_control['clicks'])\n",
    "control_new.shape"
   ]
  },
  {
   "cell_type": "code",
   "execution_count": 127,
   "id": "4ca3bf29",
   "metadata": {},
   "outputs": [],
   "source": [
    "array_new = bs.bootstrap_ab(test = test_new, ctrl = control_new\n",
    "                              , stat_func = bs_stats.mean\n",
    "                              , compare_func = bs_compare.difference\n",
    "                              , return_distribution = True)"
   ]
  },
  {
   "cell_type": "code",
   "execution_count": 128,
   "id": "3b1e4fa4",
   "metadata": {},
   "outputs": [
    {
     "data": {
      "text/plain": [
       "array([[<AxesSubplot:title={'center':'0'}>]], dtype=object)"
      ]
     },
     "execution_count": 128,
     "metadata": {},
     "output_type": "execute_result"
    },
    {
     "data": {
      "image/png": "[encoded data removed]",
      "text/plain": [
       "<Figure size 432x288 with 1 Axes>"
      ]
     },
     "metadata": {},
     "output_type": "display_data"
    }
   ],
   "source": [
    "pd.DataFrame(array_new).hist()"
   ]
  },
  {
   "cell_type": "code",
   "execution_count": 129,
   "id": "db281979",
   "metadata": {},
   "outputs": [
    {
     "data": {
      "text/plain": [
       "0.04532437500000001"
      ]
     },
     "execution_count": 129,
     "metadata": {},
     "output_type": "execute_result"
    }
   ],
   "source": [
    "np.percentile(array_new, 2.5)"
   ]
  },
  {
   "cell_type": "code",
   "execution_count": 130,
   "id": "6128e4d7",
   "metadata": {},
   "outputs": [
    {
     "data": {
      "text/plain": [
       "0.06577500000000003"
      ]
     },
     "execution_count": 130,
     "metadata": {},
     "output_type": "execute_result"
    }
   ],
   "source": [
    "np.percentile(array_new, 97.5)"
   ]
  },
  {
   "cell_type": "markdown",
   "id": "95300040",
   "metadata": {},
   "source": [
    "- На уровне значимости 5% в данном случае 95% доверительный интервал разности квантилей между группами равен от __0.04 до 0.06__. \n",
    "\n",
    "\n",
    "- Ноль находится вне доверительного интервала, значит, отличия в просмотрах между тестовой и контрольной групах статистически значимы."
   ]
  },
  {
   "cell_type": "code",
   "execution_count": 131,
   "id": "55859290",
   "metadata": {},
   "outputs": [
    {
     "data": {
      "application/vnd.jupyter.widget-view+json": {
       "model_id": "efc523f8b7154558967d43f4346020b2",
       "version_major": 2,
       "version_minor": 0
      },
      "text/plain": [
       "  0%|          | 0/2000 [00:00<?, ?it/s]"
      ]
     },
     "metadata": {},
     "output_type": "display_data"
    },
    {
     "data": {
      "image/png": "[encoded data removed]",
      "text/plain": [
       "<Figure size 432x288 with 1 Axes>"
      ]
     },
     "metadata": {},
     "output_type": "display_data"
    }
   ],
   "source": [
    "#используем функцию get_bootstrap\n",
    "booted_data = get_bootstrap(ab_test['clicks'], ab_control['clicks'], boot_it = 2000)"
   ]
  },
  {
   "cell_type": "code",
   "execution_count": 132,
   "id": "cc896782",
   "metadata": {},
   "outputs": [
    {
     "data": {
      "text/html": [
       "<div>\n",
       "<style scoped>\n",
       "    .dataframe tbody tr th:only-of-type {\n",
       "        vertical-align: middle;\n",
       "    }\n",
       "\n",
       "    .dataframe tbody tr th {\n",
       "        vertical-align: top;\n",
       "    }\n",
       "\n",
       "    .dataframe thead th {\n",
       "        text-align: right;\n",
       "    }\n",
       "</style>\n",
       "<table border=\"1\" class=\"dataframe\">\n",
       "  <thead>\n",
       "    <tr style=\"text-align: right;\">\n",
       "      <th></th>\n",
       "      <th>0</th>\n",
       "    </tr>\n",
       "  </thead>\n",
       "  <tbody>\n",
       "    <tr>\n",
       "      <th>0.0250</th>\n",
       "      <td>0.0448</td>\n",
       "    </tr>\n",
       "    <tr>\n",
       "      <th>0.9750</th>\n",
       "      <td>0.0660</td>\n",
       "    </tr>\n",
       "  </tbody>\n",
       "</table>\n",
       "</div>"
      ],
      "text/plain": [
       "            0\n",
       "0.0250 0.0448\n",
       "0.9750 0.0660"
      ]
     },
     "execution_count": 132,
     "metadata": {},
     "output_type": "execute_result"
    }
   ],
   "source": [
    "booted_data[\"ci\"]"
   ]
  },
  {
   "cell_type": "code",
   "execution_count": 133,
   "id": "b5a9bdcb",
   "metadata": {},
   "outputs": [],
   "source": [
    "#получили аналогичные показатели ДИ как в первом способе (0.04 и 0.06)"
   ]
  },
  {
   "cell_type": "code",
   "execution_count": 134,
   "id": "4c64b499",
   "metadata": {},
   "outputs": [
    {
     "data": {
      "text/plain": [
       "4.2934312839767475e-26"
      ]
     },
     "execution_count": 134,
     "metadata": {},
     "output_type": "execute_result"
    }
   ],
   "source": [
    "booted_data[\"p_value\"]"
   ]
  },
  {
   "cell_type": "markdown",
   "id": "c111a482",
   "metadata": {},
   "source": [
    "- p-value < 0.05\n",
    "\n",
    "\n",
    "- 0 не принадлежит доверительному интервалу, следовательно, __есть статистически значимые различия в средних показателях кликов страниц в контрольной и тестовой группе.__\n",
    "\n",
    "\n",
    "- Отвергаем нулевую гипотезу Н0, принимаем альтернативную гипотезу о том, что __есть различия в показателях кликов страниц в группах теста и контроля.__"
   ]
  }
 ],
 "metadata": {
  "kernelspec": {
   "display_name": "Python 3 (ipykernel)",
   "language": "python",
   "name": "python3"
  },
  "language_info": {
   "codemirror_mode": {
    "name": "ipython",
    "version": 3
   },
   "file_extension": ".py",
   "mimetype": "text/x-python",
   "name": "python",
   "nbconvert_exporter": "python",
   "pygments_lexer": "ipython3",
   "version": "3.9.13"
  }
 },
 "nbformat": 4,
 "nbformat_minor": 5
}
