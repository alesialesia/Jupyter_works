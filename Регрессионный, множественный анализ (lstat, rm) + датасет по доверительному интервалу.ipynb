{
 "cells": [
  {
   "cell_type": "code",
   "execution_count": 8,
   "id": "da2ce7fe",
   "metadata": {},
   "outputs": [],
   "source": [
    "import pandas as pd\n",
    "import numpy as np\n",
    "import matplotlib.pyplot as plt\n",
    "import seaborn as sns\n",
    "from scipy.stats import kurtosis\n",
    "from scipy.stats import skew\n",
    "from scipy import stats\n",
    "import scipy.special as sps\n",
    "import warnings\n",
    "import statsmodels.api as sm\n"
   ]
  },
  {
   "cell_type": "code",
   "execution_count": 2,
   "id": "138a5056",
   "metadata": {},
   "outputs": [],
   "source": [
    "df = pd.read_excel('price.xlsx')"
   ]
  },
  {
   "cell_type": "code",
   "execution_count": 3,
   "id": "80b0921c",
   "metadata": {},
   "outputs": [
    {
     "data": {
      "text/html": [
       "<div>\n",
       "<style scoped>\n",
       "    .dataframe tbody tr th:only-of-type {\n",
       "        vertical-align: middle;\n",
       "    }\n",
       "\n",
       "    .dataframe tbody tr th {\n",
       "        vertical-align: top;\n",
       "    }\n",
       "\n",
       "    .dataframe thead th {\n",
       "        text-align: right;\n",
       "    }\n",
       "</style>\n",
       "<table border=\"1\" class=\"dataframe\">\n",
       "  <thead>\n",
       "    <tr style=\"text-align: right;\">\n",
       "      <th></th>\n",
       "      <th>unnamed: 0</th>\n",
       "      <th>crim</th>\n",
       "      <th>zn</th>\n",
       "      <th>indus</th>\n",
       "      <th>chas</th>\n",
       "      <th>nox</th>\n",
       "      <th>rm</th>\n",
       "      <th>age</th>\n",
       "      <th>dis</th>\n",
       "      <th>rad</th>\n",
       "      <th>tax</th>\n",
       "      <th>ptratio</th>\n",
       "      <th>b</th>\n",
       "      <th>lstat</th>\n",
       "      <th>price</th>\n",
       "    </tr>\n",
       "  </thead>\n",
       "  <tbody>\n",
       "    <tr>\n",
       "      <th>0</th>\n",
       "      <td>0</td>\n",
       "      <td>0.00632</td>\n",
       "      <td>18.0</td>\n",
       "      <td>2.31</td>\n",
       "      <td>0</td>\n",
       "      <td>0.538</td>\n",
       "      <td>6.575</td>\n",
       "      <td>65.2</td>\n",
       "      <td>4.0900</td>\n",
       "      <td>1</td>\n",
       "      <td>296</td>\n",
       "      <td>15.3</td>\n",
       "      <td>396.90</td>\n",
       "      <td>4.98</td>\n",
       "      <td>24.0</td>\n",
       "    </tr>\n",
       "    <tr>\n",
       "      <th>1</th>\n",
       "      <td>1</td>\n",
       "      <td>0.02731</td>\n",
       "      <td>0.0</td>\n",
       "      <td>7.07</td>\n",
       "      <td>0</td>\n",
       "      <td>0.469</td>\n",
       "      <td>6.421</td>\n",
       "      <td>78.9</td>\n",
       "      <td>4.9671</td>\n",
       "      <td>2</td>\n",
       "      <td>242</td>\n",
       "      <td>17.8</td>\n",
       "      <td>396.90</td>\n",
       "      <td>9.14</td>\n",
       "      <td>21.6</td>\n",
       "    </tr>\n",
       "    <tr>\n",
       "      <th>2</th>\n",
       "      <td>2</td>\n",
       "      <td>0.02729</td>\n",
       "      <td>0.0</td>\n",
       "      <td>7.07</td>\n",
       "      <td>0</td>\n",
       "      <td>0.469</td>\n",
       "      <td>7.185</td>\n",
       "      <td>61.1</td>\n",
       "      <td>4.9671</td>\n",
       "      <td>2</td>\n",
       "      <td>242</td>\n",
       "      <td>17.8</td>\n",
       "      <td>392.83</td>\n",
       "      <td>4.03</td>\n",
       "      <td>34.7</td>\n",
       "    </tr>\n",
       "    <tr>\n",
       "      <th>3</th>\n",
       "      <td>3</td>\n",
       "      <td>0.03237</td>\n",
       "      <td>0.0</td>\n",
       "      <td>2.18</td>\n",
       "      <td>0</td>\n",
       "      <td>0.458</td>\n",
       "      <td>6.998</td>\n",
       "      <td>45.8</td>\n",
       "      <td>6.0622</td>\n",
       "      <td>3</td>\n",
       "      <td>222</td>\n",
       "      <td>18.7</td>\n",
       "      <td>394.63</td>\n",
       "      <td>2.94</td>\n",
       "      <td>33.4</td>\n",
       "    </tr>\n",
       "    <tr>\n",
       "      <th>4</th>\n",
       "      <td>4</td>\n",
       "      <td>0.06905</td>\n",
       "      <td>0.0</td>\n",
       "      <td>2.18</td>\n",
       "      <td>0</td>\n",
       "      <td>0.458</td>\n",
       "      <td>7.147</td>\n",
       "      <td>54.2</td>\n",
       "      <td>6.0622</td>\n",
       "      <td>3</td>\n",
       "      <td>222</td>\n",
       "      <td>18.7</td>\n",
       "      <td>396.90</td>\n",
       "      <td>5.33</td>\n",
       "      <td>36.2</td>\n",
       "    </tr>\n",
       "  </tbody>\n",
       "</table>\n",
       "</div>"
      ],
      "text/plain": [
       "   unnamed: 0     crim    zn  indus  chas    nox     rm   age     dis  rad  \\\n",
       "0           0  0.00632  18.0   2.31     0  0.538  6.575  65.2  4.0900    1   \n",
       "1           1  0.02731   0.0   7.07     0  0.469  6.421  78.9  4.9671    2   \n",
       "2           2  0.02729   0.0   7.07     0  0.469  7.185  61.1  4.9671    2   \n",
       "3           3  0.03237   0.0   2.18     0  0.458  6.998  45.8  6.0622    3   \n",
       "4           4  0.06905   0.0   2.18     0  0.458  7.147  54.2  6.0622    3   \n",
       "\n",
       "   tax  ptratio       b  lstat  price  \n",
       "0  296     15.3  396.90   4.98   24.0  \n",
       "1  242     17.8  396.90   9.14   21.6  \n",
       "2  242     17.8  392.83   4.03   34.7  \n",
       "3  222     18.7  394.63   2.94   33.4  \n",
       "4  222     18.7  396.90   5.33   36.2  "
      ]
     },
     "execution_count": 3,
     "metadata": {},
     "output_type": "execute_result"
    }
   ],
   "source": [
    "df.columns = map(str.lower, df.columns)\n",
    "df.head()"
   ]
  },
  {
   "cell_type": "code",
   "execution_count": 4,
   "id": "367da6f8",
   "metadata": {},
   "outputs": [],
   "source": [
    "research_list = [\"crim\", \"zn\", \"indus\", \"nox\", \"rm\", \"age\", \"dis\", \"rad\", \"lstat\", \"price\"]"
   ]
  },
  {
   "cell_type": "markdown",
   "id": "688e9574",
   "metadata": {},
   "source": [
    "__Корреляционная матрица__"
   ]
  },
  {
   "cell_type": "code",
   "execution_count": 5,
   "id": "c078f90c",
   "metadata": {},
   "outputs": [
    {
     "data": {
      "text/html": [
       "<div>\n",
       "<style scoped>\n",
       "    .dataframe tbody tr th:only-of-type {\n",
       "        vertical-align: middle;\n",
       "    }\n",
       "\n",
       "    .dataframe tbody tr th {\n",
       "        vertical-align: top;\n",
       "    }\n",
       "\n",
       "    .dataframe thead th {\n",
       "        text-align: right;\n",
       "    }\n",
       "</style>\n",
       "<table border=\"1\" class=\"dataframe\">\n",
       "  <thead>\n",
       "    <tr style=\"text-align: right;\">\n",
       "      <th></th>\n",
       "      <th>crim</th>\n",
       "      <th>zn</th>\n",
       "      <th>indus</th>\n",
       "      <th>nox</th>\n",
       "      <th>rm</th>\n",
       "      <th>age</th>\n",
       "      <th>dis</th>\n",
       "      <th>rad</th>\n",
       "      <th>lstat</th>\n",
       "      <th>price</th>\n",
       "    </tr>\n",
       "  </thead>\n",
       "  <tbody>\n",
       "    <tr>\n",
       "      <th>crim</th>\n",
       "      <td>1.000000</td>\n",
       "      <td>-0.200469</td>\n",
       "      <td>0.406583</td>\n",
       "      <td>0.420972</td>\n",
       "      <td>-0.219247</td>\n",
       "      <td>0.352734</td>\n",
       "      <td>-0.379670</td>\n",
       "      <td>0.625505</td>\n",
       "      <td>0.455621</td>\n",
       "      <td>-0.388305</td>\n",
       "    </tr>\n",
       "    <tr>\n",
       "      <th>zn</th>\n",
       "      <td>-0.200469</td>\n",
       "      <td>1.000000</td>\n",
       "      <td>-0.533828</td>\n",
       "      <td>-0.516604</td>\n",
       "      <td>0.311991</td>\n",
       "      <td>-0.569537</td>\n",
       "      <td>0.664408</td>\n",
       "      <td>-0.311948</td>\n",
       "      <td>-0.412995</td>\n",
       "      <td>0.360445</td>\n",
       "    </tr>\n",
       "    <tr>\n",
       "      <th>indus</th>\n",
       "      <td>0.406583</td>\n",
       "      <td>-0.533828</td>\n",
       "      <td>1.000000</td>\n",
       "      <td>0.763651</td>\n",
       "      <td>-0.391676</td>\n",
       "      <td>0.644779</td>\n",
       "      <td>-0.708027</td>\n",
       "      <td>0.595129</td>\n",
       "      <td>0.603800</td>\n",
       "      <td>-0.483725</td>\n",
       "    </tr>\n",
       "    <tr>\n",
       "      <th>nox</th>\n",
       "      <td>0.420972</td>\n",
       "      <td>-0.516604</td>\n",
       "      <td>0.763651</td>\n",
       "      <td>1.000000</td>\n",
       "      <td>-0.302188</td>\n",
       "      <td>0.731470</td>\n",
       "      <td>-0.769230</td>\n",
       "      <td>0.611441</td>\n",
       "      <td>0.590879</td>\n",
       "      <td>-0.427321</td>\n",
       "    </tr>\n",
       "    <tr>\n",
       "      <th>rm</th>\n",
       "      <td>-0.219247</td>\n",
       "      <td>0.311991</td>\n",
       "      <td>-0.391676</td>\n",
       "      <td>-0.302188</td>\n",
       "      <td>1.000000</td>\n",
       "      <td>-0.240265</td>\n",
       "      <td>0.205246</td>\n",
       "      <td>-0.209847</td>\n",
       "      <td>-0.613808</td>\n",
       "      <td>0.695360</td>\n",
       "    </tr>\n",
       "    <tr>\n",
       "      <th>age</th>\n",
       "      <td>0.352734</td>\n",
       "      <td>-0.569537</td>\n",
       "      <td>0.644779</td>\n",
       "      <td>0.731470</td>\n",
       "      <td>-0.240265</td>\n",
       "      <td>1.000000</td>\n",
       "      <td>-0.747881</td>\n",
       "      <td>0.456022</td>\n",
       "      <td>0.602339</td>\n",
       "      <td>-0.376955</td>\n",
       "    </tr>\n",
       "    <tr>\n",
       "      <th>dis</th>\n",
       "      <td>-0.379670</td>\n",
       "      <td>0.664408</td>\n",
       "      <td>-0.708027</td>\n",
       "      <td>-0.769230</td>\n",
       "      <td>0.205246</td>\n",
       "      <td>-0.747881</td>\n",
       "      <td>1.000000</td>\n",
       "      <td>-0.494588</td>\n",
       "      <td>-0.496996</td>\n",
       "      <td>0.249929</td>\n",
       "    </tr>\n",
       "    <tr>\n",
       "      <th>rad</th>\n",
       "      <td>0.625505</td>\n",
       "      <td>-0.311948</td>\n",
       "      <td>0.595129</td>\n",
       "      <td>0.611441</td>\n",
       "      <td>-0.209847</td>\n",
       "      <td>0.456022</td>\n",
       "      <td>-0.494588</td>\n",
       "      <td>1.000000</td>\n",
       "      <td>0.488676</td>\n",
       "      <td>-0.381626</td>\n",
       "    </tr>\n",
       "    <tr>\n",
       "      <th>lstat</th>\n",
       "      <td>0.455621</td>\n",
       "      <td>-0.412995</td>\n",
       "      <td>0.603800</td>\n",
       "      <td>0.590879</td>\n",
       "      <td>-0.613808</td>\n",
       "      <td>0.602339</td>\n",
       "      <td>-0.496996</td>\n",
       "      <td>0.488676</td>\n",
       "      <td>1.000000</td>\n",
       "      <td>-0.737663</td>\n",
       "    </tr>\n",
       "    <tr>\n",
       "      <th>price</th>\n",
       "      <td>-0.388305</td>\n",
       "      <td>0.360445</td>\n",
       "      <td>-0.483725</td>\n",
       "      <td>-0.427321</td>\n",
       "      <td>0.695360</td>\n",
       "      <td>-0.376955</td>\n",
       "      <td>0.249929</td>\n",
       "      <td>-0.381626</td>\n",
       "      <td>-0.737663</td>\n",
       "      <td>1.000000</td>\n",
       "    </tr>\n",
       "  </tbody>\n",
       "</table>\n",
       "</div>"
      ],
      "text/plain": [
       "           crim        zn     indus       nox        rm       age       dis  \\\n",
       "crim   1.000000 -0.200469  0.406583  0.420972 -0.219247  0.352734 -0.379670   \n",
       "zn    -0.200469  1.000000 -0.533828 -0.516604  0.311991 -0.569537  0.664408   \n",
       "indus  0.406583 -0.533828  1.000000  0.763651 -0.391676  0.644779 -0.708027   \n",
       "nox    0.420972 -0.516604  0.763651  1.000000 -0.302188  0.731470 -0.769230   \n",
       "rm    -0.219247  0.311991 -0.391676 -0.302188  1.000000 -0.240265  0.205246   \n",
       "age    0.352734 -0.569537  0.644779  0.731470 -0.240265  1.000000 -0.747881   \n",
       "dis   -0.379670  0.664408 -0.708027 -0.769230  0.205246 -0.747881  1.000000   \n",
       "rad    0.625505 -0.311948  0.595129  0.611441 -0.209847  0.456022 -0.494588   \n",
       "lstat  0.455621 -0.412995  0.603800  0.590879 -0.613808  0.602339 -0.496996   \n",
       "price -0.388305  0.360445 -0.483725 -0.427321  0.695360 -0.376955  0.249929   \n",
       "\n",
       "            rad     lstat     price  \n",
       "crim   0.625505  0.455621 -0.388305  \n",
       "zn    -0.311948 -0.412995  0.360445  \n",
       "indus  0.595129  0.603800 -0.483725  \n",
       "nox    0.611441  0.590879 -0.427321  \n",
       "rm    -0.209847 -0.613808  0.695360  \n",
       "age    0.456022  0.602339 -0.376955  \n",
       "dis   -0.494588 -0.496996  0.249929  \n",
       "rad    1.000000  0.488676 -0.381626  \n",
       "lstat  0.488676  1.000000 -0.737663  \n",
       "price -0.381626 -0.737663  1.000000  "
      ]
     },
     "execution_count": 5,
     "metadata": {},
     "output_type": "execute_result"
    }
   ],
   "source": [
    "corr_m = df[research_list].corr()\n",
    "corr_m"
   ]
  },
  {
   "cell_type": "markdown",
   "id": "d07e6c00",
   "metadata": {},
   "source": [
    "- смотрим на коэффициенты корреляции с price больше 0,5 \n",
    "- lstat -0.737663 (более низкий статус населения) и rm (среднее количество комнат в жилом помещении) 0.695360"
   ]
  },
  {
   "cell_type": "code",
   "execution_count": 20,
   "id": "1082fdfc",
   "metadata": {},
   "outputs": [
    {
     "name": "stdout",
     "output_type": "stream",
     "text": [
      "Коэффициент корреляции 0.6953599470715393\n"
     ]
    },
    {
     "data": {
      "image/png": "[encoded data removed]",
      "text/plain": [
       "<Figure size 432x288 with 1 Axes>"
      ]
     },
     "metadata": {
      "needs_background": "light"
     },
     "output_type": "display_data"
    },
    {
     "name": "stdout",
     "output_type": "stream",
     "text": [
      "Коэффициент корреляции -0.7376627261740151\n"
     ]
    },
    {
     "data": {
      "image/png": "[encoded data removed]",
      "text/plain": [
       "<Figure size 432x288 with 1 Axes>"
      ]
     },
     "metadata": {
      "needs_background": "light"
     },
     "output_type": "display_data"
    }
   ],
   "source": [
    "level > 0.5\n",
    "for i in research_list[:-1]:\n",
    "    curr_corr = df[i].corr(df.price)\n",
    "    if abs(curr_corr) >= level:\n",
    "        sns.scatterplot(x=\"price\", y=i, data=df)\n",
    "        print(\"Коэффициент корреляции \" + str(curr_corr))\n",
    "        plt.title(\"Связь между ценой и \"+str(i))\n",
    "        plt.show()"
   ]
  },
  {
   "cell_type": "markdown",
   "id": "31f3cde1",
   "metadata": {},
   "source": [
    "__Линейная модель регрессии с включением фактора Lstat__"
   ]
  },
  {
   "cell_type": "code",
   "execution_count": 6,
   "id": "e02d9ecd",
   "metadata": {},
   "outputs": [
    {
     "data": {
      "text/html": [
       "<div>\n",
       "<style scoped>\n",
       "    .dataframe tbody tr th:only-of-type {\n",
       "        vertical-align: middle;\n",
       "    }\n",
       "\n",
       "    .dataframe tbody tr th {\n",
       "        vertical-align: top;\n",
       "    }\n",
       "\n",
       "    .dataframe thead th {\n",
       "        text-align: right;\n",
       "    }\n",
       "</style>\n",
       "<table border=\"1\" class=\"dataframe\">\n",
       "  <thead>\n",
       "    <tr style=\"text-align: right;\">\n",
       "      <th></th>\n",
       "      <th>lstat</th>\n",
       "      <th>price</th>\n",
       "    </tr>\n",
       "  </thead>\n",
       "  <tbody>\n",
       "    <tr>\n",
       "      <th>0</th>\n",
       "      <td>4.98</td>\n",
       "      <td>24.0</td>\n",
       "    </tr>\n",
       "    <tr>\n",
       "      <th>1</th>\n",
       "      <td>9.14</td>\n",
       "      <td>21.6</td>\n",
       "    </tr>\n",
       "    <tr>\n",
       "      <th>2</th>\n",
       "      <td>4.03</td>\n",
       "      <td>34.7</td>\n",
       "    </tr>\n",
       "    <tr>\n",
       "      <th>3</th>\n",
       "      <td>2.94</td>\n",
       "      <td>33.4</td>\n",
       "    </tr>\n",
       "    <tr>\n",
       "      <th>4</th>\n",
       "      <td>5.33</td>\n",
       "      <td>36.2</td>\n",
       "    </tr>\n",
       "    <tr>\n",
       "      <th>...</th>\n",
       "      <td>...</td>\n",
       "      <td>...</td>\n",
       "    </tr>\n",
       "    <tr>\n",
       "      <th>501</th>\n",
       "      <td>9.67</td>\n",
       "      <td>22.4</td>\n",
       "    </tr>\n",
       "    <tr>\n",
       "      <th>502</th>\n",
       "      <td>9.08</td>\n",
       "      <td>20.6</td>\n",
       "    </tr>\n",
       "    <tr>\n",
       "      <th>503</th>\n",
       "      <td>5.64</td>\n",
       "      <td>23.9</td>\n",
       "    </tr>\n",
       "    <tr>\n",
       "      <th>504</th>\n",
       "      <td>6.48</td>\n",
       "      <td>22.0</td>\n",
       "    </tr>\n",
       "    <tr>\n",
       "      <th>505</th>\n",
       "      <td>7.88</td>\n",
       "      <td>11.9</td>\n",
       "    </tr>\n",
       "  </tbody>\n",
       "</table>\n",
       "<p>506 rows × 2 columns</p>\n",
       "</div>"
      ],
      "text/plain": [
       "     lstat  price\n",
       "0     4.98   24.0\n",
       "1     9.14   21.6\n",
       "2     4.03   34.7\n",
       "3     2.94   33.4\n",
       "4     5.33   36.2\n",
       "..     ...    ...\n",
       "501   9.67   22.4\n",
       "502   9.08   20.6\n",
       "503   5.64   23.9\n",
       "504   6.48   22.0\n",
       "505   7.88   11.9\n",
       "\n",
       "[506 rows x 2 columns]"
      ]
     },
     "execution_count": 6,
     "metadata": {},
     "output_type": "execute_result"
    }
   ],
   "source": [
    "df_lstat = df.loc[:, 'lstat':'price']\n",
    "df_lstat\n",
    "#lstat - независимая переменая X, price - зависимая переменная Y"
   ]
  },
  {
   "cell_type": "code",
   "execution_count": 26,
   "id": "6b8ea2ad",
   "metadata": {},
   "outputs": [
    {
     "data": {
      "text/plain": [
       "lstat    0\n",
       "price    0\n",
       "dtype: int64"
      ]
     },
     "execution_count": 26,
     "metadata": {},
     "output_type": "execute_result"
    }
   ],
   "source": [
    "#проверка нулевых значений\n",
    "df_lstat.isnull().sum()"
   ]
  },
  {
   "cell_type": "code",
   "execution_count": 8,
   "id": "26e3e0ad",
   "metadata": {},
   "outputs": [],
   "source": [
    "X = df_lstat[['lstat']]\n",
    "Y = df_lstat[['price']]"
   ]
  },
  {
   "cell_type": "code",
   "execution_count": 29,
   "id": "17087e56",
   "metadata": {},
   "outputs": [
    {
     "data": {
      "image/png": "[encoded data removed]",
      "text/plain": [
       "<Figure size 432x288 with 1 Axes>"
      ]
     },
     "metadata": {
      "needs_background": "light"
     },
     "output_type": "display_data"
    }
   ],
   "source": [
    "#строим scatter plot\n",
    "sns.scatterplot(data=df_lstat,x='lstat',y='price')\n",
    "plt.xlabel('lstat')\n",
    "plt.ylabel('price')\n",
    "plt.title('y vs. x')\n",
    "plt.show()"
   ]
  },
  {
   "cell_type": "code",
   "execution_count": 11,
   "id": "93ff94f8",
   "metadata": {},
   "outputs": [],
   "source": [
    "from sklearn.model_selection import train_test_split \n",
    "X_train, X_test, y_train, y_test = train_test_split(X, Y, test_size=0.2, random_state=0)\n",
    "#скрипт разделяет 80% данных на обучающий набор, а 20% данных – на набор тестов. "
   ]
  },
  {
   "cell_type": "code",
   "execution_count": 13,
   "id": "040d6951",
   "metadata": {},
   "outputs": [
    {
     "data": {
      "text/plain": [
       "LinearRegression()"
      ]
     },
     "execution_count": 13,
     "metadata": {},
     "output_type": "execute_result"
    }
   ],
   "source": [
    "from sklearn.linear_model import LinearRegression \n",
    "regressor = LinearRegression() \n",
    "regressor.fit(X_train, y_train)"
   ]
  },
  {
   "cell_type": "code",
   "execution_count": 14,
   "id": "00e13663",
   "metadata": {},
   "outputs": [
    {
     "name": "stdout",
     "output_type": "stream",
     "text": [
      "[34.76519272]\n"
     ]
    }
   ],
   "source": [
    "print(regressor.intercept_)\n",
    "#B0 value"
   ]
  },
  {
   "cell_type": "code",
   "execution_count": 15,
   "id": "3e312586",
   "metadata": {},
   "outputs": [
    {
     "name": "stdout",
     "output_type": "stream",
     "text": [
      "[[-0.95648761]]\n"
     ]
    }
   ],
   "source": [
    "print(regressor.coef_)\n",
    "#B1 value"
   ]
  },
  {
   "cell_type": "code",
   "execution_count": 16,
   "id": "e1bf744b",
   "metadata": {},
   "outputs": [
    {
     "name": "stdout",
     "output_type": "stream",
     "text": [
      "0.5439214616845225\n"
     ]
    }
   ],
   "source": [
    "print(regressor.score(X,Y))\n",
    "#r2 коэффициент детерминации"
   ]
  },
  {
   "cell_type": "markdown",
   "id": "2dc79138",
   "metadata": {},
   "source": [
    "- Коэффициент детерминации показывает, какая доля дисперсии результативного признака объясняется влиянием независимых переменных.\n",
    "\n",
    "\n",
    "- Чем ближе значение коэффициента к 1, тем сильнее зависимость.\n",
    "\n",
    "\n",
    "- В нашем случае r2 = 0,54 (по шкале Чеддока 0,5-0,7 заметная сила связи).\n",
    "\n",
    "\n",
    "- Вариация цены объясняется на 54% моделью и остальная часть - неучтенными в модели факторами.\n",
    "\n",
    "\n",
    "__Построенная при таких условиях регрессионная модель имеет низкое практическое значение__"
   ]
  },
  {
   "cell_type": "code",
   "execution_count": null,
   "id": "b66492a0",
   "metadata": {},
   "outputs": [],
   "source": [
    "у=34.76+(-0.95)*х уравнение регрессии"
   ]
  },
  {
   "cell_type": "code",
   "execution_count": 21,
   "id": "b4a97a0f",
   "metadata": {},
   "outputs": [
    {
     "data": {
      "text/plain": [
       "array([[29.02626705]])"
      ]
     },
     "execution_count": 21,
     "metadata": {},
     "output_type": "execute_result"
    }
   ],
   "source": [
    "regressor.intercept_ + regressor.coef_*6"
   ]
  },
  {
   "cell_type": "markdown",
   "id": "e09f6fe0",
   "metadata": {},
   "source": [
    "- Это означает, что на каждую единицу изменения в изученном показателе lstat (более низкий статус населения) изменение цены (price) составляет около -0,95\n",
    "\n",
    "\n",
    "- При увеличении на 1 фактора 'lstat', 'y' уменьшится на 0,95\n"
   ]
  },
  {
   "cell_type": "markdown",
   "id": "5d3c1a34",
   "metadata": {},
   "source": [
    "__Линейная модель регрессии с включением фактора rm__"
   ]
  },
  {
   "cell_type": "code",
   "execution_count": 22,
   "id": "d7f1520b",
   "metadata": {},
   "outputs": [],
   "source": [
    "df_rm = df.loc[:, 'rm':'price']\n",
    "df_rm_new = df_rm.drop(['age', 'dis', 'rad','tax', 'ptratio', 'b', 'lstat'], axis=1)\n",
    "#rm - независимая переменая X, price - зависимая переменная Y"
   ]
  },
  {
   "cell_type": "code",
   "execution_count": 60,
   "id": "c880e21e",
   "metadata": {},
   "outputs": [
    {
     "data": {
      "text/plain": [
       "rm       0\n",
       "price    0\n",
       "dtype: int64"
      ]
     },
     "execution_count": 60,
     "metadata": {},
     "output_type": "execute_result"
    }
   ],
   "source": [
    "#проверка нулевых значений\n",
    "df_rm_new.isnull().sum()"
   ]
  },
  {
   "cell_type": "code",
   "execution_count": 35,
   "id": "57cca4c7",
   "metadata": {},
   "outputs": [
    {
     "data": {
      "text/html": [
       "<div>\n",
       "<style scoped>\n",
       "    .dataframe tbody tr th:only-of-type {\n",
       "        vertical-align: middle;\n",
       "    }\n",
       "\n",
       "    .dataframe tbody tr th {\n",
       "        vertical-align: top;\n",
       "    }\n",
       "\n",
       "    .dataframe thead th {\n",
       "        text-align: right;\n",
       "    }\n",
       "</style>\n",
       "<table border=\"1\" class=\"dataframe\">\n",
       "  <thead>\n",
       "    <tr style=\"text-align: right;\">\n",
       "      <th></th>\n",
       "      <th>rm</th>\n",
       "    </tr>\n",
       "  </thead>\n",
       "  <tbody>\n",
       "    <tr>\n",
       "      <th>0</th>\n",
       "      <td>6.575</td>\n",
       "    </tr>\n",
       "    <tr>\n",
       "      <th>1</th>\n",
       "      <td>6.421</td>\n",
       "    </tr>\n",
       "    <tr>\n",
       "      <th>2</th>\n",
       "      <td>7.185</td>\n",
       "    </tr>\n",
       "    <tr>\n",
       "      <th>3</th>\n",
       "      <td>6.998</td>\n",
       "    </tr>\n",
       "    <tr>\n",
       "      <th>4</th>\n",
       "      <td>7.147</td>\n",
       "    </tr>\n",
       "    <tr>\n",
       "      <th>...</th>\n",
       "      <td>...</td>\n",
       "    </tr>\n",
       "    <tr>\n",
       "      <th>501</th>\n",
       "      <td>6.593</td>\n",
       "    </tr>\n",
       "    <tr>\n",
       "      <th>502</th>\n",
       "      <td>6.120</td>\n",
       "    </tr>\n",
       "    <tr>\n",
       "      <th>503</th>\n",
       "      <td>6.976</td>\n",
       "    </tr>\n",
       "    <tr>\n",
       "      <th>504</th>\n",
       "      <td>6.794</td>\n",
       "    </tr>\n",
       "    <tr>\n",
       "      <th>505</th>\n",
       "      <td>6.030</td>\n",
       "    </tr>\n",
       "  </tbody>\n",
       "</table>\n",
       "<p>506 rows × 1 columns</p>\n",
       "</div>"
      ],
      "text/plain": [
       "        rm\n",
       "0    6.575\n",
       "1    6.421\n",
       "2    7.185\n",
       "3    6.998\n",
       "4    7.147\n",
       "..     ...\n",
       "501  6.593\n",
       "502  6.120\n",
       "503  6.976\n",
       "504  6.794\n",
       "505  6.030\n",
       "\n",
       "[506 rows x 1 columns]"
      ]
     },
     "execution_count": 35,
     "metadata": {},
     "output_type": "execute_result"
    }
   ],
   "source": [
    "df_rm_new[['rm']]"
   ]
  },
  {
   "cell_type": "code",
   "execution_count": 23,
   "id": "a73c06ce",
   "metadata": {},
   "outputs": [],
   "source": [
    "X_2 = df_rm_new[['rm']]\n",
    "Y_2 = df_rm_new[['price']]"
   ]
  },
  {
   "cell_type": "code",
   "execution_count": 62,
   "id": "e1a54d4b",
   "metadata": {},
   "outputs": [
    {
     "data": {
      "image/png": "[encoded data removed]",
      "text/plain": [
       "<Figure size 432x288 with 1 Axes>"
      ]
     },
     "metadata": {
      "needs_background": "light"
     },
     "output_type": "display_data"
    }
   ],
   "source": [
    "#строим scatter plot\n",
    "sns.scatterplot(data=df_rm_new,x='rm',y='price')\n",
    "plt.xlabel('rm')\n",
    "plt.ylabel('price')\n",
    "plt.title('y vs. x')\n",
    "plt.show()"
   ]
  },
  {
   "cell_type": "code",
   "execution_count": 26,
   "id": "95b44ea1",
   "metadata": {},
   "outputs": [],
   "source": [
    "from sklearn.model_selection import train_test_split \n",
    "X_train, X_test, y__train, y_test = train_test_split(X_2, Y_2, test_size=0.2, random_state=0)\n",
    "#скрипт разделяет 80% данных на обучающий набор, а 20% данных – на набор тестов. "
   ]
  },
  {
   "cell_type": "code",
   "execution_count": 27,
   "id": "df5175d9",
   "metadata": {},
   "outputs": [
    {
     "data": {
      "text/plain": [
       "LinearRegression()"
      ]
     },
     "execution_count": 27,
     "metadata": {},
     "output_type": "execute_result"
    }
   ],
   "source": [
    "from sklearn.linear_model import LinearRegression \n",
    "regressor = LinearRegression() \n",
    "regressor.fit(X_train, y_train)"
   ]
  },
  {
   "cell_type": "code",
   "execution_count": 28,
   "id": "583b7dc6",
   "metadata": {},
   "outputs": [
    {
     "name": "stdout",
     "output_type": "stream",
     "text": [
      "[-36.47618963]\n"
     ]
    }
   ],
   "source": [
    "print(regressor.intercept_)\n",
    "#B0 value"
   ]
  },
  {
   "cell_type": "code",
   "execution_count": 29,
   "id": "a9fa0d42",
   "metadata": {},
   "outputs": [
    {
     "name": "stdout",
     "output_type": "stream",
     "text": [
      "[[9.37638431]]\n"
     ]
    }
   ],
   "source": [
    "print(regressor.coef_)\n",
    "#B1 value"
   ]
  },
  {
   "cell_type": "code",
   "execution_count": 31,
   "id": "26733912",
   "metadata": {},
   "outputs": [
    {
     "name": "stdout",
     "output_type": "stream",
     "text": [
      "0.4830070551790612\n"
     ]
    }
   ],
   "source": [
    "print(regressor.score(X_2,Y_2))\n",
    "#r2 коэффициент детерминации"
   ]
  },
  {
   "cell_type": "markdown",
   "id": "2f4aad20",
   "metadata": {},
   "source": [
    "- В нашем случае r2 = 0,48 (по шкале Чеддока 0,3-0,5 умеренная сила связи).\n",
    "\n",
    "\n",
    "- Вариация цены объясняется на 48% моделью и остальная часть - неучтенными в модели факторами.\n",
    "\n",
    "\n",
    "__Построенная при таких условиях регрессионная модель имеет низкое практическое значение__"
   ]
  },
  {
   "cell_type": "code",
   "execution_count": null,
   "id": "a46dba2e",
   "metadata": {},
   "outputs": [],
   "source": [
    "у=(-36.47)+9.37*х уравнение регрессии"
   ]
  },
  {
   "cell_type": "code",
   "execution_count": 40,
   "id": "860c8477",
   "metadata": {},
   "outputs": [
    {
     "data": {
      "text/plain": [
       "array([[19.78211625]])"
      ]
     },
     "execution_count": 40,
     "metadata": {},
     "output_type": "execute_result"
    }
   ],
   "source": [
    "regressor.intercept_ + regressor.coef_*6"
   ]
  },
  {
   "cell_type": "markdown",
   "id": "1e2b8212",
   "metadata": {},
   "source": [
    "- Это означает, что на каждую единицу изменения в изученном показателе rm (среднее количество комнат в жилом помещении) изменение цены (price) составляет около 9,37\n",
    "\n",
    "\n",
    "- При увеличении на 1 фактора 'rm', 'y' (price) увеличится на 9,37"
   ]
  },
  {
   "cell_type": "markdown",
   "id": "4ba0afda",
   "metadata": {},
   "source": [
    "__Модель множественной регрессии__"
   ]
  },
  {
   "cell_type": "code",
   "execution_count": 4,
   "id": "ba8901e9",
   "metadata": {},
   "outputs": [],
   "source": [
    "X_3 = df[[\"crim\", \"zn\", \"indus\", \"nox\", \"rm\", \"age\", \"dis\", \"rad\", \"lstat\"]]"
   ]
  },
  {
   "cell_type": "code",
   "execution_count": 5,
   "id": "322d9975",
   "metadata": {},
   "outputs": [],
   "source": [
    "Y_3 = df.price"
   ]
  },
  {
   "cell_type": "code",
   "execution_count": 9,
   "id": "691c2b40",
   "metadata": {},
   "outputs": [
    {
     "name": "stdout",
     "output_type": "stream",
     "text": [
      "                            OLS Regression Results                            \n",
      "==============================================================================\n",
      "Dep. Variable:                  price   R-squared:                       0.688\n",
      "Model:                            OLS   Adj. R-squared:                  0.683\n",
      "Method:                 Least Squares   F-statistic:                     121.7\n",
      "Date:                Thu, 24 Nov 2022   Prob (F-statistic):          1.63e-119\n",
      "Time:                        12:50:40   Log-Likelihood:                -1545.3\n",
      "No. Observations:                 506   AIC:                             3111.\n",
      "Df Residuals:                     496   BIC:                             3153.\n",
      "Df Model:                           9                                         \n",
      "Covariance Type:            nonrobust                                         \n",
      "==============================================================================\n",
      "                 coef    std err          t      P>|t|      [0.025      0.975]\n",
      "------------------------------------------------------------------------------\n",
      "const         15.5712      4.019      3.875      0.000       7.675      23.467\n",
      "crim          -0.1221      0.036     -3.431      0.001      -0.192      -0.052\n",
      "zn             0.0679      0.014      4.879      0.000       0.041       0.095\n",
      "indus         -0.1430      0.059     -2.414      0.016      -0.259      -0.027\n",
      "nox           -9.4954      3.909     -2.429      0.015     -17.175      -1.816\n",
      "rm             4.3835      0.445      9.842      0.000       3.508       5.259\n",
      "age           -0.0032      0.014     -0.225      0.822      -0.031       0.025\n",
      "dis           -1.6713      0.217     -7.716      0.000      -2.097      -1.246\n",
      "rad           -0.0145      0.040     -0.361      0.718      -0.094       0.065\n",
      "lstat         -0.5813      0.055    -10.664      0.000      -0.688      -0.474\n",
      "==============================================================================\n",
      "Omnibus:                      158.325   Durbin-Watson:                   0.907\n",
      "Prob(Omnibus):                  0.000   Jarque-Bera (JB):              555.813\n",
      "Skew:                           1.420   Prob(JB):                    2.03e-121\n",
      "Kurtosis:                       7.277   Cond. No.                     1.63e+03\n",
      "==============================================================================\n",
      "\n",
      "Notes:\n",
      "[1] Standard Errors assume that the covariance matrix of the errors is correctly specified.\n",
      "[2] The condition number is large, 1.63e+03. This might indicate that there are\n",
      "strong multicollinearity or other numerical problems.\n"
     ]
    }
   ],
   "source": [
    "X_3 = sm.add_constant(X_3)  # добавить константу, чтобы был свободный член\n",
    "model = sm.OLS(Y_3, X_3)  # говорим модели, что у нас ЗП, а что НП\n",
    "results = model.fit()  # строим регрессионную прямую\n",
    "print(results.summary())  # смотрим результат"
   ]
  },
  {
   "cell_type": "markdown",
   "id": "a13031ea",
   "metadata": {},
   "source": [
    "- При множественном анализе оцениваем Adj. R-squared: 0.683\n",
    "\n",
    "\n",
    "- Выбранная модель объясняет примерно 68 % дисперсии (окр. до целого). \n",
    "\n",
    "- При единичном изменении показателя RM, цена ВОЗРАСТАЕТ на 4.3835, при единичном изменении показателя lstat, цена уменьшается на -0.5813.\n"
   ]
  },
  {
   "cell_type": "markdown",
   "id": "72aff667",
   "metadata": {},
   "source": [
    "__Можно ли улучшить полученную модель множественной регрессии?__"
   ]
  },
  {
   "cell_type": "markdown",
   "id": "762da886",
   "metadata": {},
   "source": [
    "Можно. \n",
    "\n",
    "- Предполагается, что связь между нашими переменными линейная. Однако для улучшения полученной модели множественной регрессии нужно посмотреть на двумерные диаграммы рассеяния переменных, представляющих интерес. Если нелинейность связи очевидна, то можно рассмотреть или преобразования переменных (логарифмирование данных) или явно допустить включение нелинейных членов.\n",
    "\n",
    "\n",
    "- Предполагается, что остатки распределены нормально (т.е. подчиняются закону нормального распределения), поэтому прежде чем сделать окончательные выводы, нам нужно рассмотреть распределения представляющих интерес переменных. Можно построить гистограммы для визуального анализа их распределения.\n",
    "\n",
    "\n",
    "- Можно обнаружить выбросы (т.е. экстремальные наблюдения), которые могут вызвать серьезное смещение оценок, \"сдвигая\" линию регрессии в определенном направлении и тем самым, вызывая смещение регрессионных коэффициентов. А мы видели из графиков в самом начале, что такие переменные, как \"rm\" и \"lstat\" явно наглядно имеют выбросы. Даже исключение всего одного экстремального наблюдения приведет к совершенно другому результату."
   ]
  },
  {
   "cell_type": "markdown",
   "id": "889d2c47",
   "metadata": {},
   "source": [
    "__-__"
   ]
  },
  {
   "cell_type": "code",
   "execution_count": 12,
   "id": "135b000c",
   "metadata": {},
   "outputs": [
    {
     "data": {
      "text/html": [
       "<div>\n",
       "<style scoped>\n",
       "    .dataframe tbody tr th:only-of-type {\n",
       "        vertical-align: middle;\n",
       "    }\n",
       "\n",
       "    .dataframe tbody tr th {\n",
       "        vertical-align: top;\n",
       "    }\n",
       "\n",
       "    .dataframe thead th {\n",
       "        text-align: right;\n",
       "    }\n",
       "</style>\n",
       "<table border=\"1\" class=\"dataframe\">\n",
       "  <thead>\n",
       "    <tr style=\"text-align: right;\">\n",
       "      <th></th>\n",
       "      <th>holiday</th>\n",
       "      <th>workingday</th>\n",
       "      <th>season</th>\n",
       "      <th>humidity</th>\n",
       "      <th>temp</th>\n",
       "      <th>windspeed</th>\n",
       "      <th>count</th>\n",
       "    </tr>\n",
       "  </thead>\n",
       "  <tbody>\n",
       "    <tr>\n",
       "      <th>0</th>\n",
       "      <td>0</td>\n",
       "      <td>0</td>\n",
       "      <td>1</td>\n",
       "      <td>81</td>\n",
       "      <td>9.84</td>\n",
       "      <td>0.0000</td>\n",
       "      <td>16</td>\n",
       "    </tr>\n",
       "    <tr>\n",
       "      <th>1</th>\n",
       "      <td>0</td>\n",
       "      <td>0</td>\n",
       "      <td>1</td>\n",
       "      <td>80</td>\n",
       "      <td>9.02</td>\n",
       "      <td>0.0000</td>\n",
       "      <td>40</td>\n",
       "    </tr>\n",
       "    <tr>\n",
       "      <th>2</th>\n",
       "      <td>0</td>\n",
       "      <td>0</td>\n",
       "      <td>1</td>\n",
       "      <td>80</td>\n",
       "      <td>9.02</td>\n",
       "      <td>0.0000</td>\n",
       "      <td>32</td>\n",
       "    </tr>\n",
       "    <tr>\n",
       "      <th>3</th>\n",
       "      <td>0</td>\n",
       "      <td>0</td>\n",
       "      <td>1</td>\n",
       "      <td>75</td>\n",
       "      <td>9.84</td>\n",
       "      <td>0.0000</td>\n",
       "      <td>13</td>\n",
       "    </tr>\n",
       "    <tr>\n",
       "      <th>4</th>\n",
       "      <td>0</td>\n",
       "      <td>0</td>\n",
       "      <td>1</td>\n",
       "      <td>75</td>\n",
       "      <td>9.84</td>\n",
       "      <td>0.0000</td>\n",
       "      <td>1</td>\n",
       "    </tr>\n",
       "    <tr>\n",
       "      <th>...</th>\n",
       "      <td>...</td>\n",
       "      <td>...</td>\n",
       "      <td>...</td>\n",
       "      <td>...</td>\n",
       "      <td>...</td>\n",
       "      <td>...</td>\n",
       "      <td>...</td>\n",
       "    </tr>\n",
       "    <tr>\n",
       "      <th>10881</th>\n",
       "      <td>0</td>\n",
       "      <td>1</td>\n",
       "      <td>4</td>\n",
       "      <td>50</td>\n",
       "      <td>15.58</td>\n",
       "      <td>26.0027</td>\n",
       "      <td>336</td>\n",
       "    </tr>\n",
       "    <tr>\n",
       "      <th>10882</th>\n",
       "      <td>0</td>\n",
       "      <td>1</td>\n",
       "      <td>4</td>\n",
       "      <td>57</td>\n",
       "      <td>14.76</td>\n",
       "      <td>15.0013</td>\n",
       "      <td>241</td>\n",
       "    </tr>\n",
       "    <tr>\n",
       "      <th>10883</th>\n",
       "      <td>0</td>\n",
       "      <td>1</td>\n",
       "      <td>4</td>\n",
       "      <td>61</td>\n",
       "      <td>13.94</td>\n",
       "      <td>15.0013</td>\n",
       "      <td>168</td>\n",
       "    </tr>\n",
       "    <tr>\n",
       "      <th>10884</th>\n",
       "      <td>0</td>\n",
       "      <td>1</td>\n",
       "      <td>4</td>\n",
       "      <td>61</td>\n",
       "      <td>13.94</td>\n",
       "      <td>6.0032</td>\n",
       "      <td>129</td>\n",
       "    </tr>\n",
       "    <tr>\n",
       "      <th>10885</th>\n",
       "      <td>0</td>\n",
       "      <td>1</td>\n",
       "      <td>4</td>\n",
       "      <td>66</td>\n",
       "      <td>13.12</td>\n",
       "      <td>8.9981</td>\n",
       "      <td>88</td>\n",
       "    </tr>\n",
       "  </tbody>\n",
       "</table>\n",
       "<p>10886 rows × 7 columns</p>\n",
       "</div>"
      ],
      "text/plain": [
       "       holiday  workingday  season  humidity   temp  windspeed  count\n",
       "0            0           0       1        81   9.84     0.0000     16\n",
       "1            0           0       1        80   9.02     0.0000     40\n",
       "2            0           0       1        80   9.02     0.0000     32\n",
       "3            0           0       1        75   9.84     0.0000     13\n",
       "4            0           0       1        75   9.84     0.0000      1\n",
       "...        ...         ...     ...       ...    ...        ...    ...\n",
       "10881        0           1       4        50  15.58    26.0027    336\n",
       "10882        0           1       4        57  14.76    15.0013    241\n",
       "10883        0           1       4        61  13.94    15.0013    168\n",
       "10884        0           1       4        61  13.94     6.0032    129\n",
       "10885        0           1       4        66  13.12     8.9981     88\n",
       "\n",
       "[10886 rows x 7 columns]"
      ]
     },
     "execution_count": 12,
     "metadata": {},
     "output_type": "execute_result"
    }
   ],
   "source": [
    "bikeshare = pd.read_csv(\"bikeshare.csv\")\n",
    "bikeshare = bikeshare[['holiday', 'workingday', 'season', 'humidity', 'temp', 'windspeed', 'count']]\n",
    "bikeshare"
   ]
  },
  {
   "cell_type": "code",
   "execution_count": 48,
   "id": "1923cc82",
   "metadata": {},
   "outputs": [
    {
     "data": {
      "text/plain": [
       "count    10886.000000\n",
       "mean        12.799395\n",
       "std          8.164537\n",
       "min          0.000000\n",
       "25%          7.001500\n",
       "50%         12.998000\n",
       "75%         16.997900\n",
       "max         56.996900\n",
       "Name: windspeed, dtype: float64"
      ]
     },
     "execution_count": 48,
     "metadata": {},
     "output_type": "execute_result"
    }
   ],
   "source": [
    "bikeshare.windspeed.describe()"
   ]
  },
  {
   "cell_type": "code",
   "execution_count": 54,
   "id": "97d75212",
   "metadata": {},
   "outputs": [
    {
     "data": {
      "text/plain": [
       "array([12.998 , 16.9979, 23.9994, 35.0008])"
      ]
     },
     "execution_count": 54,
     "metadata": {},
     "output_type": "execute_result"
    }
   ],
   "source": [
    "#mean (среднее) = 12.799395\n",
    "#перцентили 50, 75, 90, 99\n",
    "np.percentile(bikeshare.windspeed, [50, 75, 90, 99])"
   ]
  },
  {
   "cell_type": "code",
   "execution_count": 61,
   "id": "3a662d31",
   "metadata": {},
   "outputs": [],
   "source": [
    "#50% показателей скорости ветра <12,998 (меньше среднего показателя в данных)\n",
    "#90% показателей скорости ветра < 23.9994, 10% больше (именно количество)"
   ]
  },
  {
   "cell_type": "code",
   "execution_count": 56,
   "id": "675b04b3",
   "metadata": {},
   "outputs": [
    {
     "data": {
      "text/plain": [
       "0    0.0\n",
       "Name: windspeed, dtype: float64"
      ]
     },
     "execution_count": 56,
     "metadata": {},
     "output_type": "execute_result"
    }
   ],
   "source": [
    "#мода (в нащем кокретном случае наиболее часто вречающееся значение = 0)\n",
    "bikeshare.windspeed.mode()"
   ]
  },
  {
   "cell_type": "code",
   "execution_count": 63,
   "id": "93de2675",
   "metadata": {},
   "outputs": [
    {
     "data": {
      "text/plain": [
       "66.659669761339"
      ]
     },
     "execution_count": 63,
     "metadata": {},
     "output_type": "execute_result"
    }
   ],
   "source": [
    "#дисперсия (степень отклонения каждого наблюдения от средней арифметической) = 67\n",
    "#Чем больше отклонение, тем больше изменчивость, вариабельность наблюдений.\n",
    "bikeshare.windspeed.var()"
   ]
  },
  {
   "cell_type": "code",
   "execution_count": 77,
   "id": "1a6af987",
   "metadata": {},
   "outputs": [
    {
     "data": {
      "text/plain": [
       "count    10886.00000\n",
       "mean        20.23086\n",
       "std          7.79159\n",
       "min          0.82000\n",
       "25%         13.94000\n",
       "50%         20.50000\n",
       "75%         26.24000\n",
       "max         41.00000\n",
       "Name: temp, dtype: float64"
      ]
     },
     "execution_count": 77,
     "metadata": {},
     "output_type": "execute_result"
    }
   ],
   "source": [
    "bikeshare.temp.describe()"
   ]
  },
  {
   "cell_type": "code",
   "execution_count": 57,
   "id": "a1cd862f",
   "metadata": {},
   "outputs": [
    {
     "data": {
      "text/plain": [
       "array([20.5 , 26.24, 30.34, 36.08])"
      ]
     },
     "execution_count": 57,
     "metadata": {},
     "output_type": "execute_result"
    }
   ],
   "source": [
    "#mean (среднее) = 20.23086\n",
    "#перцентили 50, 75, 90, 99\n",
    "np.percentile(bikeshare.temp, [50, 75, 90, 99])"
   ]
  },
  {
   "cell_type": "code",
   "execution_count": 58,
   "id": "1f5e510b",
   "metadata": {},
   "outputs": [],
   "source": [
    "#50% показтелей температуры < 20.5, 90% показателей температуры < 30.34, следлвательно 10% больше (количество)."
   ]
  },
  {
   "cell_type": "code",
   "execution_count": 50,
   "id": "60b9ba61",
   "metadata": {},
   "outputs": [
    {
     "data": {
      "text/plain": [
       "0    14.76\n",
       "Name: temp, dtype: float64"
      ]
     },
     "execution_count": 50,
     "metadata": {},
     "output_type": "execute_result"
    }
   ],
   "source": [
    "#мода (в показателях температуры наиболее часто втсречающее значение - 14.76)\n",
    "bikeshare.temp.mode()"
   ]
  },
  {
   "cell_type": "code",
   "execution_count": 62,
   "id": "b846c991",
   "metadata": {},
   "outputs": [
    {
     "data": {
      "text/plain": [
       "60.70887229692925"
      ]
     },
     "execution_count": 62,
     "metadata": {},
     "output_type": "execute_result"
    }
   ],
   "source": [
    "#дисперсия (степень отклонения каждого наблюдения от средней арифметической) = 61\n",
    "#Чем больше отклонение, тем больше изменчивость, вариабельность наблюдений.\n",
    "bikeshare.temp.var()"
   ]
  },
  {
   "cell_type": "markdown",
   "id": "ca566692",
   "metadata": {},
   "source": [
    "__Гистограммы распределения датасета__"
   ]
  },
  {
   "cell_type": "code",
   "execution_count": 67,
   "id": "6b6897eb",
   "metadata": {},
   "outputs": [
    {
     "data": {
      "text/plain": [
       "<AxesSubplot:>"
      ]
     },
     "execution_count": 67,
     "metadata": {},
     "output_type": "execute_result"
    },
    {
     "data": {
      "image/png": "[encoded data removed]",
      "text/plain": [
       "<Figure size 432x288 with 1 Axes>"
      ]
     },
     "metadata": {
      "needs_background": "light"
     },
     "output_type": "display_data"
    }
   ],
   "source": [
    "bikeshare.windspeed.hist()\n",
    "#полученная гистограмма распределения показателей скорости ветра явно не имеет гауссово распределение \n",
    "#(отсутствует форма колокола)"
   ]
  },
  {
   "cell_type": "code",
   "execution_count": 64,
   "id": "3b6e1b07",
   "metadata": {},
   "outputs": [
    {
     "data": {
      "text/plain": [
       "<AxesSubplot:>"
      ]
     },
     "execution_count": 64,
     "metadata": {},
     "output_type": "execute_result"
    },
    {
     "data": {
      "image/png": "[encoded data removed]",
      "text/plain": [
       "<Figure size 432x288 with 1 Axes>"
      ]
     },
     "metadata": {
      "needs_background": "light"
     },
     "output_type": "display_data"
    }
   ],
   "source": [
    "bikeshare.temp.hist()\n",
    "#видим гауссовидную форму данных, которая, хотя и не сильно знакома в форме колокола, является грубым приближением"
   ]
  },
  {
   "cell_type": "code",
   "execution_count": 68,
   "id": "557e3911",
   "metadata": {},
   "outputs": [],
   "source": [
    "#Чтобы приблизить показатели сокрости ветра к нормальному распределению, воспользуемся функцией логарифримирования данных"
   ]
  },
  {
   "cell_type": "code",
   "execution_count": 85,
   "id": "322a6240",
   "metadata": {},
   "outputs": [],
   "source": [
    "bikeshare_new = bikeshare.query('windspeed>0')"
   ]
  },
  {
   "cell_type": "code",
   "execution_count": 86,
   "id": "c7798be7",
   "metadata": {},
   "outputs": [
    {
     "name": "stderr",
     "output_type": "stream",
     "text": [
      "C:\\Users\\USER\\AppData\\Local\\Temp\\ipykernel_15916\\1515240897.py:1: SettingWithCopyWarning: \n",
      "A value is trying to be set on a copy of a slice from a DataFrame.\n",
      "Try using .loc[row_indexer,col_indexer] = value instead\n",
      "\n",
      "See the caveats in the documentation: https://pandas.pydata.org/pandas-docs/stable/user_guide/indexing.html#returning-a-view-versus-a-copy\n",
      "  bikeshare_new['wind_log']=np.log(bikeshare_new.windspeed)\n"
     ]
    }
   ],
   "source": [
    "bikeshare_new['wind_log']=np.log(bikeshare_new.windspeed)"
   ]
  },
  {
   "cell_type": "code",
   "execution_count": 87,
   "id": "20fb4359",
   "metadata": {},
   "outputs": [
    {
     "data": {
      "text/html": [
       "<div>\n",
       "<style scoped>\n",
       "    .dataframe tbody tr th:only-of-type {\n",
       "        vertical-align: middle;\n",
       "    }\n",
       "\n",
       "    .dataframe tbody tr th {\n",
       "        vertical-align: top;\n",
       "    }\n",
       "\n",
       "    .dataframe thead th {\n",
       "        text-align: right;\n",
       "    }\n",
       "</style>\n",
       "<table border=\"1\" class=\"dataframe\">\n",
       "  <thead>\n",
       "    <tr style=\"text-align: right;\">\n",
       "      <th></th>\n",
       "      <th>holiday</th>\n",
       "      <th>workingday</th>\n",
       "      <th>season</th>\n",
       "      <th>humidity</th>\n",
       "      <th>temp</th>\n",
       "      <th>windspeed</th>\n",
       "      <th>count</th>\n",
       "      <th>wind_log</th>\n",
       "    </tr>\n",
       "  </thead>\n",
       "  <tbody>\n",
       "    <tr>\n",
       "      <th>5</th>\n",
       "      <td>0</td>\n",
       "      <td>0</td>\n",
       "      <td>1</td>\n",
       "      <td>75</td>\n",
       "      <td>9.84</td>\n",
       "      <td>6.0032</td>\n",
       "      <td>1</td>\n",
       "      <td>1.792293</td>\n",
       "    </tr>\n",
       "    <tr>\n",
       "      <th>10</th>\n",
       "      <td>0</td>\n",
       "      <td>0</td>\n",
       "      <td>1</td>\n",
       "      <td>76</td>\n",
       "      <td>15.58</td>\n",
       "      <td>16.9979</td>\n",
       "      <td>36</td>\n",
       "      <td>2.833090</td>\n",
       "    </tr>\n",
       "    <tr>\n",
       "      <th>11</th>\n",
       "      <td>0</td>\n",
       "      <td>0</td>\n",
       "      <td>1</td>\n",
       "      <td>81</td>\n",
       "      <td>14.76</td>\n",
       "      <td>19.0012</td>\n",
       "      <td>56</td>\n",
       "      <td>2.944502</td>\n",
       "    </tr>\n",
       "    <tr>\n",
       "      <th>12</th>\n",
       "      <td>0</td>\n",
       "      <td>0</td>\n",
       "      <td>1</td>\n",
       "      <td>77</td>\n",
       "      <td>17.22</td>\n",
       "      <td>19.0012</td>\n",
       "      <td>84</td>\n",
       "      <td>2.944502</td>\n",
       "    </tr>\n",
       "    <tr>\n",
       "      <th>13</th>\n",
       "      <td>0</td>\n",
       "      <td>0</td>\n",
       "      <td>1</td>\n",
       "      <td>72</td>\n",
       "      <td>18.86</td>\n",
       "      <td>19.9995</td>\n",
       "      <td>94</td>\n",
       "      <td>2.995707</td>\n",
       "    </tr>\n",
       "    <tr>\n",
       "      <th>...</th>\n",
       "      <td>...</td>\n",
       "      <td>...</td>\n",
       "      <td>...</td>\n",
       "      <td>...</td>\n",
       "      <td>...</td>\n",
       "      <td>...</td>\n",
       "      <td>...</td>\n",
       "      <td>...</td>\n",
       "    </tr>\n",
       "    <tr>\n",
       "      <th>10881</th>\n",
       "      <td>0</td>\n",
       "      <td>1</td>\n",
       "      <td>4</td>\n",
       "      <td>50</td>\n",
       "      <td>15.58</td>\n",
       "      <td>26.0027</td>\n",
       "      <td>336</td>\n",
       "      <td>3.258200</td>\n",
       "    </tr>\n",
       "    <tr>\n",
       "      <th>10882</th>\n",
       "      <td>0</td>\n",
       "      <td>1</td>\n",
       "      <td>4</td>\n",
       "      <td>57</td>\n",
       "      <td>14.76</td>\n",
       "      <td>15.0013</td>\n",
       "      <td>241</td>\n",
       "      <td>2.708137</td>\n",
       "    </tr>\n",
       "    <tr>\n",
       "      <th>10883</th>\n",
       "      <td>0</td>\n",
       "      <td>1</td>\n",
       "      <td>4</td>\n",
       "      <td>61</td>\n",
       "      <td>13.94</td>\n",
       "      <td>15.0013</td>\n",
       "      <td>168</td>\n",
       "      <td>2.708137</td>\n",
       "    </tr>\n",
       "    <tr>\n",
       "      <th>10884</th>\n",
       "      <td>0</td>\n",
       "      <td>1</td>\n",
       "      <td>4</td>\n",
       "      <td>61</td>\n",
       "      <td>13.94</td>\n",
       "      <td>6.0032</td>\n",
       "      <td>129</td>\n",
       "      <td>1.792293</td>\n",
       "    </tr>\n",
       "    <tr>\n",
       "      <th>10885</th>\n",
       "      <td>0</td>\n",
       "      <td>1</td>\n",
       "      <td>4</td>\n",
       "      <td>66</td>\n",
       "      <td>13.12</td>\n",
       "      <td>8.9981</td>\n",
       "      <td>88</td>\n",
       "      <td>2.197013</td>\n",
       "    </tr>\n",
       "  </tbody>\n",
       "</table>\n",
       "<p>9573 rows × 8 columns</p>\n",
       "</div>"
      ],
      "text/plain": [
       "       holiday  workingday  season  humidity   temp  windspeed  count  \\\n",
       "5            0           0       1        75   9.84     6.0032      1   \n",
       "10           0           0       1        76  15.58    16.9979     36   \n",
       "11           0           0       1        81  14.76    19.0012     56   \n",
       "12           0           0       1        77  17.22    19.0012     84   \n",
       "13           0           0       1        72  18.86    19.9995     94   \n",
       "...        ...         ...     ...       ...    ...        ...    ...   \n",
       "10881        0           1       4        50  15.58    26.0027    336   \n",
       "10882        0           1       4        57  14.76    15.0013    241   \n",
       "10883        0           1       4        61  13.94    15.0013    168   \n",
       "10884        0           1       4        61  13.94     6.0032    129   \n",
       "10885        0           1       4        66  13.12     8.9981     88   \n",
       "\n",
       "       wind_log  \n",
       "5      1.792293  \n",
       "10     2.833090  \n",
       "11     2.944502  \n",
       "12     2.944502  \n",
       "13     2.995707  \n",
       "...         ...  \n",
       "10881  3.258200  \n",
       "10882  2.708137  \n",
       "10883  2.708137  \n",
       "10884  1.792293  \n",
       "10885  2.197013  \n",
       "\n",
       "[9573 rows x 8 columns]"
      ]
     },
     "execution_count": 87,
     "metadata": {},
     "output_type": "execute_result"
    }
   ],
   "source": [
    "bikeshare_new"
   ]
  },
  {
   "cell_type": "code",
   "execution_count": 88,
   "id": "8505ec0a",
   "metadata": {},
   "outputs": [
    {
     "data": {
      "text/plain": [
       "<AxesSubplot:>"
      ]
     },
     "execution_count": 88,
     "metadata": {},
     "output_type": "execute_result"
    },
    {
     "data": {
      "image/png": "[encoded data removed]",
      "text/plain": [
       "<Figure size 432x288 with 1 Axes>"
      ]
     },
     "metadata": {
      "needs_background": "light"
     },
     "output_type": "display_data"
    }
   ],
   "source": [
    "bikeshare_new.wind_log.hist()\n",
    "#наглядно видим, что распределение стало более симметричным"
   ]
  },
  {
   "cell_type": "markdown",
   "id": "99865b52",
   "metadata": {},
   "source": [
    "__Симметричный доверительный интервал для метрики temp при доверительной вероятности 0.95__"
   ]
  },
  {
   "cell_type": "code",
   "execution_count": 89,
   "id": "769e5f06",
   "metadata": {},
   "outputs": [
    {
     "data": {
      "text/plain": [
       "<AxesSubplot:>"
      ]
     },
     "execution_count": 89,
     "metadata": {},
     "output_type": "execute_result"
    },
    {
     "data": {
      "image/png": "[encoded data removed]",
      "text/plain": [
       "<Figure size 432x288 with 1 Axes>"
      ]
     },
     "metadata": {
      "needs_background": "light"
     },
     "output_type": "display_data"
    }
   ],
   "source": [
    "bikeshare.temp.plot()"
   ]
  },
  {
   "cell_type": "code",
   "execution_count": 79,
   "id": "ba14413a",
   "metadata": {},
   "outputs": [],
   "source": [
    "def my_norm_confidence(df=bikeshare, column = \"temp\", alpha = 0.95):\n",
    "    interval = stats.norm.interval(alpha, loc=df[column].mean(), scale=df[column].std())\n",
    "    return interval"
   ]
  },
  {
   "cell_type": "code",
   "execution_count": 80,
   "id": "5280afa7",
   "metadata": {},
   "outputs": [
    {
     "name": "stdout",
     "output_type": "stream",
     "text": [
      "(4.959624343428603, 35.502095296475744)\n"
     ]
    }
   ],
   "source": [
    "confidence = my_norm_confidence()\n",
    "print(confidence)"
   ]
  },
  {
   "cell_type": "code",
   "execution_count": 92,
   "id": "4ff6bf52",
   "metadata": {},
   "outputs": [
    {
     "data": {
      "text/plain": [
       "Text(0.5, 1.0, 'Доверительный интервал')"
      ]
     },
     "execution_count": 92,
     "metadata": {},
     "output_type": "execute_result"
    },
    {
     "data": {
      "image/png": "[encoded data removed]",
      "text/plain": [
       "<Figure size 432x288 with 1 Axes>"
      ]
     },
     "metadata": {
      "needs_background": "light"
     },
     "output_type": "display_data"
    }
   ],
   "source": [
    "bikeshare.temp.plot()\n",
    "plt.axhline(y=confidence[1], color=\"g\", linestyle=\"-\")\n",
    "plt.axhline(y=confidence[0], color=\"r\", linestyle=\"-\")\n",
    "plt.title(\"Доверительный интервал\")"
   ]
  },
  {
   "cell_type": "code",
   "execution_count": 113,
   "id": "0b835d00",
   "metadata": {},
   "outputs": [],
   "source": [
    "bikeshare[\"anomaly_big\"] = np.where(bikeshare.temp > confidence[1], 1,0)"
   ]
  },
  {
   "cell_type": "code",
   "execution_count": 114,
   "id": "7b5fe506",
   "metadata": {},
   "outputs": [
    {
     "data": {
      "text/html": [
       "<div>\n",
       "<style scoped>\n",
       "    .dataframe tbody tr th:only-of-type {\n",
       "        vertical-align: middle;\n",
       "    }\n",
       "\n",
       "    .dataframe tbody tr th {\n",
       "        vertical-align: top;\n",
       "    }\n",
       "\n",
       "    .dataframe thead th {\n",
       "        text-align: right;\n",
       "    }\n",
       "</style>\n",
       "<table border=\"1\" class=\"dataframe\">\n",
       "  <thead>\n",
       "    <tr style=\"text-align: right;\">\n",
       "      <th></th>\n",
       "      <th>holiday</th>\n",
       "      <th>workingday</th>\n",
       "      <th>season</th>\n",
       "      <th>humidity</th>\n",
       "      <th>temp</th>\n",
       "      <th>windspeed</th>\n",
       "      <th>count</th>\n",
       "      <th>anomaly_big</th>\n",
       "      <th>anomaly_small</th>\n",
       "    </tr>\n",
       "  </thead>\n",
       "  <tbody>\n",
       "    <tr>\n",
       "      <th>2247</th>\n",
       "      <td>0</td>\n",
       "      <td>1</td>\n",
       "      <td>2</td>\n",
       "      <td>37</td>\n",
       "      <td>36.90</td>\n",
       "      <td>12.9980</td>\n",
       "      <td>154</td>\n",
       "      <td>1</td>\n",
       "      <td>0</td>\n",
       "    </tr>\n",
       "    <tr>\n",
       "      <th>2248</th>\n",
       "      <td>0</td>\n",
       "      <td>1</td>\n",
       "      <td>2</td>\n",
       "      <td>37</td>\n",
       "      <td>36.90</td>\n",
       "      <td>16.9979</td>\n",
       "      <td>145</td>\n",
       "      <td>1</td>\n",
       "      <td>0</td>\n",
       "    </tr>\n",
       "    <tr>\n",
       "      <th>2249</th>\n",
       "      <td>0</td>\n",
       "      <td>1</td>\n",
       "      <td>2</td>\n",
       "      <td>39</td>\n",
       "      <td>36.90</td>\n",
       "      <td>19.9995</td>\n",
       "      <td>152</td>\n",
       "      <td>1</td>\n",
       "      <td>0</td>\n",
       "    </tr>\n",
       "    <tr>\n",
       "      <th>2414</th>\n",
       "      <td>0</td>\n",
       "      <td>1</td>\n",
       "      <td>2</td>\n",
       "      <td>42</td>\n",
       "      <td>36.08</td>\n",
       "      <td>8.9981</td>\n",
       "      <td>149</td>\n",
       "      <td>1</td>\n",
       "      <td>0</td>\n",
       "    </tr>\n",
       "    <tr>\n",
       "      <th>2415</th>\n",
       "      <td>0</td>\n",
       "      <td>1</td>\n",
       "      <td>2</td>\n",
       "      <td>42</td>\n",
       "      <td>36.90</td>\n",
       "      <td>0.0000</td>\n",
       "      <td>136</td>\n",
       "      <td>1</td>\n",
       "      <td>0</td>\n",
       "    </tr>\n",
       "    <tr>\n",
       "      <th>...</th>\n",
       "      <td>...</td>\n",
       "      <td>...</td>\n",
       "      <td>...</td>\n",
       "      <td>...</td>\n",
       "      <td>...</td>\n",
       "      <td>...</td>\n",
       "      <td>...</td>\n",
       "      <td>...</td>\n",
       "      <td>...</td>\n",
       "    </tr>\n",
       "    <tr>\n",
       "      <th>8716</th>\n",
       "      <td>0</td>\n",
       "      <td>0</td>\n",
       "      <td>3</td>\n",
       "      <td>44</td>\n",
       "      <td>36.08</td>\n",
       "      <td>31.0009</td>\n",
       "      <td>523</td>\n",
       "      <td>1</td>\n",
       "      <td>0</td>\n",
       "    </tr>\n",
       "    <tr>\n",
       "      <th>8717</th>\n",
       "      <td>0</td>\n",
       "      <td>0</td>\n",
       "      <td>3</td>\n",
       "      <td>42</td>\n",
       "      <td>36.90</td>\n",
       "      <td>31.0009</td>\n",
       "      <td>526</td>\n",
       "      <td>1</td>\n",
       "      <td>0</td>\n",
       "    </tr>\n",
       "    <tr>\n",
       "      <th>8718</th>\n",
       "      <td>0</td>\n",
       "      <td>0</td>\n",
       "      <td>3</td>\n",
       "      <td>37</td>\n",
       "      <td>36.90</td>\n",
       "      <td>35.0008</td>\n",
       "      <td>450</td>\n",
       "      <td>1</td>\n",
       "      <td>0</td>\n",
       "    </tr>\n",
       "    <tr>\n",
       "      <th>8813</th>\n",
       "      <td>0</td>\n",
       "      <td>1</td>\n",
       "      <td>3</td>\n",
       "      <td>32</td>\n",
       "      <td>36.08</td>\n",
       "      <td>15.0013</td>\n",
       "      <td>247</td>\n",
       "      <td>1</td>\n",
       "      <td>0</td>\n",
       "    </tr>\n",
       "    <tr>\n",
       "      <th>8814</th>\n",
       "      <td>0</td>\n",
       "      <td>1</td>\n",
       "      <td>3</td>\n",
       "      <td>32</td>\n",
       "      <td>36.08</td>\n",
       "      <td>15.0013</td>\n",
       "      <td>267</td>\n",
       "      <td>1</td>\n",
       "      <td>0</td>\n",
       "    </tr>\n",
       "  </tbody>\n",
       "</table>\n",
       "<p>117 rows × 9 columns</p>\n",
       "</div>"
      ],
      "text/plain": [
       "      holiday  workingday  season  humidity   temp  windspeed  count  \\\n",
       "2247        0           1       2        37  36.90    12.9980    154   \n",
       "2248        0           1       2        37  36.90    16.9979    145   \n",
       "2249        0           1       2        39  36.90    19.9995    152   \n",
       "2414        0           1       2        42  36.08     8.9981    149   \n",
       "2415        0           1       2        42  36.90     0.0000    136   \n",
       "...       ...         ...     ...       ...    ...        ...    ...   \n",
       "8716        0           0       3        44  36.08    31.0009    523   \n",
       "8717        0           0       3        42  36.90    31.0009    526   \n",
       "8718        0           0       3        37  36.90    35.0008    450   \n",
       "8813        0           1       3        32  36.08    15.0013    247   \n",
       "8814        0           1       3        32  36.08    15.0013    267   \n",
       "\n",
       "      anomaly_big  anomaly_small  \n",
       "2247            1              0  \n",
       "2248            1              0  \n",
       "2249            1              0  \n",
       "2414            1              0  \n",
       "2415            1              0  \n",
       "...           ...            ...  \n",
       "8716            1              0  \n",
       "8717            1              0  \n",
       "8718            1              0  \n",
       "8813            1              0  \n",
       "8814            1              0  \n",
       "\n",
       "[117 rows x 9 columns]"
      ]
     },
     "execution_count": 114,
     "metadata": {},
     "output_type": "execute_result"
    }
   ],
   "source": [
    "#наблюдения выходящие за границы 95% доверительного интервала с температурой > 35.50\n",
    "bikeshare[bikeshare.anomaly_big == 1]"
   ]
  },
  {
   "cell_type": "code",
   "execution_count": 115,
   "id": "5dcdaa34",
   "metadata": {},
   "outputs": [
    {
     "data": {
      "text/html": [
       "<div>\n",
       "<style scoped>\n",
       "    .dataframe tbody tr th:only-of-type {\n",
       "        vertical-align: middle;\n",
       "    }\n",
       "\n",
       "    .dataframe tbody tr th {\n",
       "        vertical-align: top;\n",
       "    }\n",
       "\n",
       "    .dataframe thead th {\n",
       "        text-align: right;\n",
       "    }\n",
       "</style>\n",
       "<table border=\"1\" class=\"dataframe\">\n",
       "  <thead>\n",
       "    <tr style=\"text-align: right;\">\n",
       "      <th></th>\n",
       "      <th>holiday</th>\n",
       "      <th>workingday</th>\n",
       "      <th>season</th>\n",
       "      <th>humidity</th>\n",
       "      <th>temp</th>\n",
       "      <th>windspeed</th>\n",
       "      <th>count</th>\n",
       "      <th>anomaly_big</th>\n",
       "      <th>anomaly_small</th>\n",
       "    </tr>\n",
       "  </thead>\n",
       "  <tbody>\n",
       "    <tr>\n",
       "      <th>0</th>\n",
       "      <td>0</td>\n",
       "      <td>0</td>\n",
       "      <td>1</td>\n",
       "      <td>81</td>\n",
       "      <td>9.84</td>\n",
       "      <td>0.0000</td>\n",
       "      <td>16</td>\n",
       "      <td>0</td>\n",
       "      <td>0</td>\n",
       "    </tr>\n",
       "    <tr>\n",
       "      <th>1</th>\n",
       "      <td>0</td>\n",
       "      <td>0</td>\n",
       "      <td>1</td>\n",
       "      <td>80</td>\n",
       "      <td>9.02</td>\n",
       "      <td>0.0000</td>\n",
       "      <td>40</td>\n",
       "      <td>0</td>\n",
       "      <td>0</td>\n",
       "    </tr>\n",
       "    <tr>\n",
       "      <th>2</th>\n",
       "      <td>0</td>\n",
       "      <td>0</td>\n",
       "      <td>1</td>\n",
       "      <td>80</td>\n",
       "      <td>9.02</td>\n",
       "      <td>0.0000</td>\n",
       "      <td>32</td>\n",
       "      <td>0</td>\n",
       "      <td>0</td>\n",
       "    </tr>\n",
       "    <tr>\n",
       "      <th>3</th>\n",
       "      <td>0</td>\n",
       "      <td>0</td>\n",
       "      <td>1</td>\n",
       "      <td>75</td>\n",
       "      <td>9.84</td>\n",
       "      <td>0.0000</td>\n",
       "      <td>13</td>\n",
       "      <td>0</td>\n",
       "      <td>0</td>\n",
       "    </tr>\n",
       "    <tr>\n",
       "      <th>4</th>\n",
       "      <td>0</td>\n",
       "      <td>0</td>\n",
       "      <td>1</td>\n",
       "      <td>75</td>\n",
       "      <td>9.84</td>\n",
       "      <td>0.0000</td>\n",
       "      <td>1</td>\n",
       "      <td>0</td>\n",
       "      <td>0</td>\n",
       "    </tr>\n",
       "    <tr>\n",
       "      <th>...</th>\n",
       "      <td>...</td>\n",
       "      <td>...</td>\n",
       "      <td>...</td>\n",
       "      <td>...</td>\n",
       "      <td>...</td>\n",
       "      <td>...</td>\n",
       "      <td>...</td>\n",
       "      <td>...</td>\n",
       "      <td>...</td>\n",
       "    </tr>\n",
       "    <tr>\n",
       "      <th>10881</th>\n",
       "      <td>0</td>\n",
       "      <td>1</td>\n",
       "      <td>4</td>\n",
       "      <td>50</td>\n",
       "      <td>15.58</td>\n",
       "      <td>26.0027</td>\n",
       "      <td>336</td>\n",
       "      <td>0</td>\n",
       "      <td>0</td>\n",
       "    </tr>\n",
       "    <tr>\n",
       "      <th>10882</th>\n",
       "      <td>0</td>\n",
       "      <td>1</td>\n",
       "      <td>4</td>\n",
       "      <td>57</td>\n",
       "      <td>14.76</td>\n",
       "      <td>15.0013</td>\n",
       "      <td>241</td>\n",
       "      <td>0</td>\n",
       "      <td>0</td>\n",
       "    </tr>\n",
       "    <tr>\n",
       "      <th>10883</th>\n",
       "      <td>0</td>\n",
       "      <td>1</td>\n",
       "      <td>4</td>\n",
       "      <td>61</td>\n",
       "      <td>13.94</td>\n",
       "      <td>15.0013</td>\n",
       "      <td>168</td>\n",
       "      <td>0</td>\n",
       "      <td>0</td>\n",
       "    </tr>\n",
       "    <tr>\n",
       "      <th>10884</th>\n",
       "      <td>0</td>\n",
       "      <td>1</td>\n",
       "      <td>4</td>\n",
       "      <td>61</td>\n",
       "      <td>13.94</td>\n",
       "      <td>6.0032</td>\n",
       "      <td>129</td>\n",
       "      <td>0</td>\n",
       "      <td>0</td>\n",
       "    </tr>\n",
       "    <tr>\n",
       "      <th>10885</th>\n",
       "      <td>0</td>\n",
       "      <td>1</td>\n",
       "      <td>4</td>\n",
       "      <td>66</td>\n",
       "      <td>13.12</td>\n",
       "      <td>8.9981</td>\n",
       "      <td>88</td>\n",
       "      <td>0</td>\n",
       "      <td>0</td>\n",
       "    </tr>\n",
       "  </tbody>\n",
       "</table>\n",
       "<p>10769 rows × 9 columns</p>\n",
       "</div>"
      ],
      "text/plain": [
       "       holiday  workingday  season  humidity   temp  windspeed  count  \\\n",
       "0            0           0       1        81   9.84     0.0000     16   \n",
       "1            0           0       1        80   9.02     0.0000     40   \n",
       "2            0           0       1        80   9.02     0.0000     32   \n",
       "3            0           0       1        75   9.84     0.0000     13   \n",
       "4            0           0       1        75   9.84     0.0000      1   \n",
       "...        ...         ...     ...       ...    ...        ...    ...   \n",
       "10881        0           1       4        50  15.58    26.0027    336   \n",
       "10882        0           1       4        57  14.76    15.0013    241   \n",
       "10883        0           1       4        61  13.94    15.0013    168   \n",
       "10884        0           1       4        61  13.94     6.0032    129   \n",
       "10885        0           1       4        66  13.12     8.9981     88   \n",
       "\n",
       "       anomaly_big  anomaly_small  \n",
       "0                0              0  \n",
       "1                0              0  \n",
       "2                0              0  \n",
       "3                0              0  \n",
       "4                0              0  \n",
       "...            ...            ...  \n",
       "10881            0              0  \n",
       "10882            0              0  \n",
       "10883            0              0  \n",
       "10884            0              0  \n",
       "10885            0              0  \n",
       "\n",
       "[10769 rows x 9 columns]"
      ]
     },
     "execution_count": 115,
     "metadata": {},
     "output_type": "execute_result"
    }
   ],
   "source": [
    "bikeshare[bikeshare.anomaly_big == 0]"
   ]
  },
  {
   "cell_type": "code",
   "execution_count": 101,
   "id": "9a461b18",
   "metadata": {},
   "outputs": [
    {
     "data": {
      "text/plain": [
       "2247    36.90\n",
       "2248    36.90\n",
       "2249    36.90\n",
       "2414    36.08\n",
       "2415    36.90\n",
       "        ...  \n",
       "8716    36.08\n",
       "8717    36.90\n",
       "8718    36.90\n",
       "8813    36.08\n",
       "8814    36.08\n",
       "Name: temp, Length: 117, dtype: float64"
      ]
     },
     "execution_count": 101,
     "metadata": {},
     "output_type": "execute_result"
    }
   ],
   "source": [
    "anomaly_t_big = bikeshare.query('temp > 35.5020')\n",
    "anomaly_t_big.temp"
   ]
  },
  {
   "cell_type": "code",
   "execution_count": 117,
   "id": "fbb22721",
   "metadata": {},
   "outputs": [
    {
     "data": {
      "text/plain": [
       "1.074774940290281"
      ]
     },
     "execution_count": 117,
     "metadata": {},
     "output_type": "execute_result"
    }
   ],
   "source": [
    "#наблюдения выходящие за границы 95% доверительного интервала > 35.50\n",
    "117/(10769+117)*100"
   ]
  },
  {
   "cell_type": "code",
   "execution_count": 118,
   "id": "fa7b6ca1",
   "metadata": {},
   "outputs": [
    {
     "data": {
      "text/plain": [
       "<AxesSubplot:>"
      ]
     },
     "execution_count": 118,
     "metadata": {},
     "output_type": "execute_result"
    },
    {
     "data": {
      "image/png": "[encoded data removed]",
      "text/plain": [
       "<Figure size 432x288 with 1 Axes>"
      ]
     },
     "metadata": {
      "needs_background": "light"
     },
     "output_type": "display_data"
    }
   ],
   "source": [
    "bikeshare[bikeshare.temp <35.50].temp.hist()"
   ]
  },
  {
   "cell_type": "code",
   "execution_count": 106,
   "id": "14d5af09",
   "metadata": {},
   "outputs": [],
   "source": [
    "bikeshare[\"anomaly_small\"] = np.where(bikeshare.temp < confidence[0], 1,0)"
   ]
  },
  {
   "cell_type": "code",
   "execution_count": 108,
   "id": "d8637d1e",
   "metadata": {},
   "outputs": [
    {
     "data": {
      "text/html": [
       "<div>\n",
       "<style scoped>\n",
       "    .dataframe tbody tr th:only-of-type {\n",
       "        vertical-align: middle;\n",
       "    }\n",
       "\n",
       "    .dataframe tbody tr th {\n",
       "        vertical-align: top;\n",
       "    }\n",
       "\n",
       "    .dataframe thead th {\n",
       "        text-align: right;\n",
       "    }\n",
       "</style>\n",
       "<table border=\"1\" class=\"dataframe\">\n",
       "  <thead>\n",
       "    <tr style=\"text-align: right;\">\n",
       "      <th></th>\n",
       "      <th>holiday</th>\n",
       "      <th>workingday</th>\n",
       "      <th>season</th>\n",
       "      <th>humidity</th>\n",
       "      <th>temp</th>\n",
       "      <th>windspeed</th>\n",
       "      <th>count</th>\n",
       "      <th>anomaly_big</th>\n",
       "      <th>anomaly_small</th>\n",
       "    </tr>\n",
       "  </thead>\n",
       "  <tbody>\n",
       "    <tr>\n",
       "      <th>73</th>\n",
       "      <td>0</td>\n",
       "      <td>1</td>\n",
       "      <td>1</td>\n",
       "      <td>68</td>\n",
       "      <td>4.92</td>\n",
       "      <td>7.0015</td>\n",
       "      <td>4</td>\n",
       "      <td>0</td>\n",
       "      <td>1</td>\n",
       "    </tr>\n",
       "    <tr>\n",
       "      <th>74</th>\n",
       "      <td>0</td>\n",
       "      <td>1</td>\n",
       "      <td>1</td>\n",
       "      <td>74</td>\n",
       "      <td>4.92</td>\n",
       "      <td>7.0015</td>\n",
       "      <td>36</td>\n",
       "      <td>0</td>\n",
       "      <td>1</td>\n",
       "    </tr>\n",
       "    <tr>\n",
       "      <th>75</th>\n",
       "      <td>0</td>\n",
       "      <td>1</td>\n",
       "      <td>1</td>\n",
       "      <td>74</td>\n",
       "      <td>4.92</td>\n",
       "      <td>8.9981</td>\n",
       "      <td>94</td>\n",
       "      <td>0</td>\n",
       "      <td>1</td>\n",
       "    </tr>\n",
       "    <tr>\n",
       "      <th>181</th>\n",
       "      <td>0</td>\n",
       "      <td>0</td>\n",
       "      <td>1</td>\n",
       "      <td>36</td>\n",
       "      <td>4.92</td>\n",
       "      <td>16.9979</td>\n",
       "      <td>28</td>\n",
       "      <td>0</td>\n",
       "      <td>1</td>\n",
       "    </tr>\n",
       "    <tr>\n",
       "      <th>182</th>\n",
       "      <td>0</td>\n",
       "      <td>0</td>\n",
       "      <td>1</td>\n",
       "      <td>39</td>\n",
       "      <td>4.92</td>\n",
       "      <td>23.9994</td>\n",
       "      <td>37</td>\n",
       "      <td>0</td>\n",
       "      <td>1</td>\n",
       "    </tr>\n",
       "    <tr>\n",
       "      <th>...</th>\n",
       "      <td>...</td>\n",
       "      <td>...</td>\n",
       "      <td>...</td>\n",
       "      <td>...</td>\n",
       "      <td>...</td>\n",
       "      <td>...</td>\n",
       "      <td>...</td>\n",
       "      <td>...</td>\n",
       "      <td>...</td>\n",
       "    </tr>\n",
       "    <tr>\n",
       "      <th>6167</th>\n",
       "      <td>0</td>\n",
       "      <td>1</td>\n",
       "      <td>1</td>\n",
       "      <td>58</td>\n",
       "      <td>4.10</td>\n",
       "      <td>8.9981</td>\n",
       "      <td>17</td>\n",
       "      <td>0</td>\n",
       "      <td>1</td>\n",
       "    </tr>\n",
       "    <tr>\n",
       "      <th>6168</th>\n",
       "      <td>0</td>\n",
       "      <td>1</td>\n",
       "      <td>1</td>\n",
       "      <td>54</td>\n",
       "      <td>4.10</td>\n",
       "      <td>15.0013</td>\n",
       "      <td>72</td>\n",
       "      <td>0</td>\n",
       "      <td>1</td>\n",
       "    </tr>\n",
       "    <tr>\n",
       "      <th>6169</th>\n",
       "      <td>0</td>\n",
       "      <td>1</td>\n",
       "      <td>1</td>\n",
       "      <td>54</td>\n",
       "      <td>4.10</td>\n",
       "      <td>12.9980</td>\n",
       "      <td>195</td>\n",
       "      <td>0</td>\n",
       "      <td>1</td>\n",
       "    </tr>\n",
       "    <tr>\n",
       "      <th>6170</th>\n",
       "      <td>0</td>\n",
       "      <td>1</td>\n",
       "      <td>1</td>\n",
       "      <td>54</td>\n",
       "      <td>4.10</td>\n",
       "      <td>8.9981</td>\n",
       "      <td>417</td>\n",
       "      <td>0</td>\n",
       "      <td>1</td>\n",
       "    </tr>\n",
       "    <tr>\n",
       "      <th>6171</th>\n",
       "      <td>0</td>\n",
       "      <td>1</td>\n",
       "      <td>1</td>\n",
       "      <td>50</td>\n",
       "      <td>4.92</td>\n",
       "      <td>12.9980</td>\n",
       "      <td>205</td>\n",
       "      <td>0</td>\n",
       "      <td>1</td>\n",
       "    </tr>\n",
       "  </tbody>\n",
       "</table>\n",
       "<p>129 rows × 9 columns</p>\n",
       "</div>"
      ],
      "text/plain": [
       "      holiday  workingday  season  humidity  temp  windspeed  count  \\\n",
       "73          0           1       1        68  4.92     7.0015      4   \n",
       "74          0           1       1        74  4.92     7.0015     36   \n",
       "75          0           1       1        74  4.92     8.9981     94   \n",
       "181         0           0       1        36  4.92    16.9979     28   \n",
       "182         0           0       1        39  4.92    23.9994     37   \n",
       "...       ...         ...     ...       ...   ...        ...    ...   \n",
       "6167        0           1       1        58  4.10     8.9981     17   \n",
       "6168        0           1       1        54  4.10    15.0013     72   \n",
       "6169        0           1       1        54  4.10    12.9980    195   \n",
       "6170        0           1       1        54  4.10     8.9981    417   \n",
       "6171        0           1       1        50  4.92    12.9980    205   \n",
       "\n",
       "      anomaly_big  anomaly_small  \n",
       "73              0              1  \n",
       "74              0              1  \n",
       "75              0              1  \n",
       "181             0              1  \n",
       "182             0              1  \n",
       "...           ...            ...  \n",
       "6167            0              1  \n",
       "6168            0              1  \n",
       "6169            0              1  \n",
       "6170            0              1  \n",
       "6171            0              1  \n",
       "\n",
       "[129 rows x 9 columns]"
      ]
     },
     "execution_count": 108,
     "metadata": {},
     "output_type": "execute_result"
    }
   ],
   "source": [
    "#наблюдения выходящие за границы 95% доверительного интервала < 4.95\n",
    "bikeshare[bikeshare.anomaly_small == 1]"
   ]
  },
  {
   "cell_type": "code",
   "execution_count": 96,
   "id": "ff530678",
   "metadata": {},
   "outputs": [
    {
     "data": {
      "text/html": [
       "<div>\n",
       "<style scoped>\n",
       "    .dataframe tbody tr th:only-of-type {\n",
       "        vertical-align: middle;\n",
       "    }\n",
       "\n",
       "    .dataframe tbody tr th {\n",
       "        vertical-align: top;\n",
       "    }\n",
       "\n",
       "    .dataframe thead th {\n",
       "        text-align: right;\n",
       "    }\n",
       "</style>\n",
       "<table border=\"1\" class=\"dataframe\">\n",
       "  <thead>\n",
       "    <tr style=\"text-align: right;\">\n",
       "      <th></th>\n",
       "      <th>holiday</th>\n",
       "      <th>workingday</th>\n",
       "      <th>season</th>\n",
       "      <th>humidity</th>\n",
       "      <th>temp</th>\n",
       "      <th>windspeed</th>\n",
       "      <th>count</th>\n",
       "      <th>wind_log</th>\n",
       "      <th>anomaly_small</th>\n",
       "    </tr>\n",
       "  </thead>\n",
       "  <tbody>\n",
       "    <tr>\n",
       "      <th>0</th>\n",
       "      <td>0</td>\n",
       "      <td>0</td>\n",
       "      <td>1</td>\n",
       "      <td>81</td>\n",
       "      <td>9.84</td>\n",
       "      <td>0.0000</td>\n",
       "      <td>16</td>\n",
       "      <td>-inf</td>\n",
       "      <td>0</td>\n",
       "    </tr>\n",
       "    <tr>\n",
       "      <th>1</th>\n",
       "      <td>0</td>\n",
       "      <td>0</td>\n",
       "      <td>1</td>\n",
       "      <td>80</td>\n",
       "      <td>9.02</td>\n",
       "      <td>0.0000</td>\n",
       "      <td>40</td>\n",
       "      <td>-inf</td>\n",
       "      <td>0</td>\n",
       "    </tr>\n",
       "    <tr>\n",
       "      <th>2</th>\n",
       "      <td>0</td>\n",
       "      <td>0</td>\n",
       "      <td>1</td>\n",
       "      <td>80</td>\n",
       "      <td>9.02</td>\n",
       "      <td>0.0000</td>\n",
       "      <td>32</td>\n",
       "      <td>-inf</td>\n",
       "      <td>0</td>\n",
       "    </tr>\n",
       "    <tr>\n",
       "      <th>3</th>\n",
       "      <td>0</td>\n",
       "      <td>0</td>\n",
       "      <td>1</td>\n",
       "      <td>75</td>\n",
       "      <td>9.84</td>\n",
       "      <td>0.0000</td>\n",
       "      <td>13</td>\n",
       "      <td>-inf</td>\n",
       "      <td>0</td>\n",
       "    </tr>\n",
       "    <tr>\n",
       "      <th>4</th>\n",
       "      <td>0</td>\n",
       "      <td>0</td>\n",
       "      <td>1</td>\n",
       "      <td>75</td>\n",
       "      <td>9.84</td>\n",
       "      <td>0.0000</td>\n",
       "      <td>1</td>\n",
       "      <td>-inf</td>\n",
       "      <td>0</td>\n",
       "    </tr>\n",
       "    <tr>\n",
       "      <th>...</th>\n",
       "      <td>...</td>\n",
       "      <td>...</td>\n",
       "      <td>...</td>\n",
       "      <td>...</td>\n",
       "      <td>...</td>\n",
       "      <td>...</td>\n",
       "      <td>...</td>\n",
       "      <td>...</td>\n",
       "      <td>...</td>\n",
       "    </tr>\n",
       "    <tr>\n",
       "      <th>10881</th>\n",
       "      <td>0</td>\n",
       "      <td>1</td>\n",
       "      <td>4</td>\n",
       "      <td>50</td>\n",
       "      <td>15.58</td>\n",
       "      <td>26.0027</td>\n",
       "      <td>336</td>\n",
       "      <td>3.258200</td>\n",
       "      <td>0</td>\n",
       "    </tr>\n",
       "    <tr>\n",
       "      <th>10882</th>\n",
       "      <td>0</td>\n",
       "      <td>1</td>\n",
       "      <td>4</td>\n",
       "      <td>57</td>\n",
       "      <td>14.76</td>\n",
       "      <td>15.0013</td>\n",
       "      <td>241</td>\n",
       "      <td>2.708137</td>\n",
       "      <td>0</td>\n",
       "    </tr>\n",
       "    <tr>\n",
       "      <th>10883</th>\n",
       "      <td>0</td>\n",
       "      <td>1</td>\n",
       "      <td>4</td>\n",
       "      <td>61</td>\n",
       "      <td>13.94</td>\n",
       "      <td>15.0013</td>\n",
       "      <td>168</td>\n",
       "      <td>2.708137</td>\n",
       "      <td>0</td>\n",
       "    </tr>\n",
       "    <tr>\n",
       "      <th>10884</th>\n",
       "      <td>0</td>\n",
       "      <td>1</td>\n",
       "      <td>4</td>\n",
       "      <td>61</td>\n",
       "      <td>13.94</td>\n",
       "      <td>6.0032</td>\n",
       "      <td>129</td>\n",
       "      <td>1.792293</td>\n",
       "      <td>0</td>\n",
       "    </tr>\n",
       "    <tr>\n",
       "      <th>10885</th>\n",
       "      <td>0</td>\n",
       "      <td>1</td>\n",
       "      <td>4</td>\n",
       "      <td>66</td>\n",
       "      <td>13.12</td>\n",
       "      <td>8.9981</td>\n",
       "      <td>88</td>\n",
       "      <td>2.197013</td>\n",
       "      <td>0</td>\n",
       "    </tr>\n",
       "  </tbody>\n",
       "</table>\n",
       "<p>10757 rows × 9 columns</p>\n",
       "</div>"
      ],
      "text/plain": [
       "       holiday  workingday  season  humidity   temp  windspeed  count  \\\n",
       "0            0           0       1        81   9.84     0.0000     16   \n",
       "1            0           0       1        80   9.02     0.0000     40   \n",
       "2            0           0       1        80   9.02     0.0000     32   \n",
       "3            0           0       1        75   9.84     0.0000     13   \n",
       "4            0           0       1        75   9.84     0.0000      1   \n",
       "...        ...         ...     ...       ...    ...        ...    ...   \n",
       "10881        0           1       4        50  15.58    26.0027    336   \n",
       "10882        0           1       4        57  14.76    15.0013    241   \n",
       "10883        0           1       4        61  13.94    15.0013    168   \n",
       "10884        0           1       4        61  13.94     6.0032    129   \n",
       "10885        0           1       4        66  13.12     8.9981     88   \n",
       "\n",
       "       wind_log  anomaly_small  \n",
       "0          -inf              0  \n",
       "1          -inf              0  \n",
       "2          -inf              0  \n",
       "3          -inf              0  \n",
       "4          -inf              0  \n",
       "...         ...            ...  \n",
       "10881  3.258200              0  \n",
       "10882  2.708137              0  \n",
       "10883  2.708137              0  \n",
       "10884  1.792293              0  \n",
       "10885  2.197013              0  \n",
       "\n",
       "[10757 rows x 9 columns]"
      ]
     },
     "execution_count": 96,
     "metadata": {},
     "output_type": "execute_result"
    }
   ],
   "source": [
    "bikeshare[bikeshare.anomaly_small == 0]"
   ]
  },
  {
   "cell_type": "code",
   "execution_count": 99,
   "id": "c21c73c1",
   "metadata": {},
   "outputs": [
    {
     "data": {
      "text/plain": [
       "73      4.92\n",
       "74      4.92\n",
       "75      4.92\n",
       "181     4.92\n",
       "182     4.92\n",
       "        ... \n",
       "6167    4.10\n",
       "6168    4.10\n",
       "6169    4.10\n",
       "6170    4.10\n",
       "6171    4.92\n",
       "Name: temp, Length: 129, dtype: float64"
      ]
     },
     "execution_count": 99,
     "metadata": {},
     "output_type": "execute_result"
    }
   ],
   "source": [
    "anomaly_t_small = bikeshare.query('temp < 4.9596')\n",
    "anomaly_t_small.temp"
   ]
  },
  {
   "cell_type": "code",
   "execution_count": 98,
   "id": "c125bd8c",
   "metadata": {},
   "outputs": [
    {
     "data": {
      "text/plain": [
       "1.1850082674995406"
      ]
     },
     "execution_count": 98,
     "metadata": {},
     "output_type": "execute_result"
    }
   ],
   "source": [
    "#процент наблюдений температуры < 4.95\n",
    "129/(10757+129)*100"
   ]
  },
  {
   "cell_type": "code",
   "execution_count": 110,
   "id": "e130628c",
   "metadata": {},
   "outputs": [
    {
     "data": {
      "text/plain": [
       "<AxesSubplot:>"
      ]
     },
     "execution_count": 110,
     "metadata": {},
     "output_type": "execute_result"
    },
    {
     "data": {
      "image/png": "[encoded data removed]",
      "text/plain": [
       "<Figure size 432x288 with 1 Axes>"
      ]
     },
     "metadata": {
      "needs_background": "light"
     },
     "output_type": "display_data"
    }
   ],
   "source": [
    "bikeshare[bikeshare.temp > 4.95].temp.hist()"
   ]
  },
  {
   "cell_type": "code",
   "execution_count": 13,
   "id": "4c2de7ce",
   "metadata": {},
   "outputs": [],
   "source": [
    "#поиск высоких значений, выходящих за 3 сигмы метрики\n",
    "def max_anomaly_dataset (bikeshare, column):\n",
    "    upper_level = bikeshare[column].mean() + 3*bikeshare[column].std()\n",
    "    level_99 = np.percentile(bikeshare[column], 99)\n",
    "    anomaly = bikeshare[(bikeshare[column] >= upper_level)^(bikeshare[column] >= level_99)]\n",
    "    return anomaly, upper_level, level_99"
   ]
  },
  {
   "cell_type": "code",
   "execution_count": 14,
   "id": "7298f8ad",
   "metadata": {},
   "outputs": [
    {
     "data": {
      "text/plain": [
       "(      holiday  workingday  season  humidity   temp  windspeed  count\n",
       " 2247        0           1       2        37  36.90    12.9980    154\n",
       " 2248        0           1       2        37  36.90    16.9979    145\n",
       " 2249        0           1       2        39  36.90    19.9995    152\n",
       " 2414        0           1       2        42  36.08     8.9981    149\n",
       " 2415        0           1       2        42  36.90     0.0000    136\n",
       " ...       ...         ...     ...       ...    ...        ...    ...\n",
       " 8716        0           0       3        44  36.08    31.0009    523\n",
       " 8717        0           0       3        42  36.90    31.0009    526\n",
       " 8718        0           0       3        37  36.90    35.0008    450\n",
       " 8813        0           1       3        32  36.08    15.0013    247\n",
       " 8814        0           1       3        32  36.08    15.0013    267\n",
       " \n",
       " [117 rows x 7 columns],\n",
       " 43.605629351914686,\n",
       " 36.08)"
      ]
     },
     "execution_count": 14,
     "metadata": {},
     "output_type": "execute_result"
    }
   ],
   "source": [
    "anomaly_max = max_anomaly_dataset (bikeshare, column = 'temp')\n",
    "anomaly_max"
   ]
  },
  {
   "cell_type": "code",
   "execution_count": 142,
   "id": "a15822c2",
   "metadata": {},
   "outputs": [
    {
     "data": {
      "text/plain": [
       "43.605629351914686"
      ]
     },
     "execution_count": 142,
     "metadata": {},
     "output_type": "execute_result"
    }
   ],
   "source": [
    "anomaly_max[1]"
   ]
  },
  {
   "cell_type": "code",
   "execution_count": 143,
   "id": "b56a20d3",
   "metadata": {},
   "outputs": [
    {
     "data": {
      "text/plain": [
       "36.08"
      ]
     },
     "execution_count": 143,
     "metadata": {},
     "output_type": "execute_result"
    }
   ],
   "source": [
    "anomaly_max[2]"
   ]
  },
  {
   "cell_type": "code",
   "execution_count": 144,
   "id": "9abde85e",
   "metadata": {},
   "outputs": [
    {
     "name": "stderr",
     "output_type": "stream",
     "text": [
      "C:\\Users\\User\\anaconda3\\lib\\site-packages\\seaborn\\distributions.py:2619: FutureWarning: `distplot` is a deprecated function and will be removed in a future version. Please adapt your code to use either `displot` (a figure-level function with similar flexibility) or `histplot` (an axes-level function for histograms).\n",
      "  warnings.warn(msg, FutureWarning)\n"
     ]
    },
    {
     "data": {
      "text/plain": [
       "<matplotlib.lines.Line2D at 0x2118d541910>"
      ]
     },
     "execution_count": 144,
     "metadata": {},
     "output_type": "execute_result"
    },
    {
     "data": {
      "image/png": "[encoded data removed]",
      "text/plain": [
       "<Figure size 432x288 with 1 Axes>"
      ]
     },
     "metadata": {
      "needs_background": "light"
     },
     "output_type": "display_data"
    }
   ],
   "source": [
    "#отметим найденные значения на распределении\n",
    "sns.distplot(bikeshare.temp)\n",
    "plt.axvline(x=anomaly_max[1], color = \"r\", linestyle = \"-\")\n",
    "plt.axvline(x=anomaly_max[2], color = \"b\", linestyle = \"-\")"
   ]
  },
  {
   "cell_type": "code",
   "execution_count": 151,
   "id": "4e51e01a",
   "metadata": {},
   "outputs": [],
   "source": [
    "#поиск низких и высоких значений температуры +- 3 сигмы метрики\n",
    "def min_anomaly_dataset (bikeshare, column):\n",
    "    upper_level = bikeshare[column].mean() +- 3*bikeshare[column].std()\n",
    "    level_99 = np.percentile(bikeshare[column], 99)\n",
    "    anomaly = bikeshare[(bikeshare[column] >= upper_level)^(bikeshare[column] >= level_99)]\n",
    "    return anomaly, upper_level, level_99"
   ]
  },
  {
   "cell_type": "code",
   "execution_count": 156,
   "id": "d6348b41",
   "metadata": {},
   "outputs": [
    {
     "data": {
      "text/plain": [
       "(       holiday  workingday  season  humidity   temp  windspeed  count  \\\n",
       " 0            0           0       1        81   9.84     0.0000     16   \n",
       " 1            0           0       1        80   9.02     0.0000     40   \n",
       " 2            0           0       1        80   9.02     0.0000     32   \n",
       " 3            0           0       1        75   9.84     0.0000     13   \n",
       " 4            0           0       1        75   9.84     0.0000      1   \n",
       " ...        ...         ...     ...       ...    ...        ...    ...   \n",
       " 10881        0           1       4        50  15.58    26.0027    336   \n",
       " 10882        0           1       4        57  14.76    15.0013    241   \n",
       " 10883        0           1       4        61  13.94    15.0013    168   \n",
       " 10884        0           1       4        61  13.94     6.0032    129   \n",
       " 10885        0           1       4        66  13.12     8.9981     88   \n",
       " \n",
       "        anomaly_big  anomaly_small  \n",
       " 0                0              0  \n",
       " 1                0              0  \n",
       " 2                0              0  \n",
       " 3                0              0  \n",
       " 4                0              0  \n",
       " ...            ...            ...  \n",
       " 10881            0              0  \n",
       " 10882            0              0  \n",
       " 10883            0              0  \n",
       " 10884            0              0  \n",
       " 10885            0              0  \n",
       " \n",
       " [10769 rows x 9 columns],\n",
       " -3.1439097120103447,\n",
       " 36.08)"
      ]
     },
     "execution_count": 156,
     "metadata": {},
     "output_type": "execute_result"
    }
   ],
   "source": [
    "anomaly_min_max= min_anomaly_dataset (bikeshare, column = 'temp')\n",
    "anomaly_min_max"
   ]
  },
  {
   "cell_type": "code",
   "execution_count": 157,
   "id": "bf3f3400",
   "metadata": {},
   "outputs": [
    {
     "data": {
      "text/plain": [
       "-3.1439097120103447"
      ]
     },
     "execution_count": 157,
     "metadata": {},
     "output_type": "execute_result"
    }
   ],
   "source": [
    "anomaly_min_max[1]"
   ]
  },
  {
   "cell_type": "code",
   "execution_count": 158,
   "id": "a4638b52",
   "metadata": {},
   "outputs": [
    {
     "data": {
      "text/plain": [
       "36.08"
      ]
     },
     "execution_count": 158,
     "metadata": {},
     "output_type": "execute_result"
    }
   ],
   "source": [
    "anomaly_min_max[2]"
   ]
  },
  {
   "cell_type": "code",
   "execution_count": 160,
   "id": "19c2a58e",
   "metadata": {},
   "outputs": [
    {
     "name": "stderr",
     "output_type": "stream",
     "text": [
      "C:\\Users\\User\\anaconda3\\lib\\site-packages\\seaborn\\distributions.py:2619: FutureWarning: `distplot` is a deprecated function and will be removed in a future version. Please adapt your code to use either `displot` (a figure-level function with similar flexibility) or `histplot` (an axes-level function for histograms).\n",
      "  warnings.warn(msg, FutureWarning)\n"
     ]
    },
    {
     "data": {
      "text/plain": [
       "<matplotlib.lines.Line2D at 0x2118dbcc490>"
      ]
     },
     "execution_count": 160,
     "metadata": {},
     "output_type": "execute_result"
    },
    {
     "data": {
      "image/png": "[encoded data removed]",
      "text/plain": [
       "<Figure size 432x288 with 1 Axes>"
      ]
     },
     "metadata": {
      "needs_background": "light"
     },
     "output_type": "display_data"
    }
   ],
   "source": [
    "#отметим найденные значения на распределении\n",
    "sns.distplot(bikeshare.temp)\n",
    "plt.axvline(x=anomaly_min_max[1], color = \"r\", linestyle = \"-\")\n",
    "plt.axvline(x=anomaly_min_max[2], color = \"r\", linestyle = \"-\")"
   ]
  },
  {
   "cell_type": "code",
   "execution_count": 33,
   "id": "6bd29c2c",
   "metadata": {},
   "outputs": [
    {
     "name": "stdout",
     "output_type": "stream",
     "text": [
      "-3.1439097120103447 43.605629351914686\n"
     ]
    }
   ],
   "source": [
    "#определение границ выбросов другим путем\n",
    "lower_bound = bikeshare['temp'].mean()-3*bikeshare['temp'].std()\n",
    "upper_bound = bikeshare['temp'].mean()+3*bikeshare['temp'].std()\n",
    "print(lower_bound, upper_bound)"
   ]
  },
  {
   "cell_type": "markdown",
   "id": "868ab664",
   "metadata": {},
   "source": [
    "- Таким образом, все значения меньшие, чем -3.14 и большие, чем 43.60 будут считаться выбросами, проверим есть ли такие значения в показателях температуры."
   ]
  },
  {
   "cell_type": "code",
   "execution_count": 26,
   "id": "7d5bd158",
   "metadata": {},
   "outputs": [
    {
     "data": {
      "text/plain": [
       "Series([], Name: temp, dtype: float64)"
      ]
     },
     "execution_count": 26,
     "metadata": {},
     "output_type": "execute_result"
    }
   ],
   "source": [
    "t_small = bikeshare.query('temp < -3.1439097120103447')\n",
    "t_small.temp"
   ]
  },
  {
   "cell_type": "code",
   "execution_count": 32,
   "id": "cf570977",
   "metadata": {},
   "outputs": [
    {
     "data": {
      "text/plain": [
       "Series([], Name: temp, dtype: float64)"
      ]
     },
     "execution_count": 32,
     "metadata": {},
     "output_type": "execute_result"
    }
   ],
   "source": [
    "t_big = bikeshare.query('temp > 43.605')\n",
    "t_big.temp"
   ]
  },
  {
   "cell_type": "markdown",
   "id": "62407f62",
   "metadata": {},
   "source": [
    "- Так как получили пустые серии, можем сделать вывод, что выбросов в показаниях температуры нет."
   ]
  }
 ],
 "metadata": {
  "kernelspec": {
   "display_name": "Python 3 (ipykernel)",
   "language": "python",
   "name": "python3"
  },
  "language_info": {
   "codemirror_mode": {
    "name": "ipython",
    "version": 3
   },
   "file_extension": ".py",
   "mimetype": "text/x-python",
   "name": "python",
   "nbconvert_exporter": "python",
   "pygments_lexer": "ipython3",
   "version": "3.9.12"
  }
 },
 "nbformat": 4,
 "nbformat_minor": 5
}
