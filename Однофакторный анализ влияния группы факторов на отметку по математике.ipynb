{
 "cells": [
  {
   "cell_type": "code",
   "execution_count": 33,
   "id": "de58a8c0",
   "metadata": {},
   "outputs": [],
   "source": [
    "import pandas as pd\n",
    "import numpy as np\n",
    "\n",
    "import scipy.stats as ss\n",
    "import statsmodels.api as sm\n",
    "import statsmodels.formula.api as smf\n",
    "from statsmodels.stats.api import anova_lm\n",
    "from statsmodels.stats.multicomp import (pairwise_tukeyhsd,\n",
    "                                         MultiComparison)\n",
    "\n",
    "\n",
    "import matplotlib.pyplot as plt\n",
    "import seaborn as sns\n",
    "from scipy import stats\n",
    "import scipy.stats as st"
   ]
  },
  {
   "cell_type": "code",
   "execution_count": 36,
   "id": "dea97d05",
   "metadata": {},
   "outputs": [],
   "source": [
    "import scipy"
   ]
  },
  {
   "cell_type": "code",
   "execution_count": 2,
   "id": "b29be61d",
   "metadata": {},
   "outputs": [],
   "source": [
    "df = pd.read_csv(\"exams.csv\", sep = ',')"
   ]
  },
  {
   "cell_type": "code",
   "execution_count": 20,
   "id": "a5a8fb2d",
   "metadata": {},
   "outputs": [],
   "source": [
    "df_1 = df.query('math>20')"
   ]
  },
  {
   "cell_type": "code",
   "execution_count": 26,
   "id": "73f68770",
   "metadata": {},
   "outputs": [
    {
     "data": {
      "text/html": [
       "<div>\n",
       "<style scoped>\n",
       "    .dataframe tbody tr th:only-of-type {\n",
       "        vertical-align: middle;\n",
       "    }\n",
       "\n",
       "    .dataframe tbody tr th {\n",
       "        vertical-align: top;\n",
       "    }\n",
       "\n",
       "    .dataframe thead th {\n",
       "        text-align: right;\n",
       "    }\n",
       "</style>\n",
       "<table border=\"1\" class=\"dataframe\">\n",
       "  <thead>\n",
       "    <tr style=\"text-align: right;\">\n",
       "      <th></th>\n",
       "      <th>gender</th>\n",
       "      <th>race_ethnicity</th>\n",
       "      <th>parent_education_level</th>\n",
       "      <th>lunch</th>\n",
       "      <th>test_prep_course</th>\n",
       "      <th>math</th>\n",
       "    </tr>\n",
       "  </thead>\n",
       "  <tbody>\n",
       "    <tr>\n",
       "      <th>0</th>\n",
       "      <td>female</td>\n",
       "      <td>group B</td>\n",
       "      <td>bachelor's degree</td>\n",
       "      <td>standard</td>\n",
       "      <td>none</td>\n",
       "      <td>72</td>\n",
       "    </tr>\n",
       "    <tr>\n",
       "      <th>1</th>\n",
       "      <td>female</td>\n",
       "      <td>group C</td>\n",
       "      <td>some college</td>\n",
       "      <td>standard</td>\n",
       "      <td>completed</td>\n",
       "      <td>69</td>\n",
       "    </tr>\n",
       "    <tr>\n",
       "      <th>2</th>\n",
       "      <td>female</td>\n",
       "      <td>group B</td>\n",
       "      <td>master's degree</td>\n",
       "      <td>standard</td>\n",
       "      <td>none</td>\n",
       "      <td>90</td>\n",
       "    </tr>\n",
       "    <tr>\n",
       "      <th>3</th>\n",
       "      <td>male</td>\n",
       "      <td>group A</td>\n",
       "      <td>associate's degree</td>\n",
       "      <td>free/reduced</td>\n",
       "      <td>none</td>\n",
       "      <td>47</td>\n",
       "    </tr>\n",
       "    <tr>\n",
       "      <th>4</th>\n",
       "      <td>male</td>\n",
       "      <td>group C</td>\n",
       "      <td>some college</td>\n",
       "      <td>standard</td>\n",
       "      <td>none</td>\n",
       "      <td>76</td>\n",
       "    </tr>\n",
       "    <tr>\n",
       "      <th>...</th>\n",
       "      <td>...</td>\n",
       "      <td>...</td>\n",
       "      <td>...</td>\n",
       "      <td>...</td>\n",
       "      <td>...</td>\n",
       "      <td>...</td>\n",
       "    </tr>\n",
       "    <tr>\n",
       "      <th>995</th>\n",
       "      <td>female</td>\n",
       "      <td>group E</td>\n",
       "      <td>master's degree</td>\n",
       "      <td>standard</td>\n",
       "      <td>completed</td>\n",
       "      <td>88</td>\n",
       "    </tr>\n",
       "    <tr>\n",
       "      <th>996</th>\n",
       "      <td>male</td>\n",
       "      <td>group C</td>\n",
       "      <td>high school</td>\n",
       "      <td>free/reduced</td>\n",
       "      <td>none</td>\n",
       "      <td>62</td>\n",
       "    </tr>\n",
       "    <tr>\n",
       "      <th>997</th>\n",
       "      <td>female</td>\n",
       "      <td>group C</td>\n",
       "      <td>high school</td>\n",
       "      <td>free/reduced</td>\n",
       "      <td>completed</td>\n",
       "      <td>59</td>\n",
       "    </tr>\n",
       "    <tr>\n",
       "      <th>998</th>\n",
       "      <td>female</td>\n",
       "      <td>group D</td>\n",
       "      <td>some college</td>\n",
       "      <td>standard</td>\n",
       "      <td>completed</td>\n",
       "      <td>68</td>\n",
       "    </tr>\n",
       "    <tr>\n",
       "      <th>999</th>\n",
       "      <td>female</td>\n",
       "      <td>group D</td>\n",
       "      <td>some college</td>\n",
       "      <td>free/reduced</td>\n",
       "      <td>none</td>\n",
       "      <td>77</td>\n",
       "    </tr>\n",
       "  </tbody>\n",
       "</table>\n",
       "<p>996 rows × 6 columns</p>\n",
       "</div>"
      ],
      "text/plain": [
       "     gender race_ethnicity parent_education_level         lunch  \\\n",
       "0    female        group B      bachelor's degree      standard   \n",
       "1    female        group C           some college      standard   \n",
       "2    female        group B        master's degree      standard   \n",
       "3      male        group A     associate's degree  free/reduced   \n",
       "4      male        group C           some college      standard   \n",
       "..      ...            ...                    ...           ...   \n",
       "995  female        group E        master's degree      standard   \n",
       "996    male        group C            high school  free/reduced   \n",
       "997  female        group C            high school  free/reduced   \n",
       "998  female        group D           some college      standard   \n",
       "999  female        group D           some college  free/reduced   \n",
       "\n",
       "    test_prep_course  math  \n",
       "0               none    72  \n",
       "1          completed    69  \n",
       "2               none    90  \n",
       "3               none    47  \n",
       "4               none    76  \n",
       "..               ...   ...  \n",
       "995        completed    88  \n",
       "996             none    62  \n",
       "997        completed    59  \n",
       "998        completed    68  \n",
       "999             none    77  \n",
       "\n",
       "[996 rows x 6 columns]"
      ]
     },
     "execution_count": 26,
     "metadata": {},
     "output_type": "execute_result"
    }
   ],
   "source": [
    "df_1 = df_1.rename(columns=lambda c: c.lower().replace('-', '_').replace('/', '_').replace(' ', '_'))\n",
    "df_1"
   ]
  },
  {
   "cell_type": "markdown",
   "id": "f3e1d2c5",
   "metadata": {},
   "source": [
    "__Рассмотрим как влияют различные группы факторов на величину оценки по математике__"
   ]
  },
  {
   "cell_type": "code",
   "execution_count": 6,
   "id": "4ee1702d",
   "metadata": {},
   "outputs": [
    {
     "data": {
      "text/plain": [
       "<AxesSubplot:>"
      ]
     },
     "execution_count": 6,
     "metadata": {},
     "output_type": "execute_result"
    },
    {
     "data": {
      "image/png": "[encoded data removed]",
      "text/plain": [
       "<Figure size 432x288 with 1 Axes>"
      ]
     },
     "metadata": {
      "needs_background": "light"
     },
     "output_type": "display_data"
    }
   ],
   "source": [
    "df_1.math.hist()"
   ]
  },
  {
   "cell_type": "markdown",
   "id": "e6688390",
   "metadata": {},
   "source": [
    "\n",
    "- __Нулевая гипотеза H0:__ на отметку по математике не влияют различные факторы\n",
    "\n",
    "\n",
    "- __Альтернативная гипотеза H1:__ на величину отметки по математике оказывают влияние различные факторы"
   ]
  },
  {
   "cell_type": "markdown",
   "id": "8cf9ca1c",
   "metadata": {},
   "source": [
    "__Расмотрим влияние национальной принадлежности на величину отметки по математике__"
   ]
  },
  {
   "cell_type": "code",
   "execution_count": 29,
   "id": "a74b19ac",
   "metadata": {},
   "outputs": [
    {
     "data": {
      "text/plain": [
       "group C    318\n",
       "group D    262\n",
       "group B    187\n",
       "group E    140\n",
       "group A     89\n",
       "Name: race_ethnicity, dtype: int64"
      ]
     },
     "execution_count": 29,
     "metadata": {},
     "output_type": "execute_result"
    }
   ],
   "source": [
    "df_1['race_ethnicity'].value_counts()"
   ]
  },
  {
   "cell_type": "code",
   "execution_count": 31,
   "id": "1d93d484",
   "metadata": {},
   "outputs": [],
   "source": [
    "A = df_1.query('race_ethnicity==\"group A\"').math\n",
    "B = df_1.query('race_ethnicity==\"group B\"').math\n",
    "C = df_1.query('race_ethnicity==\"group C\"').math\n",
    "D = df_1.query('race_ethnicity==\"group D\"').math\n",
    "E = df_1.query('race_ethnicity==\"group E\"').math"
   ]
  },
  {
   "cell_type": "code",
   "execution_count": 37,
   "id": "6e80c47f",
   "metadata": {},
   "outputs": [
    {
     "data": {
      "text/plain": [
       "LeveneResult(statistic=0.5554664321392196, pvalue=0.6950737218982223)"
      ]
     },
     "execution_count": 37,
     "metadata": {},
     "output_type": "execute_result"
    }
   ],
   "source": [
    "#проверка на однородность дисперсий\n",
    "scipy.stats.levene(A, B, C, D, E)"
   ]
  },
  {
   "cell_type": "markdown",
   "id": "b2b06b17",
   "metadata": {},
   "source": [
    "pvalue > 0.05 принимаем нулевую гипотезу"
   ]
  },
  {
   "cell_type": "code",
   "execution_count": 42,
   "id": "b144ac0f",
   "metadata": {},
   "outputs": [
    {
     "data": {
      "text/plain": [
       "F_onewayResult(statistic=14.230353484366937, pvalue=2.6757865311025053e-11)"
      ]
     },
     "execution_count": 42,
     "metadata": {},
     "output_type": "execute_result"
    }
   ],
   "source": [
    "#однофакторный анализ\n",
    "ss.f_oneway(A, B, C, D, E)"
   ]
  },
  {
   "cell_type": "markdown",
   "id": "db84249f",
   "metadata": {},
   "source": [
    "- pvalue <0.05 отклоняем нулевую гипотезу, принимаем альтернативную."
   ]
  },
  {
   "cell_type": "code",
   "execution_count": 47,
   "id": "c59a819f",
   "metadata": {},
   "outputs": [
    {
     "data": {
      "text/html": [
       "<table class=\"simpletable\">\n",
       "<caption>Multiple Comparison of Means - Tukey HSD, FWER=0.05</caption>\n",
       "<tr>\n",
       "  <th>group1</th>  <th>group2</th>  <th>meandiff</th>  <th>p-adj</th>  <th>lower</th>   <th>upper</th>  <th>reject</th>\n",
       "</tr>\n",
       "<tr>\n",
       "  <td>group A</td> <td>group B</td>  <td>2.6007</td>  <td>0.6264</td> <td>-2.4678</td> <td>7.6693</td>   <td>False</td>\n",
       "</tr>\n",
       "<tr>\n",
       "  <td>group A</td> <td>group C</td>  <td>3.0375</td>  <td>0.3985</td> <td>-1.6824</td> <td>7.7573</td>   <td>False</td>\n",
       "</tr>\n",
       "<tr>\n",
       "  <td>group A</td> <td>group D</td>  <td>5.7334</td>  <td>0.0106</td> <td>0.9045</td>  <td>10.5623</td>  <td>True</td> \n",
       "</tr>\n",
       "<tr>\n",
       "  <td>group A</td> <td>group E</td>  <td>12.1922</td>   <td>0.0</td>  <td>6.8564</td>  <td>17.528</td>   <td>True</td> \n",
       "</tr>\n",
       "<tr>\n",
       "  <td>group B</td> <td>group C</td>  <td>0.4367</td>  <td>0.9975</td> <td>-3.1903</td> <td>4.0638</td>   <td>False</td>\n",
       "</tr>\n",
       "<tr>\n",
       "  <td>group B</td> <td>group D</td>  <td>3.1326</td>  <td>0.1548</td> <td>-0.6352</td> <td>6.9005</td>   <td>False</td>\n",
       "</tr>\n",
       "<tr>\n",
       "  <td>group B</td> <td>group E</td>  <td>9.5915</td>    <td>0.0</td>  <td>5.1927</td>  <td>13.9903</td>  <td>True</td> \n",
       "</tr>\n",
       "<tr>\n",
       "  <td>group C</td> <td>group D</td>  <td>2.6959</td>  <td>0.1647</td> <td>-0.588</td>  <td>5.9799</td>   <td>False</td>\n",
       "</tr>\n",
       "<tr>\n",
       "  <td>group C</td> <td>group E</td>  <td>9.1548</td>    <td>0.0</td>  <td>5.1627</td>  <td>13.1468</td>  <td>True</td> \n",
       "</tr>\n",
       "<tr>\n",
       "  <td>group D</td> <td>group E</td>  <td>6.4588</td>  <td>0.0002</td> <td>2.3384</td>  <td>10.5793</td>  <td>True</td> \n",
       "</tr>\n",
       "</table>"
      ],
      "text/plain": [
       "<class 'statsmodels.iolib.table.SimpleTable'>"
      ]
     },
     "execution_count": 47,
     "metadata": {},
     "output_type": "execute_result"
    }
   ],
   "source": [
    "#сравнения Тьюки\n",
    "pairwise_tukeyhsd(df_1.math, df_1.race_ethnicity).summary()"
   ]
  },
  {
   "cell_type": "markdown",
   "id": "c3d33f5d",
   "metadata": {},
   "source": [
    "- На величину отметки по математике оказывает влияние национальная принадлежность студентов"
   ]
  },
  {
   "cell_type": "markdown",
   "id": "58588d55",
   "metadata": {},
   "source": [
    "__Расмотрим влияние пола на величину отметки по математике__"
   ]
  },
  {
   "cell_type": "code",
   "execution_count": 48,
   "id": "1be782a2",
   "metadata": {},
   "outputs": [
    {
     "data": {
      "text/plain": [
       "female    514\n",
       "male      482\n",
       "Name: gender, dtype: int64"
      ]
     },
     "execution_count": 48,
     "metadata": {},
     "output_type": "execute_result"
    }
   ],
   "source": [
    "df_1['gender'].value_counts()"
   ]
  },
  {
   "cell_type": "code",
   "execution_count": 49,
   "id": "69b314e4",
   "metadata": {},
   "outputs": [],
   "source": [
    "A1 = df_1.query('gender==\"female\"').math\n",
    "B1 = df_1.query('gender==\"male\"').math"
   ]
  },
  {
   "cell_type": "code",
   "execution_count": 50,
   "id": "a8268e6f",
   "metadata": {},
   "outputs": [
    {
     "data": {
      "text/plain": [
       "LeveneResult(statistic=0.0008682970916602684, pvalue=0.9764981474773227)"
      ]
     },
     "execution_count": 50,
     "metadata": {},
     "output_type": "execute_result"
    }
   ],
   "source": [
    "#проверка на однородность дисперсий\n",
    "scipy.stats.levene(A1, B1)"
   ]
  },
  {
   "cell_type": "markdown",
   "id": "3a38de38",
   "metadata": {},
   "source": [
    "- pvalue > 0.05 принимаем нулевую гипотезу"
   ]
  },
  {
   "cell_type": "code",
   "execution_count": 54,
   "id": "a2c31e60",
   "metadata": {},
   "outputs": [
    {
     "data": {
      "text/plain": [
       "F_onewayResult(statistic=25.636312987753477, pvalue=4.910666089618626e-07)"
      ]
     },
     "execution_count": 54,
     "metadata": {},
     "output_type": "execute_result"
    }
   ],
   "source": [
    "#однофакторный анализ\n",
    "ss.f_oneway(A1, B1)"
   ]
  },
  {
   "cell_type": "markdown",
   "id": "bd4be2a6",
   "metadata": {},
   "source": [
    "- pvalue <0.05 отклоняем нулевую гипотезу, принимаем альтернативную"
   ]
  },
  {
   "cell_type": "code",
   "execution_count": 55,
   "id": "2bd42115",
   "metadata": {},
   "outputs": [
    {
     "data": {
      "text/html": [
       "<table class=\"simpletable\">\n",
       "<caption>Multiple Comparison of Means - Tukey HSD, FWER=0.05</caption>\n",
       "<tr>\n",
       "  <th>group1</th> <th>group2</th> <th>meandiff</th> <th>p-adj</th>  <th>lower</th> <th>upper</th> <th>reject</th>\n",
       "</tr>\n",
       "<tr>\n",
       "  <td>female</td>  <td>male</td>   <td>4.6874</td>   <td>0.0</td>  <td>2.8707</td> <td>6.504</td>  <td>True</td> \n",
       "</tr>\n",
       "</table>"
      ],
      "text/plain": [
       "<class 'statsmodels.iolib.table.SimpleTable'>"
      ]
     },
     "execution_count": 55,
     "metadata": {},
     "output_type": "execute_result"
    }
   ],
   "source": [
    "#сравнения Тьюки\n",
    "pairwise_tukeyhsd(df_1.math, df_1.gender).summary()"
   ]
  },
  {
   "cell_type": "markdown",
   "id": "4d21fdef",
   "metadata": {},
   "source": [
    "- male > female, следовательно, на оценку по математике оказывает влияет пол (у студентов мужского пола отметка по математике выше)"
   ]
  },
  {
   "cell_type": "markdown",
   "id": "f6d4c5d8",
   "metadata": {},
   "source": [
    "__Расмотрим влияет ли на величину отметки по математике прошел ли студент подготовительный курс__"
   ]
  },
  {
   "cell_type": "code",
   "execution_count": 56,
   "id": "9173bc7f",
   "metadata": {},
   "outputs": [
    {
     "data": {
      "text/plain": [
       "none         638\n",
       "completed    358\n",
       "Name: test_prep_course, dtype: int64"
      ]
     },
     "execution_count": 56,
     "metadata": {},
     "output_type": "execute_result"
    }
   ],
   "source": [
    "df_1['test_prep_course'].value_counts()"
   ]
  },
  {
   "cell_type": "code",
   "execution_count": 57,
   "id": "90cce7aa",
   "metadata": {},
   "outputs": [],
   "source": [
    "A2 = df_1.query('test_prep_course==\"none\"').math\n",
    "B2 = df_1.query('test_prep_course==\"completed\"').math"
   ]
  },
  {
   "cell_type": "code",
   "execution_count": 58,
   "id": "1280c666",
   "metadata": {},
   "outputs": [
    {
     "data": {
      "text/plain": [
       "LeveneResult(statistic=0.09968996427426897, pvalue=0.7522682867889527)"
      ]
     },
     "execution_count": 58,
     "metadata": {},
     "output_type": "execute_result"
    }
   ],
   "source": [
    "#проверка на однородность дисперсий\n",
    "scipy.stats.levene(A2, B2)"
   ]
  },
  {
   "cell_type": "markdown",
   "id": "484cf5a9",
   "metadata": {},
   "source": [
    "pvalue > 0.05 принимаем нулевую гипотезу"
   ]
  },
  {
   "cell_type": "code",
   "execution_count": 64,
   "id": "42e8f75c",
   "metadata": {},
   "outputs": [
    {
     "data": {
      "text/plain": [
       "F_onewayResult(statistic=30.19653677123524, pvalue=4.9608359860911716e-08)"
      ]
     },
     "execution_count": 64,
     "metadata": {},
     "output_type": "execute_result"
    }
   ],
   "source": [
    "#однофакторный анализ\n",
    "ss.f_oneway(A2, B2)"
   ]
  },
  {
   "cell_type": "markdown",
   "id": "2f1972bb",
   "metadata": {},
   "source": [
    "- pvalue<0.05 отклоняем нулевую гипотезу, принимаем альтернативную"
   ]
  },
  {
   "cell_type": "code",
   "execution_count": 67,
   "id": "de1cdd7d",
   "metadata": {},
   "outputs": [
    {
     "data": {
      "text/html": [
       "<table class=\"simpletable\">\n",
       "<caption>Multiple Comparison of Means - Tukey HSD, FWER=0.05</caption>\n",
       "<tr>\n",
       "   <th>group1</th>   <th>group2</th> <th>meandiff</th> <th>p-adj</th>  <th>lower</th>   <th>upper</th>  <th>reject</th>\n",
       "</tr>\n",
       "<tr>\n",
       "  <td>completed</td>  <td>none</td>   <td>-5.2864</td>  <td>0.0</td>  <td>-7.1743</td> <td>-3.3986</td>  <td>True</td> \n",
       "</tr>\n",
       "</table>"
      ],
      "text/plain": [
       "<class 'statsmodels.iolib.table.SimpleTable'>"
      ]
     },
     "execution_count": 67,
     "metadata": {},
     "output_type": "execute_result"
    }
   ],
   "source": [
    "#сравнения Тьюки\n",
    "pairwise_tukeyhsd(df_1.math, df_1.test_prep_course).summary()"
   ]
  },
  {
   "cell_type": "markdown",
   "id": "7a3379fe",
   "metadata": {},
   "source": [
    "- На величину оценки по математике влияет прошел ли он подготовительный курс (у тех студентов, которые прошли подготовительный курс, отметка намного выше (none < completed))"
   ]
  },
  {
   "cell_type": "markdown",
   "id": "9d6a771f",
   "metadata": {},
   "source": [
    "__Расмотрим влияет ли на величину отметки по математике уровень образования родителя__"
   ]
  },
  {
   "cell_type": "code",
   "execution_count": 69,
   "id": "b76906e5",
   "metadata": {},
   "outputs": [
    {
     "data": {
      "text/plain": [
       "some college          225\n",
       "associate's degree    222\n",
       "high school           195\n",
       "some high school      177\n",
       "bachelor's degree     118\n",
       "master's degree        59\n",
       "Name: parent_education_level, dtype: int64"
      ]
     },
     "execution_count": 69,
     "metadata": {},
     "output_type": "execute_result"
    }
   ],
   "source": [
    "df_1['parent_education_level'].value_counts()"
   ]
  },
  {
   "cell_type": "code",
   "execution_count": 85,
   "id": "4266346a",
   "metadata": {},
   "outputs": [],
   "source": [
    "A3 = df_1.query('parent_education_level==\"some college\"').math\n",
    "B3 = df_1.query('parent_education_level==\"high school\"').math\n",
    "C3 = df_1.query('parent_education_level==\"some high school\"').math"
   ]
  },
  {
   "cell_type": "code",
   "execution_count": 86,
   "id": "a3ca0f3c",
   "metadata": {},
   "outputs": [
    {
     "data": {
      "text/plain": [
       "LeveneResult(statistic=0.5492905927134344, pvalue=0.5776522287576265)"
      ]
     },
     "execution_count": 86,
     "metadata": {},
     "output_type": "execute_result"
    }
   ],
   "source": [
    "#проверка на однородность дисперсий\n",
    "scipy.stats.levene(A3, B3, C3)"
   ]
  },
  {
   "cell_type": "markdown",
   "id": "24f4f0d9",
   "metadata": {},
   "source": [
    "- pvalue > 0.05 принимаем нулевую гипотезу"
   ]
  },
  {
   "cell_type": "code",
   "execution_count": 87,
   "id": "898da0a6",
   "metadata": {},
   "outputs": [
    {
     "data": {
      "text/plain": [
       "F_onewayResult(statistic=6.493358556197215, pvalue=0.0016231382415017768)"
      ]
     },
     "execution_count": 87,
     "metadata": {},
     "output_type": "execute_result"
    }
   ],
   "source": [
    "#однофакторный анализ\n",
    "ss.f_oneway(A3, B3, C3)"
   ]
  },
  {
   "cell_type": "markdown",
   "id": "8a14b3b1",
   "metadata": {},
   "source": [
    "- pvalue<0.05 отклоняем нулевую гипотезу, принимаем альтернативную"
   ]
  },
  {
   "cell_type": "code",
   "execution_count": 88,
   "id": "0beaf9b6",
   "metadata": {},
   "outputs": [
    {
     "data": {
      "text/html": [
       "<table class=\"simpletable\">\n",
       "<caption>Multiple Comparison of Means - Tukey HSD, FWER=0.05</caption>\n",
       "<tr>\n",
       "        <th>group1</th>            <th>group2</th>       <th>meandiff</th>  <th>p-adj</th>   <th>lower</th>   <th>upper</th>  <th>reject</th>\n",
       "</tr>\n",
       "<tr>\n",
       "  <td>associate's degree</td> <td>bachelor's degree</td>  <td>1.5069</td>   <td>0.945</td>  <td>-3.2415</td> <td>6.2554</td>   <td>False</td>\n",
       "</tr>\n",
       "<tr>\n",
       "  <td>associate's degree</td>    <td>high school</td>     <td>-5.4675</td>  <td>0.002</td>  <td>-9.5582</td> <td>-1.3768</td>  <td>True</td> \n",
       "</tr>\n",
       "<tr>\n",
       "  <td>associate's degree</td>  <td>master's degree</td>   <td>1.8629</td>  <td>0.9533</td>  <td>-4.242</td>  <td>7.9678</td>   <td>False</td>\n",
       "</tr>\n",
       "<tr>\n",
       "  <td>associate's degree</td>   <td>some college</td>     <td>-0.5407</td> <td>0.9988</td>  <td>-4.4835</td> <td>3.4022</td>   <td>False</td>\n",
       "</tr>\n",
       "<tr>\n",
       "  <td>associate's degree</td> <td>some high school</td>   <td>-3.7699</td> <td>0.1075</td>  <td>-7.9699</td> <td>0.4301</td>   <td>False</td>\n",
       "</tr>\n",
       "<tr>\n",
       "   <td>bachelor's degree</td>    <td>high school</td>     <td>-6.9744</td> <td>0.0006</td> <td>-11.8356</td> <td>-2.1133</td>  <td>True</td> \n",
       "</tr>\n",
       "<tr>\n",
       "   <td>bachelor's degree</td>  <td>master's degree</td>   <td>0.3559</td>    <td>1.0</td>   <td>-6.2899</td> <td>7.0017</td>   <td>False</td>\n",
       "</tr>\n",
       "<tr>\n",
       "   <td>bachelor's degree</td>   <td>some college</td>     <td>-2.0476</td>  <td>0.82</td>   <td>-6.785</td>  <td>2.6898</td>   <td>False</td>\n",
       "</tr>\n",
       "<tr>\n",
       "   <td>bachelor's degree</td> <td>some high school</td>   <td>-5.2768</td> <td>0.0291</td> <td>-10.2303</td> <td>-0.3234</td>  <td>True</td> \n",
       "</tr>\n",
       "<tr>\n",
       "      <td>high school</td>     <td>master's degree</td>   <td>7.3304</td>  <td>0.0098</td>  <td>1.1374</td>  <td>13.5234</td>  <td>True</td> \n",
       "</tr>\n",
       "<tr>\n",
       "      <td>high school</td>      <td>some college</td>     <td>4.9268</td>  <td>0.0077</td>  <td>0.8489</td>  <td>9.0048</td>   <td>True</td> \n",
       "</tr>\n",
       "<tr>\n",
       "      <td>high school</td>    <td>some high school</td>   <td>1.6976</td>  <td>0.8731</td>  <td>-2.6295</td> <td>6.0247</td>   <td>False</td>\n",
       "</tr>\n",
       "<tr>\n",
       "    <td>master's degree</td>    <td>some college</td>     <td>-2.4035</td> <td>0.8707</td>  <td>-8.4999</td> <td>3.6928</td>   <td>False</td>\n",
       "</tr>\n",
       "<tr>\n",
       "    <td>master's degree</td>  <td>some high school</td>   <td>-5.6328</td> <td>0.1065</td> <td>-11.8985</td> <td>0.6329</td>   <td>False</td>\n",
       "</tr>\n",
       "<tr>\n",
       "     <td>some college</td>    <td>some high school</td>   <td>-3.2292</td> <td>0.2377</td>  <td>-7.4168</td> <td>0.9583</td>   <td>False</td>\n",
       "</tr>\n",
       "</table>"
      ],
      "text/plain": [
       "<class 'statsmodels.iolib.table.SimpleTable'>"
      ]
     },
     "execution_count": 88,
     "metadata": {},
     "output_type": "execute_result"
    }
   ],
   "source": [
    "#сравнения Тьюки\n",
    "pairwise_tukeyhsd(df_1.math, df_1.parent_education_level).summary()"
   ]
  },
  {
   "cell_type": "markdown",
   "id": "ea9a30d0",
   "metadata": {},
   "source": [
    "- На отметку по математике оказывает некоторое влияние уровень образования родителя."
   ]
  },
  {
   "cell_type": "markdown",
   "id": "6b59f0ce",
   "metadata": {},
   "source": [
    "__Расмотрим как оказывает влияние на величину отметки по математике бесплатное питание__"
   ]
  },
  {
   "cell_type": "code",
   "execution_count": 90,
   "id": "6fabfdd4",
   "metadata": {},
   "outputs": [
    {
     "data": {
      "text/plain": [
       "standard        644\n",
       "free/reduced    352\n",
       "Name: lunch, dtype: int64"
      ]
     },
     "execution_count": 90,
     "metadata": {},
     "output_type": "execute_result"
    }
   ],
   "source": [
    "df_1['lunch'].value_counts()"
   ]
  },
  {
   "cell_type": "code",
   "execution_count": 91,
   "id": "051eee19",
   "metadata": {},
   "outputs": [],
   "source": [
    "A4 = df_1.query('lunch==\"standard\"').math\n",
    "B4 = df_1.query('lunch==\"free/reduced\"').math"
   ]
  },
  {
   "cell_type": "code",
   "execution_count": 92,
   "id": "bd164bd5",
   "metadata": {},
   "outputs": [
    {
     "data": {
      "text/plain": [
       "LeveneResult(statistic=1.8526255459931282, pvalue=0.17378681837469295)"
      ]
     },
     "execution_count": 92,
     "metadata": {},
     "output_type": "execute_result"
    }
   ],
   "source": [
    "#проверка на однородность дисперсий\n",
    "scipy.stats.levene(A4, B4)"
   ]
  },
  {
   "cell_type": "markdown",
   "id": "9ee419cb",
   "metadata": {},
   "source": [
    "- pvalue > 0.05 принимаем нулевую гипотезу"
   ]
  },
  {
   "cell_type": "code",
   "execution_count": 93,
   "id": "038e417e",
   "metadata": {},
   "outputs": [
    {
     "data": {
      "text/plain": [
       "F_onewayResult(statistic=137.2354038915368, pvalue=8.775580202101562e-30)"
      ]
     },
     "execution_count": 93,
     "metadata": {},
     "output_type": "execute_result"
    }
   ],
   "source": [
    "#однофакторный анализ\n",
    "ss.f_oneway(A4, B4)"
   ]
  },
  {
   "cell_type": "markdown",
   "id": "45ece485",
   "metadata": {},
   "source": [
    "- pvalue<0.05 отклоняем нулевую гипотезу, принимаем альтернативную"
   ]
  },
  {
   "cell_type": "code",
   "execution_count": 94,
   "id": "a7702168",
   "metadata": {},
   "outputs": [
    {
     "data": {
      "text/html": [
       "<table class=\"simpletable\">\n",
       "<caption>Multiple Comparison of Means - Tukey HSD, FWER=0.05</caption>\n",
       "<tr>\n",
       "     <th>group1</th>     <th>group2</th>  <th>meandiff</th> <th>p-adj</th>  <th>lower</th>  <th>upper</th> <th>reject</th>\n",
       "</tr>\n",
       "<tr>\n",
       "  <td>free/reduced</td> <td>standard</td>  <td>10.7639</td> <td>-0.0</td>  <td>8.9608</td> <td>12.567</td>  <td>True</td> \n",
       "</tr>\n",
       "</table>"
      ],
      "text/plain": [
       "<class 'statsmodels.iolib.table.SimpleTable'>"
      ]
     },
     "execution_count": 94,
     "metadata": {},
     "output_type": "execute_result"
    }
   ],
   "source": [
    "#сравнения Тьюки\n",
    "pairwise_tukeyhsd(df_1.math, df_1.lunch).summary()"
   ]
  },
  {
   "cell_type": "markdown",
   "id": "0a879b10",
   "metadata": {},
   "source": [
    "- На отметку по математике действительно оказывает влияние тот фактор, получает ли студент бесплатный обед.\n",
    "- standard > free/reduced, следовательно у студентов, которые оплачивают питание, отметка по математике намного выше."
   ]
  },
  {
   "cell_type": "markdown",
   "id": "60aad1fd",
   "metadata": {},
   "source": [
    "__Вывод: на рассмотренном примере можем наглядно и статистически убедиться, что некоторые группы факторов действительно оказывают существенное влияние на уровень отметки по математике у студентов.__"
   ]
  }
 ],
 "metadata": {
  "kernelspec": {
   "display_name": "Python 3 (ipykernel)",
   "language": "python",
   "name": "python3"
  },
  "language_info": {
   "codemirror_mode": {
    "name": "ipython",
    "version": 3
   },
   "file_extension": ".py",
   "mimetype": "text/x-python",
   "name": "python",
   "nbconvert_exporter": "python",
   "pygments_lexer": "ipython3",
   "version": "3.9.12"
  }
 },
 "nbformat": 4,
 "nbformat_minor": 5
}
