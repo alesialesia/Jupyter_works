{
 "cells": [
  {
   "cell_type": "code",
   "execution_count": 1,
   "id": "fb84933c",
   "metadata": {},
   "outputs": [],
   "source": [
    "import pandas as pd"
   ]
  },
  {
   "cell_type": "code",
   "execution_count": 3,
   "id": "454bfe0e",
   "metadata": {},
   "outputs": [],
   "source": [
    "df = pd.read_csv('50_Startups.csv')"
   ]
  },
  {
   "cell_type": "code",
   "execution_count": 4,
   "id": "9b02ac05",
   "metadata": {},
   "outputs": [
    {
     "data": {
      "text/html": [
       "<div>\n",
       "<style scoped>\n",
       "    .dataframe tbody tr th:only-of-type {\n",
       "        vertical-align: middle;\n",
       "    }\n",
       "\n",
       "    .dataframe tbody tr th {\n",
       "        vertical-align: top;\n",
       "    }\n",
       "\n",
       "    .dataframe thead th {\n",
       "        text-align: right;\n",
       "    }\n",
       "</style>\n",
       "<table border=\"1\" class=\"dataframe\">\n",
       "  <thead>\n",
       "    <tr style=\"text-align: right;\">\n",
       "      <th></th>\n",
       "      <th>R&amp;D Spend</th>\n",
       "      <th>Administration</th>\n",
       "      <th>Marketing Spend</th>\n",
       "      <th>State</th>\n",
       "      <th>Profit</th>\n",
       "    </tr>\n",
       "  </thead>\n",
       "  <tbody>\n",
       "    <tr>\n",
       "      <th>0</th>\n",
       "      <td>165349.20</td>\n",
       "      <td>136897.80</td>\n",
       "      <td>471784.10</td>\n",
       "      <td>New York</td>\n",
       "      <td>192261.83</td>\n",
       "    </tr>\n",
       "    <tr>\n",
       "      <th>1</th>\n",
       "      <td>162597.70</td>\n",
       "      <td>151377.59</td>\n",
       "      <td>443898.53</td>\n",
       "      <td>California</td>\n",
       "      <td>191792.06</td>\n",
       "    </tr>\n",
       "    <tr>\n",
       "      <th>2</th>\n",
       "      <td>153441.51</td>\n",
       "      <td>101145.55</td>\n",
       "      <td>407934.54</td>\n",
       "      <td>Florida</td>\n",
       "      <td>191050.39</td>\n",
       "    </tr>\n",
       "    <tr>\n",
       "      <th>3</th>\n",
       "      <td>144372.41</td>\n",
       "      <td>118671.85</td>\n",
       "      <td>383199.62</td>\n",
       "      <td>New York</td>\n",
       "      <td>182901.99</td>\n",
       "    </tr>\n",
       "    <tr>\n",
       "      <th>4</th>\n",
       "      <td>142107.34</td>\n",
       "      <td>91391.77</td>\n",
       "      <td>366168.42</td>\n",
       "      <td>Florida</td>\n",
       "      <td>166187.94</td>\n",
       "    </tr>\n",
       "  </tbody>\n",
       "</table>\n",
       "</div>"
      ],
      "text/plain": [
       "   R&D Spend  Administration  Marketing Spend       State     Profit\n",
       "0  165349.20       136897.80        471784.10    New York  192261.83\n",
       "1  162597.70       151377.59        443898.53  California  191792.06\n",
       "2  153441.51       101145.55        407934.54     Florida  191050.39\n",
       "3  144372.41       118671.85        383199.62    New York  182901.99\n",
       "4  142107.34        91391.77        366168.42     Florida  166187.94"
      ]
     },
     "execution_count": 4,
     "metadata": {},
     "output_type": "execute_result"
    }
   ],
   "source": [
    "df.head()\n",
    "#R&D Spend – расходы на разработку\n",
    "#Administration – административные расходы\n",
    "#Marketing Spend – маркетинговые расходы\n",
    "#State – регион\n",
    "#Profit - прибыль"
   ]
  },
  {
   "cell_type": "markdown",
   "id": "e56453f7",
   "metadata": {},
   "source": [
    "_Посмотрим в каком ‘state’ максимальный profit_"
   ]
  },
  {
   "cell_type": "code",
   "execution_count": 54,
   "id": "93dda0c8",
   "metadata": {},
   "outputs": [
    {
     "data": {
      "text/html": [
       "<div>\n",
       "<style scoped>\n",
       "    .dataframe tbody tr th:only-of-type {\n",
       "        vertical-align: middle;\n",
       "    }\n",
       "\n",
       "    .dataframe tbody tr th {\n",
       "        vertical-align: top;\n",
       "    }\n",
       "\n",
       "    .dataframe thead th {\n",
       "        text-align: right;\n",
       "    }\n",
       "</style>\n",
       "<table border=\"1\" class=\"dataframe\">\n",
       "  <thead>\n",
       "    <tr style=\"text-align: right;\">\n",
       "      <th></th>\n",
       "      <th>Profit</th>\n",
       "    </tr>\n",
       "    <tr>\n",
       "      <th>State</th>\n",
       "      <th></th>\n",
       "    </tr>\n",
       "  </thead>\n",
       "  <tbody>\n",
       "    <tr>\n",
       "      <th>California</th>\n",
       "      <td>191792.06</td>\n",
       "    </tr>\n",
       "    <tr>\n",
       "      <th>Florida</th>\n",
       "      <td>191050.39</td>\n",
       "    </tr>\n",
       "    <tr>\n",
       "      <th>New York</th>\n",
       "      <td>192261.83</td>\n",
       "    </tr>\n",
       "  </tbody>\n",
       "</table>\n",
       "</div>"
      ],
      "text/plain": [
       "               Profit\n",
       "State                \n",
       "California  191792.06\n",
       "Florida     191050.39\n",
       "New York    192261.83"
      ]
     },
     "execution_count": 54,
     "metadata": {},
     "output_type": "execute_result"
    }
   ],
   "source": [
    "df.groupby('State').agg({'Profit': max}, ascending = True)"
   ]
  },
  {
   "cell_type": "markdown",
   "id": "4c395819",
   "metadata": {},
   "source": [
    "_Посчитаем суммарное значение расходов (добавим столбец Summary)_"
   ]
  },
  {
   "cell_type": "code",
   "execution_count": 12,
   "id": "c66aeba0",
   "metadata": {},
   "outputs": [
    {
     "data": {
      "text/html": [
       "<div>\n",
       "<style scoped>\n",
       "    .dataframe tbody tr th:only-of-type {\n",
       "        vertical-align: middle;\n",
       "    }\n",
       "\n",
       "    .dataframe tbody tr th {\n",
       "        vertical-align: top;\n",
       "    }\n",
       "\n",
       "    .dataframe thead th {\n",
       "        text-align: right;\n",
       "    }\n",
       "</style>\n",
       "<table border=\"1\" class=\"dataframe\">\n",
       "  <thead>\n",
       "    <tr style=\"text-align: right;\">\n",
       "      <th></th>\n",
       "      <th>R&amp;D Spend</th>\n",
       "      <th>Administration</th>\n",
       "      <th>Marketing Spend</th>\n",
       "      <th>State</th>\n",
       "      <th>Profit</th>\n",
       "      <th>Summary</th>\n",
       "    </tr>\n",
       "  </thead>\n",
       "  <tbody>\n",
       "    <tr>\n",
       "      <th>0</th>\n",
       "      <td>165349.20</td>\n",
       "      <td>136897.80</td>\n",
       "      <td>471784.10</td>\n",
       "      <td>New York</td>\n",
       "      <td>192261.83</td>\n",
       "      <td>774031.10</td>\n",
       "    </tr>\n",
       "    <tr>\n",
       "      <th>1</th>\n",
       "      <td>162597.70</td>\n",
       "      <td>151377.59</td>\n",
       "      <td>443898.53</td>\n",
       "      <td>California</td>\n",
       "      <td>191792.06</td>\n",
       "      <td>757873.82</td>\n",
       "    </tr>\n",
       "    <tr>\n",
       "      <th>2</th>\n",
       "      <td>153441.51</td>\n",
       "      <td>101145.55</td>\n",
       "      <td>407934.54</td>\n",
       "      <td>Florida</td>\n",
       "      <td>191050.39</td>\n",
       "      <td>662521.60</td>\n",
       "    </tr>\n",
       "    <tr>\n",
       "      <th>3</th>\n",
       "      <td>144372.41</td>\n",
       "      <td>118671.85</td>\n",
       "      <td>383199.62</td>\n",
       "      <td>New York</td>\n",
       "      <td>182901.99</td>\n",
       "      <td>646243.88</td>\n",
       "    </tr>\n",
       "    <tr>\n",
       "      <th>4</th>\n",
       "      <td>142107.34</td>\n",
       "      <td>91391.77</td>\n",
       "      <td>366168.42</td>\n",
       "      <td>Florida</td>\n",
       "      <td>166187.94</td>\n",
       "      <td>599667.53</td>\n",
       "    </tr>\n",
       "  </tbody>\n",
       "</table>\n",
       "</div>"
      ],
      "text/plain": [
       "   R&D Spend  Administration  Marketing Spend       State     Profit  \\\n",
       "0  165349.20       136897.80        471784.10    New York  192261.83   \n",
       "1  162597.70       151377.59        443898.53  California  191792.06   \n",
       "2  153441.51       101145.55        407934.54     Florida  191050.39   \n",
       "3  144372.41       118671.85        383199.62    New York  182901.99   \n",
       "4  142107.34        91391.77        366168.42     Florida  166187.94   \n",
       "\n",
       "     Summary  \n",
       "0  774031.10  \n",
       "1  757873.82  \n",
       "2  662521.60  \n",
       "3  646243.88  \n",
       "4  599667.53  "
      ]
     },
     "execution_count": 12,
     "metadata": {},
     "output_type": "execute_result"
    }
   ],
   "source": [
    "df['Summary'] = df['R&D Spend'] + df['Administration'] + df['Marketing Spend']\n",
    "df.head()"
   ]
  },
  {
   "cell_type": "markdown",
   "id": "499dc0fb",
   "metadata": {},
   "source": [
    "_Посчитаем долю расходов каждого вида от общих расходов (добавим три столбца с долей каждого вида расходов)_"
   ]
  },
  {
   "cell_type": "code",
   "execution_count": 5,
   "id": "fb564fb5",
   "metadata": {},
   "outputs": [
    {
     "data": {
      "text/html": [
       "<div>\n",
       "<style scoped>\n",
       "    .dataframe tbody tr th:only-of-type {\n",
       "        vertical-align: middle;\n",
       "    }\n",
       "\n",
       "    .dataframe tbody tr th {\n",
       "        vertical-align: top;\n",
       "    }\n",
       "\n",
       "    .dataframe thead th {\n",
       "        text-align: right;\n",
       "    }\n",
       "</style>\n",
       "<table border=\"1\" class=\"dataframe\">\n",
       "  <thead>\n",
       "    <tr style=\"text-align: right;\">\n",
       "      <th></th>\n",
       "      <th>R&amp;D Spend</th>\n",
       "      <th>Administration</th>\n",
       "      <th>Marketing Spend</th>\n",
       "      <th>State</th>\n",
       "      <th>Profit</th>\n",
       "      <th>Summary</th>\n",
       "      <th>share_R&amp;D Spend</th>\n",
       "      <th>share_Administration</th>\n",
       "      <th>share_Marketing Spend</th>\n",
       "    </tr>\n",
       "  </thead>\n",
       "  <tbody>\n",
       "    <tr>\n",
       "      <th>0</th>\n",
       "      <td>165349.20</td>\n",
       "      <td>136897.80</td>\n",
       "      <td>471784.10</td>\n",
       "      <td>New York</td>\n",
       "      <td>192261.83</td>\n",
       "      <td>774031.10</td>\n",
       "      <td>21.362087</td>\n",
       "      <td>17.686344</td>\n",
       "      <td>60.951569</td>\n",
       "    </tr>\n",
       "    <tr>\n",
       "      <th>1</th>\n",
       "      <td>162597.70</td>\n",
       "      <td>151377.59</td>\n",
       "      <td>443898.53</td>\n",
       "      <td>California</td>\n",
       "      <td>191792.06</td>\n",
       "      <td>757873.82</td>\n",
       "      <td>21.454455</td>\n",
       "      <td>19.973983</td>\n",
       "      <td>58.571561</td>\n",
       "    </tr>\n",
       "    <tr>\n",
       "      <th>2</th>\n",
       "      <td>153441.51</td>\n",
       "      <td>101145.55</td>\n",
       "      <td>407934.54</td>\n",
       "      <td>Florida</td>\n",
       "      <td>191050.39</td>\n",
       "      <td>662521.60</td>\n",
       "      <td>23.160228</td>\n",
       "      <td>15.266755</td>\n",
       "      <td>61.573017</td>\n",
       "    </tr>\n",
       "    <tr>\n",
       "      <th>3</th>\n",
       "      <td>144372.41</td>\n",
       "      <td>118671.85</td>\n",
       "      <td>383199.62</td>\n",
       "      <td>New York</td>\n",
       "      <td>182901.99</td>\n",
       "      <td>646243.88</td>\n",
       "      <td>22.340236</td>\n",
       "      <td>18.363323</td>\n",
       "      <td>59.296441</td>\n",
       "    </tr>\n",
       "    <tr>\n",
       "      <th>4</th>\n",
       "      <td>142107.34</td>\n",
       "      <td>91391.77</td>\n",
       "      <td>366168.42</td>\n",
       "      <td>Florida</td>\n",
       "      <td>166187.94</td>\n",
       "      <td>599667.53</td>\n",
       "      <td>23.697688</td>\n",
       "      <td>15.240407</td>\n",
       "      <td>61.061905</td>\n",
       "    </tr>\n",
       "  </tbody>\n",
       "</table>\n",
       "</div>"
      ],
      "text/plain": [
       "   R&D Spend  Administration  Marketing Spend       State     Profit  \\\n",
       "0  165349.20       136897.80        471784.10    New York  192261.83   \n",
       "1  162597.70       151377.59        443898.53  California  191792.06   \n",
       "2  153441.51       101145.55        407934.54     Florida  191050.39   \n",
       "3  144372.41       118671.85        383199.62    New York  182901.99   \n",
       "4  142107.34        91391.77        366168.42     Florida  166187.94   \n",
       "\n",
       "     Summary  share_R&D Spend  share_Administration  share_Marketing Spend  \n",
       "0  774031.10        21.362087             17.686344              60.951569  \n",
       "1  757873.82        21.454455             19.973983              58.571561  \n",
       "2  662521.60        23.160228             15.266755              61.573017  \n",
       "3  646243.88        22.340236             18.363323              59.296441  \n",
       "4  599667.53        23.697688             15.240407              61.061905  "
      ]
     },
     "execution_count": 5,
     "metadata": {},
     "output_type": "execute_result"
    }
   ],
   "source": [
    "df['share_R&D Spend'] = df['R&D Spend']/df['Summary']*100\n",
    "df['share_Administration'] = df['Administration']/df['Summary']*100\n",
    "df['share_Marketing Spend'] = df['Marketing Spend']/df['Summary']*100\n",
    "df.head()"
   ]
  },
  {
   "cell_type": "markdown",
   "id": "63d80b0a",
   "metadata": {},
   "source": [
    "_Посчитаем количество компаний для каждого ‘state’, у которых значение profit больше медианного для:\n",
    "А) данного state\n",
    "Б) всего датасета_"
   ]
  },
  {
   "cell_type": "code",
   "execution_count": 8,
   "id": "9536a285",
   "metadata": {},
   "outputs": [
    {
     "data": {
      "text/plain": [
       "97427.84"
      ]
     },
     "execution_count": 8,
     "metadata": {},
     "output_type": "execute_result"
    }
   ],
   "source": [
    "median_Cl = df.query(\"State == 'California'\").Profit.median()\n",
    "median_Cl"
   ]
  },
  {
   "cell_type": "code",
   "execution_count": 7,
   "id": "8c9d9d05",
   "metadata": {},
   "outputs": [
    {
     "data": {
      "text/html": [
       "<div>\n",
       "<style scoped>\n",
       "    .dataframe tbody tr th:only-of-type {\n",
       "        vertical-align: middle;\n",
       "    }\n",
       "\n",
       "    .dataframe tbody tr th {\n",
       "        vertical-align: top;\n",
       "    }\n",
       "\n",
       "    .dataframe thead th {\n",
       "        text-align: right;\n",
       "    }\n",
       "</style>\n",
       "<table border=\"1\" class=\"dataframe\">\n",
       "  <thead>\n",
       "    <tr style=\"text-align: right;\">\n",
       "      <th></th>\n",
       "      <th>R&amp;D Spend</th>\n",
       "      <th>Administration</th>\n",
       "      <th>Marketing Spend</th>\n",
       "      <th>State</th>\n",
       "      <th>Profit</th>\n",
       "      <th>Summary</th>\n",
       "      <th>share_R&amp;D Spend</th>\n",
       "      <th>share_Administration</th>\n",
       "      <th>share_Marketing Spend</th>\n",
       "    </tr>\n",
       "  </thead>\n",
       "  <tbody>\n",
       "    <tr>\n",
       "      <th>1</th>\n",
       "      <td>162597.70</td>\n",
       "      <td>151377.59</td>\n",
       "      <td>443898.53</td>\n",
       "      <td>California</td>\n",
       "      <td>191792.06</td>\n",
       "      <td>757873.82</td>\n",
       "      <td>21.454455</td>\n",
       "      <td>19.973983</td>\n",
       "      <td>58.571561</td>\n",
       "    </tr>\n",
       "    <tr>\n",
       "      <th>6</th>\n",
       "      <td>134615.46</td>\n",
       "      <td>147198.87</td>\n",
       "      <td>127716.82</td>\n",
       "      <td>California</td>\n",
       "      <td>156122.51</td>\n",
       "      <td>409531.15</td>\n",
       "      <td>32.870628</td>\n",
       "      <td>35.943266</td>\n",
       "      <td>31.186106</td>\n",
       "    </tr>\n",
       "    <tr>\n",
       "      <th>9</th>\n",
       "      <td>123334.88</td>\n",
       "      <td>108679.17</td>\n",
       "      <td>304981.62</td>\n",
       "      <td>California</td>\n",
       "      <td>149759.96</td>\n",
       "      <td>536995.67</td>\n",
       "      <td>22.967574</td>\n",
       "      <td>20.238370</td>\n",
       "      <td>56.794056</td>\n",
       "    </tr>\n",
       "    <tr>\n",
       "      <th>11</th>\n",
       "      <td>100671.96</td>\n",
       "      <td>91790.61</td>\n",
       "      <td>249744.55</td>\n",
       "      <td>California</td>\n",
       "      <td>144259.40</td>\n",
       "      <td>442207.12</td>\n",
       "      <td>22.765794</td>\n",
       "      <td>20.757379</td>\n",
       "      <td>56.476827</td>\n",
       "    </tr>\n",
       "    <tr>\n",
       "      <th>13</th>\n",
       "      <td>91992.39</td>\n",
       "      <td>135495.07</td>\n",
       "      <td>252664.93</td>\n",
       "      <td>California</td>\n",
       "      <td>134307.35</td>\n",
       "      <td>480152.39</td>\n",
       "      <td>19.158999</td>\n",
       "      <td>28.219181</td>\n",
       "      <td>52.621821</td>\n",
       "    </tr>\n",
       "    <tr>\n",
       "      <th>16</th>\n",
       "      <td>78013.11</td>\n",
       "      <td>121597.55</td>\n",
       "      <td>264346.06</td>\n",
       "      <td>California</td>\n",
       "      <td>126992.93</td>\n",
       "      <td>463956.72</td>\n",
       "      <td>16.814739</td>\n",
       "      <td>26.208813</td>\n",
       "      <td>56.976448</td>\n",
       "    </tr>\n",
       "    <tr>\n",
       "      <th>20</th>\n",
       "      <td>76253.86</td>\n",
       "      <td>113867.30</td>\n",
       "      <td>298664.47</td>\n",
       "      <td>California</td>\n",
       "      <td>118474.03</td>\n",
       "      <td>488785.63</td>\n",
       "      <td>15.600675</td>\n",
       "      <td>23.295959</td>\n",
       "      <td>61.103365</td>\n",
       "    </tr>\n",
       "    <tr>\n",
       "      <th>25</th>\n",
       "      <td>64664.71</td>\n",
       "      <td>139553.16</td>\n",
       "      <td>137962.62</td>\n",
       "      <td>California</td>\n",
       "      <td>107404.34</td>\n",
       "      <td>342180.49</td>\n",
       "      <td>18.897837</td>\n",
       "      <td>40.783494</td>\n",
       "      <td>40.318669</td>\n",
       "    </tr>\n",
       "  </tbody>\n",
       "</table>\n",
       "</div>"
      ],
      "text/plain": [
       "    R&D Spend  Administration  Marketing Spend       State     Profit  \\\n",
       "1   162597.70       151377.59        443898.53  California  191792.06   \n",
       "6   134615.46       147198.87        127716.82  California  156122.51   \n",
       "9   123334.88       108679.17        304981.62  California  149759.96   \n",
       "11  100671.96        91790.61        249744.55  California  144259.40   \n",
       "13   91992.39       135495.07        252664.93  California  134307.35   \n",
       "16   78013.11       121597.55        264346.06  California  126992.93   \n",
       "20   76253.86       113867.30        298664.47  California  118474.03   \n",
       "25   64664.71       139553.16        137962.62  California  107404.34   \n",
       "\n",
       "      Summary  share_R&D Spend  share_Administration  share_Marketing Spend  \n",
       "1   757873.82        21.454455             19.973983              58.571561  \n",
       "6   409531.15        32.870628             35.943266              31.186106  \n",
       "9   536995.67        22.967574             20.238370              56.794056  \n",
       "11  442207.12        22.765794             20.757379              56.476827  \n",
       "13  480152.39        19.158999             28.219181              52.621821  \n",
       "16  463956.72        16.814739             26.208813              56.976448  \n",
       "20  488785.63        15.600675             23.295959              61.103365  \n",
       "25  342180.49        18.897837             40.783494              40.318669  "
      ]
     },
     "execution_count": 7,
     "metadata": {},
     "output_type": "execute_result"
    }
   ],
   "source": [
    "California_profit = df[df['Profit'] > median_Cl]\n",
    "California_profit[California_profit['State'] == 'California']"
   ]
  },
  {
   "cell_type": "code",
   "execution_count": 10,
   "id": "b0983ee4",
   "metadata": {},
   "outputs": [
    {
     "data": {
      "text/plain": [
       "109543.12"
      ]
     },
     "execution_count": 10,
     "metadata": {},
     "output_type": "execute_result"
    }
   ],
   "source": [
    "median_Fl = df.query(\"State == 'Florida'\").Profit.median()\n",
    "median_Fl"
   ]
  },
  {
   "cell_type": "code",
   "execution_count": 11,
   "id": "7ae9a173",
   "metadata": {},
   "outputs": [
    {
     "data": {
      "text/html": [
       "<div>\n",
       "<style scoped>\n",
       "    .dataframe tbody tr th:only-of-type {\n",
       "        vertical-align: middle;\n",
       "    }\n",
       "\n",
       "    .dataframe tbody tr th {\n",
       "        vertical-align: top;\n",
       "    }\n",
       "\n",
       "    .dataframe thead th {\n",
       "        text-align: right;\n",
       "    }\n",
       "</style>\n",
       "<table border=\"1\" class=\"dataframe\">\n",
       "  <thead>\n",
       "    <tr style=\"text-align: right;\">\n",
       "      <th></th>\n",
       "      <th>R&amp;D Spend</th>\n",
       "      <th>Administration</th>\n",
       "      <th>Marketing Spend</th>\n",
       "      <th>State</th>\n",
       "      <th>Profit</th>\n",
       "      <th>Summary</th>\n",
       "      <th>share_R&amp;D Spend</th>\n",
       "      <th>share_Administration</th>\n",
       "      <th>share_Marketing Spend</th>\n",
       "    </tr>\n",
       "  </thead>\n",
       "  <tbody>\n",
       "    <tr>\n",
       "      <th>2</th>\n",
       "      <td>153441.51</td>\n",
       "      <td>101145.55</td>\n",
       "      <td>407934.54</td>\n",
       "      <td>Florida</td>\n",
       "      <td>191050.39</td>\n",
       "      <td>662521.60</td>\n",
       "      <td>23.160228</td>\n",
       "      <td>15.266755</td>\n",
       "      <td>61.573017</td>\n",
       "    </tr>\n",
       "    <tr>\n",
       "      <th>4</th>\n",
       "      <td>142107.34</td>\n",
       "      <td>91391.77</td>\n",
       "      <td>366168.42</td>\n",
       "      <td>Florida</td>\n",
       "      <td>166187.94</td>\n",
       "      <td>599667.53</td>\n",
       "      <td>23.697688</td>\n",
       "      <td>15.240407</td>\n",
       "      <td>61.061905</td>\n",
       "    </tr>\n",
       "    <tr>\n",
       "      <th>7</th>\n",
       "      <td>130298.13</td>\n",
       "      <td>145530.06</td>\n",
       "      <td>323876.68</td>\n",
       "      <td>Florida</td>\n",
       "      <td>155752.60</td>\n",
       "      <td>599704.87</td>\n",
       "      <td>21.727042</td>\n",
       "      <td>24.266947</td>\n",
       "      <td>54.006011</td>\n",
       "    </tr>\n",
       "    <tr>\n",
       "      <th>10</th>\n",
       "      <td>101913.08</td>\n",
       "      <td>110594.11</td>\n",
       "      <td>229160.95</td>\n",
       "      <td>Florida</td>\n",
       "      <td>146121.95</td>\n",
       "      <td>441668.14</td>\n",
       "      <td>23.074583</td>\n",
       "      <td>25.040092</td>\n",
       "      <td>51.885325</td>\n",
       "    </tr>\n",
       "    <tr>\n",
       "      <th>12</th>\n",
       "      <td>93863.75</td>\n",
       "      <td>127320.38</td>\n",
       "      <td>249839.44</td>\n",
       "      <td>Florida</td>\n",
       "      <td>141585.52</td>\n",
       "      <td>471023.57</td>\n",
       "      <td>19.927612</td>\n",
       "      <td>27.030575</td>\n",
       "      <td>53.041813</td>\n",
       "    </tr>\n",
       "    <tr>\n",
       "      <th>14</th>\n",
       "      <td>119943.24</td>\n",
       "      <td>156547.42</td>\n",
       "      <td>256512.92</td>\n",
       "      <td>Florida</td>\n",
       "      <td>132602.65</td>\n",
       "      <td>533003.58</td>\n",
       "      <td>22.503271</td>\n",
       "      <td>29.370801</td>\n",
       "      <td>48.125928</td>\n",
       "    </tr>\n",
       "    <tr>\n",
       "      <th>18</th>\n",
       "      <td>91749.16</td>\n",
       "      <td>114175.79</td>\n",
       "      <td>294919.57</td>\n",
       "      <td>Florida</td>\n",
       "      <td>124266.90</td>\n",
       "      <td>500844.52</td>\n",
       "      <td>18.318891</td>\n",
       "      <td>22.796654</td>\n",
       "      <td>58.884456</td>\n",
       "    </tr>\n",
       "    <tr>\n",
       "      <th>22</th>\n",
       "      <td>73994.56</td>\n",
       "      <td>122782.75</td>\n",
       "      <td>303319.26</td>\n",
       "      <td>Florida</td>\n",
       "      <td>110352.25</td>\n",
       "      <td>500096.57</td>\n",
       "      <td>14.796054</td>\n",
       "      <td>24.551808</td>\n",
       "      <td>60.652138</td>\n",
       "    </tr>\n",
       "  </tbody>\n",
       "</table>\n",
       "</div>"
      ],
      "text/plain": [
       "    R&D Spend  Administration  Marketing Spend    State     Profit    Summary  \\\n",
       "2   153441.51       101145.55        407934.54  Florida  191050.39  662521.60   \n",
       "4   142107.34        91391.77        366168.42  Florida  166187.94  599667.53   \n",
       "7   130298.13       145530.06        323876.68  Florida  155752.60  599704.87   \n",
       "10  101913.08       110594.11        229160.95  Florida  146121.95  441668.14   \n",
       "12   93863.75       127320.38        249839.44  Florida  141585.52  471023.57   \n",
       "14  119943.24       156547.42        256512.92  Florida  132602.65  533003.58   \n",
       "18   91749.16       114175.79        294919.57  Florida  124266.90  500844.52   \n",
       "22   73994.56       122782.75        303319.26  Florida  110352.25  500096.57   \n",
       "\n",
       "    share_R&D Spend  share_Administration  share_Marketing Spend  \n",
       "2         23.160228             15.266755              61.573017  \n",
       "4         23.697688             15.240407              61.061905  \n",
       "7         21.727042             24.266947              54.006011  \n",
       "10        23.074583             25.040092              51.885325  \n",
       "12        19.927612             27.030575              53.041813  \n",
       "14        22.503271             29.370801              48.125928  \n",
       "18        18.318891             22.796654              58.884456  \n",
       "22        14.796054             24.551808              60.652138  "
      ]
     },
     "execution_count": 11,
     "metadata": {},
     "output_type": "execute_result"
    }
   ],
   "source": [
    "Florida_profit = df[df['Profit'] > median_Fl]\n",
    "Florida_profit[Florida_profit['State'] == 'Florida']"
   ]
  },
  {
   "cell_type": "code",
   "execution_count": 13,
   "id": "1ae7957e",
   "metadata": {},
   "outputs": [
    {
     "data": {
      "text/plain": [
       "108552.04"
      ]
     },
     "execution_count": 13,
     "metadata": {},
     "output_type": "execute_result"
    }
   ],
   "source": [
    "median_NY = df.query(\"State == 'New York'\").Profit.median()\n",
    "median_NY"
   ]
  },
  {
   "cell_type": "code",
   "execution_count": 14,
   "id": "4d8cac22",
   "metadata": {},
   "outputs": [
    {
     "data": {
      "text/html": [
       "<div>\n",
       "<style scoped>\n",
       "    .dataframe tbody tr th:only-of-type {\n",
       "        vertical-align: middle;\n",
       "    }\n",
       "\n",
       "    .dataframe tbody tr th {\n",
       "        vertical-align: top;\n",
       "    }\n",
       "\n",
       "    .dataframe thead th {\n",
       "        text-align: right;\n",
       "    }\n",
       "</style>\n",
       "<table border=\"1\" class=\"dataframe\">\n",
       "  <thead>\n",
       "    <tr style=\"text-align: right;\">\n",
       "      <th></th>\n",
       "      <th>R&amp;D Spend</th>\n",
       "      <th>Administration</th>\n",
       "      <th>Marketing Spend</th>\n",
       "      <th>State</th>\n",
       "      <th>Profit</th>\n",
       "      <th>Summary</th>\n",
       "      <th>share_R&amp;D Spend</th>\n",
       "      <th>share_Administration</th>\n",
       "      <th>share_Marketing Spend</th>\n",
       "    </tr>\n",
       "  </thead>\n",
       "  <tbody>\n",
       "    <tr>\n",
       "      <th>0</th>\n",
       "      <td>165349.20</td>\n",
       "      <td>136897.80</td>\n",
       "      <td>471784.10</td>\n",
       "      <td>New York</td>\n",
       "      <td>192261.83</td>\n",
       "      <td>774031.10</td>\n",
       "      <td>21.362087</td>\n",
       "      <td>17.686344</td>\n",
       "      <td>60.951569</td>\n",
       "    </tr>\n",
       "    <tr>\n",
       "      <th>3</th>\n",
       "      <td>144372.41</td>\n",
       "      <td>118671.85</td>\n",
       "      <td>383199.62</td>\n",
       "      <td>New York</td>\n",
       "      <td>182901.99</td>\n",
       "      <td>646243.88</td>\n",
       "      <td>22.340236</td>\n",
       "      <td>18.363323</td>\n",
       "      <td>59.296441</td>\n",
       "    </tr>\n",
       "    <tr>\n",
       "      <th>5</th>\n",
       "      <td>131876.90</td>\n",
       "      <td>99814.71</td>\n",
       "      <td>362861.36</td>\n",
       "      <td>New York</td>\n",
       "      <td>156991.12</td>\n",
       "      <td>594552.97</td>\n",
       "      <td>22.180850</td>\n",
       "      <td>16.788195</td>\n",
       "      <td>61.030956</td>\n",
       "    </tr>\n",
       "    <tr>\n",
       "      <th>8</th>\n",
       "      <td>120542.52</td>\n",
       "      <td>148718.95</td>\n",
       "      <td>311613.29</td>\n",
       "      <td>New York</td>\n",
       "      <td>152211.77</td>\n",
       "      <td>580874.76</td>\n",
       "      <td>20.751895</td>\n",
       "      <td>25.602584</td>\n",
       "      <td>53.645521</td>\n",
       "    </tr>\n",
       "    <tr>\n",
       "      <th>15</th>\n",
       "      <td>114523.61</td>\n",
       "      <td>122616.84</td>\n",
       "      <td>261776.23</td>\n",
       "      <td>New York</td>\n",
       "      <td>129917.04</td>\n",
       "      <td>498916.68</td>\n",
       "      <td>22.954456</td>\n",
       "      <td>24.576617</td>\n",
       "      <td>52.468927</td>\n",
       "    </tr>\n",
       "    <tr>\n",
       "      <th>17</th>\n",
       "      <td>94657.16</td>\n",
       "      <td>145077.58</td>\n",
       "      <td>282574.31</td>\n",
       "      <td>New York</td>\n",
       "      <td>125370.37</td>\n",
       "      <td>522309.05</td>\n",
       "      <td>18.122826</td>\n",
       "      <td>27.776195</td>\n",
       "      <td>54.100979</td>\n",
       "    </tr>\n",
       "    <tr>\n",
       "      <th>19</th>\n",
       "      <td>86419.70</td>\n",
       "      <td>153514.11</td>\n",
       "      <td>0.00</td>\n",
       "      <td>New York</td>\n",
       "      <td>122776.86</td>\n",
       "      <td>239933.81</td>\n",
       "      <td>36.018142</td>\n",
       "      <td>63.981858</td>\n",
       "      <td>0.000000</td>\n",
       "    </tr>\n",
       "    <tr>\n",
       "      <th>21</th>\n",
       "      <td>78389.47</td>\n",
       "      <td>153773.43</td>\n",
       "      <td>299737.29</td>\n",
       "      <td>New York</td>\n",
       "      <td>111313.02</td>\n",
       "      <td>531900.19</td>\n",
       "      <td>14.737628</td>\n",
       "      <td>28.910204</td>\n",
       "      <td>56.352168</td>\n",
       "    </tr>\n",
       "  </tbody>\n",
       "</table>\n",
       "</div>"
      ],
      "text/plain": [
       "    R&D Spend  Administration  Marketing Spend     State     Profit  \\\n",
       "0   165349.20       136897.80        471784.10  New York  192261.83   \n",
       "3   144372.41       118671.85        383199.62  New York  182901.99   \n",
       "5   131876.90        99814.71        362861.36  New York  156991.12   \n",
       "8   120542.52       148718.95        311613.29  New York  152211.77   \n",
       "15  114523.61       122616.84        261776.23  New York  129917.04   \n",
       "17   94657.16       145077.58        282574.31  New York  125370.37   \n",
       "19   86419.70       153514.11             0.00  New York  122776.86   \n",
       "21   78389.47       153773.43        299737.29  New York  111313.02   \n",
       "\n",
       "      Summary  share_R&D Spend  share_Administration  share_Marketing Spend  \n",
       "0   774031.10        21.362087             17.686344              60.951569  \n",
       "3   646243.88        22.340236             18.363323              59.296441  \n",
       "5   594552.97        22.180850             16.788195              61.030956  \n",
       "8   580874.76        20.751895             25.602584              53.645521  \n",
       "15  498916.68        22.954456             24.576617              52.468927  \n",
       "17  522309.05        18.122826             27.776195              54.100979  \n",
       "19  239933.81        36.018142             63.981858               0.000000  \n",
       "21  531900.19        14.737628             28.910204              56.352168  "
      ]
     },
     "execution_count": 14,
     "metadata": {},
     "output_type": "execute_result"
    }
   ],
   "source": [
    "New_York_profit = df[df['Profit'] > median_NY]\n",
    "New_York_profit[New_York_profit['State'] == 'New York']"
   ]
  },
  {
   "cell_type": "code",
   "execution_count": 16,
   "id": "69d5d7a5",
   "metadata": {},
   "outputs": [
    {
     "data": {
      "text/plain": [
       "107978.19"
      ]
     },
     "execution_count": 16,
     "metadata": {},
     "output_type": "execute_result"
    }
   ],
   "source": [
    "df_median = df.Profit.median()\n",
    "df_median"
   ]
  },
  {
   "cell_type": "code",
   "execution_count": 17,
   "id": "637f2f59",
   "metadata": {},
   "outputs": [
    {
     "data": {
      "text/html": [
       "<div>\n",
       "<style scoped>\n",
       "    .dataframe tbody tr th:only-of-type {\n",
       "        vertical-align: middle;\n",
       "    }\n",
       "\n",
       "    .dataframe tbody tr th {\n",
       "        vertical-align: top;\n",
       "    }\n",
       "\n",
       "    .dataframe thead th {\n",
       "        text-align: right;\n",
       "    }\n",
       "</style>\n",
       "<table border=\"1\" class=\"dataframe\">\n",
       "  <thead>\n",
       "    <tr style=\"text-align: right;\">\n",
       "      <th></th>\n",
       "      <th>R&amp;D Spend</th>\n",
       "      <th>Administration</th>\n",
       "      <th>Marketing Spend</th>\n",
       "      <th>State</th>\n",
       "      <th>Profit</th>\n",
       "      <th>Summary</th>\n",
       "      <th>share_R&amp;D Spend</th>\n",
       "      <th>share_Administration</th>\n",
       "      <th>share_Marketing Spend</th>\n",
       "    </tr>\n",
       "  </thead>\n",
       "  <tbody>\n",
       "    <tr>\n",
       "      <th>0</th>\n",
       "      <td>165349.20</td>\n",
       "      <td>136897.80</td>\n",
       "      <td>471784.10</td>\n",
       "      <td>New York</td>\n",
       "      <td>192261.83</td>\n",
       "      <td>774031.10</td>\n",
       "      <td>21.362087</td>\n",
       "      <td>17.686344</td>\n",
       "      <td>60.951569</td>\n",
       "    </tr>\n",
       "    <tr>\n",
       "      <th>1</th>\n",
       "      <td>162597.70</td>\n",
       "      <td>151377.59</td>\n",
       "      <td>443898.53</td>\n",
       "      <td>California</td>\n",
       "      <td>191792.06</td>\n",
       "      <td>757873.82</td>\n",
       "      <td>21.454455</td>\n",
       "      <td>19.973983</td>\n",
       "      <td>58.571561</td>\n",
       "    </tr>\n",
       "    <tr>\n",
       "      <th>2</th>\n",
       "      <td>153441.51</td>\n",
       "      <td>101145.55</td>\n",
       "      <td>407934.54</td>\n",
       "      <td>Florida</td>\n",
       "      <td>191050.39</td>\n",
       "      <td>662521.60</td>\n",
       "      <td>23.160228</td>\n",
       "      <td>15.266755</td>\n",
       "      <td>61.573017</td>\n",
       "    </tr>\n",
       "    <tr>\n",
       "      <th>3</th>\n",
       "      <td>144372.41</td>\n",
       "      <td>118671.85</td>\n",
       "      <td>383199.62</td>\n",
       "      <td>New York</td>\n",
       "      <td>182901.99</td>\n",
       "      <td>646243.88</td>\n",
       "      <td>22.340236</td>\n",
       "      <td>18.363323</td>\n",
       "      <td>59.296441</td>\n",
       "    </tr>\n",
       "    <tr>\n",
       "      <th>4</th>\n",
       "      <td>142107.34</td>\n",
       "      <td>91391.77</td>\n",
       "      <td>366168.42</td>\n",
       "      <td>Florida</td>\n",
       "      <td>166187.94</td>\n",
       "      <td>599667.53</td>\n",
       "      <td>23.697688</td>\n",
       "      <td>15.240407</td>\n",
       "      <td>61.061905</td>\n",
       "    </tr>\n",
       "    <tr>\n",
       "      <th>5</th>\n",
       "      <td>131876.90</td>\n",
       "      <td>99814.71</td>\n",
       "      <td>362861.36</td>\n",
       "      <td>New York</td>\n",
       "      <td>156991.12</td>\n",
       "      <td>594552.97</td>\n",
       "      <td>22.180850</td>\n",
       "      <td>16.788195</td>\n",
       "      <td>61.030956</td>\n",
       "    </tr>\n",
       "    <tr>\n",
       "      <th>6</th>\n",
       "      <td>134615.46</td>\n",
       "      <td>147198.87</td>\n",
       "      <td>127716.82</td>\n",
       "      <td>California</td>\n",
       "      <td>156122.51</td>\n",
       "      <td>409531.15</td>\n",
       "      <td>32.870628</td>\n",
       "      <td>35.943266</td>\n",
       "      <td>31.186106</td>\n",
       "    </tr>\n",
       "    <tr>\n",
       "      <th>7</th>\n",
       "      <td>130298.13</td>\n",
       "      <td>145530.06</td>\n",
       "      <td>323876.68</td>\n",
       "      <td>Florida</td>\n",
       "      <td>155752.60</td>\n",
       "      <td>599704.87</td>\n",
       "      <td>21.727042</td>\n",
       "      <td>24.266947</td>\n",
       "      <td>54.006011</td>\n",
       "    </tr>\n",
       "    <tr>\n",
       "      <th>8</th>\n",
       "      <td>120542.52</td>\n",
       "      <td>148718.95</td>\n",
       "      <td>311613.29</td>\n",
       "      <td>New York</td>\n",
       "      <td>152211.77</td>\n",
       "      <td>580874.76</td>\n",
       "      <td>20.751895</td>\n",
       "      <td>25.602584</td>\n",
       "      <td>53.645521</td>\n",
       "    </tr>\n",
       "    <tr>\n",
       "      <th>9</th>\n",
       "      <td>123334.88</td>\n",
       "      <td>108679.17</td>\n",
       "      <td>304981.62</td>\n",
       "      <td>California</td>\n",
       "      <td>149759.96</td>\n",
       "      <td>536995.67</td>\n",
       "      <td>22.967574</td>\n",
       "      <td>20.238370</td>\n",
       "      <td>56.794056</td>\n",
       "    </tr>\n",
       "    <tr>\n",
       "      <th>10</th>\n",
       "      <td>101913.08</td>\n",
       "      <td>110594.11</td>\n",
       "      <td>229160.95</td>\n",
       "      <td>Florida</td>\n",
       "      <td>146121.95</td>\n",
       "      <td>441668.14</td>\n",
       "      <td>23.074583</td>\n",
       "      <td>25.040092</td>\n",
       "      <td>51.885325</td>\n",
       "    </tr>\n",
       "    <tr>\n",
       "      <th>11</th>\n",
       "      <td>100671.96</td>\n",
       "      <td>91790.61</td>\n",
       "      <td>249744.55</td>\n",
       "      <td>California</td>\n",
       "      <td>144259.40</td>\n",
       "      <td>442207.12</td>\n",
       "      <td>22.765794</td>\n",
       "      <td>20.757379</td>\n",
       "      <td>56.476827</td>\n",
       "    </tr>\n",
       "    <tr>\n",
       "      <th>12</th>\n",
       "      <td>93863.75</td>\n",
       "      <td>127320.38</td>\n",
       "      <td>249839.44</td>\n",
       "      <td>Florida</td>\n",
       "      <td>141585.52</td>\n",
       "      <td>471023.57</td>\n",
       "      <td>19.927612</td>\n",
       "      <td>27.030575</td>\n",
       "      <td>53.041813</td>\n",
       "    </tr>\n",
       "    <tr>\n",
       "      <th>13</th>\n",
       "      <td>91992.39</td>\n",
       "      <td>135495.07</td>\n",
       "      <td>252664.93</td>\n",
       "      <td>California</td>\n",
       "      <td>134307.35</td>\n",
       "      <td>480152.39</td>\n",
       "      <td>19.158999</td>\n",
       "      <td>28.219181</td>\n",
       "      <td>52.621821</td>\n",
       "    </tr>\n",
       "    <tr>\n",
       "      <th>14</th>\n",
       "      <td>119943.24</td>\n",
       "      <td>156547.42</td>\n",
       "      <td>256512.92</td>\n",
       "      <td>Florida</td>\n",
       "      <td>132602.65</td>\n",
       "      <td>533003.58</td>\n",
       "      <td>22.503271</td>\n",
       "      <td>29.370801</td>\n",
       "      <td>48.125928</td>\n",
       "    </tr>\n",
       "    <tr>\n",
       "      <th>15</th>\n",
       "      <td>114523.61</td>\n",
       "      <td>122616.84</td>\n",
       "      <td>261776.23</td>\n",
       "      <td>New York</td>\n",
       "      <td>129917.04</td>\n",
       "      <td>498916.68</td>\n",
       "      <td>22.954456</td>\n",
       "      <td>24.576617</td>\n",
       "      <td>52.468927</td>\n",
       "    </tr>\n",
       "    <tr>\n",
       "      <th>16</th>\n",
       "      <td>78013.11</td>\n",
       "      <td>121597.55</td>\n",
       "      <td>264346.06</td>\n",
       "      <td>California</td>\n",
       "      <td>126992.93</td>\n",
       "      <td>463956.72</td>\n",
       "      <td>16.814739</td>\n",
       "      <td>26.208813</td>\n",
       "      <td>56.976448</td>\n",
       "    </tr>\n",
       "    <tr>\n",
       "      <th>17</th>\n",
       "      <td>94657.16</td>\n",
       "      <td>145077.58</td>\n",
       "      <td>282574.31</td>\n",
       "      <td>New York</td>\n",
       "      <td>125370.37</td>\n",
       "      <td>522309.05</td>\n",
       "      <td>18.122826</td>\n",
       "      <td>27.776195</td>\n",
       "      <td>54.100979</td>\n",
       "    </tr>\n",
       "    <tr>\n",
       "      <th>18</th>\n",
       "      <td>91749.16</td>\n",
       "      <td>114175.79</td>\n",
       "      <td>294919.57</td>\n",
       "      <td>Florida</td>\n",
       "      <td>124266.90</td>\n",
       "      <td>500844.52</td>\n",
       "      <td>18.318891</td>\n",
       "      <td>22.796654</td>\n",
       "      <td>58.884456</td>\n",
       "    </tr>\n",
       "    <tr>\n",
       "      <th>19</th>\n",
       "      <td>86419.70</td>\n",
       "      <td>153514.11</td>\n",
       "      <td>0.00</td>\n",
       "      <td>New York</td>\n",
       "      <td>122776.86</td>\n",
       "      <td>239933.81</td>\n",
       "      <td>36.018142</td>\n",
       "      <td>63.981858</td>\n",
       "      <td>0.000000</td>\n",
       "    </tr>\n",
       "    <tr>\n",
       "      <th>20</th>\n",
       "      <td>76253.86</td>\n",
       "      <td>113867.30</td>\n",
       "      <td>298664.47</td>\n",
       "      <td>California</td>\n",
       "      <td>118474.03</td>\n",
       "      <td>488785.63</td>\n",
       "      <td>15.600675</td>\n",
       "      <td>23.295959</td>\n",
       "      <td>61.103365</td>\n",
       "    </tr>\n",
       "    <tr>\n",
       "      <th>21</th>\n",
       "      <td>78389.47</td>\n",
       "      <td>153773.43</td>\n",
       "      <td>299737.29</td>\n",
       "      <td>New York</td>\n",
       "      <td>111313.02</td>\n",
       "      <td>531900.19</td>\n",
       "      <td>14.737628</td>\n",
       "      <td>28.910204</td>\n",
       "      <td>56.352168</td>\n",
       "    </tr>\n",
       "    <tr>\n",
       "      <th>22</th>\n",
       "      <td>73994.56</td>\n",
       "      <td>122782.75</td>\n",
       "      <td>303319.26</td>\n",
       "      <td>Florida</td>\n",
       "      <td>110352.25</td>\n",
       "      <td>500096.57</td>\n",
       "      <td>14.796054</td>\n",
       "      <td>24.551808</td>\n",
       "      <td>60.652138</td>\n",
       "    </tr>\n",
       "    <tr>\n",
       "      <th>23</th>\n",
       "      <td>67532.53</td>\n",
       "      <td>105751.03</td>\n",
       "      <td>304768.73</td>\n",
       "      <td>Florida</td>\n",
       "      <td>108733.99</td>\n",
       "      <td>478052.29</td>\n",
       "      <td>14.126599</td>\n",
       "      <td>22.121227</td>\n",
       "      <td>63.752174</td>\n",
       "    </tr>\n",
       "    <tr>\n",
       "      <th>24</th>\n",
       "      <td>77044.01</td>\n",
       "      <td>99281.34</td>\n",
       "      <td>140574.81</td>\n",
       "      <td>New York</td>\n",
       "      <td>108552.04</td>\n",
       "      <td>316900.16</td>\n",
       "      <td>24.311761</td>\n",
       "      <td>31.328902</td>\n",
       "      <td>44.359337</td>\n",
       "    </tr>\n",
       "  </tbody>\n",
       "</table>\n",
       "</div>"
      ],
      "text/plain": [
       "    R&D Spend  Administration  Marketing Spend       State     Profit  \\\n",
       "0   165349.20       136897.80        471784.10    New York  192261.83   \n",
       "1   162597.70       151377.59        443898.53  California  191792.06   \n",
       "2   153441.51       101145.55        407934.54     Florida  191050.39   \n",
       "3   144372.41       118671.85        383199.62    New York  182901.99   \n",
       "4   142107.34        91391.77        366168.42     Florida  166187.94   \n",
       "5   131876.90        99814.71        362861.36    New York  156991.12   \n",
       "6   134615.46       147198.87        127716.82  California  156122.51   \n",
       "7   130298.13       145530.06        323876.68     Florida  155752.60   \n",
       "8   120542.52       148718.95        311613.29    New York  152211.77   \n",
       "9   123334.88       108679.17        304981.62  California  149759.96   \n",
       "10  101913.08       110594.11        229160.95     Florida  146121.95   \n",
       "11  100671.96        91790.61        249744.55  California  144259.40   \n",
       "12   93863.75       127320.38        249839.44     Florida  141585.52   \n",
       "13   91992.39       135495.07        252664.93  California  134307.35   \n",
       "14  119943.24       156547.42        256512.92     Florida  132602.65   \n",
       "15  114523.61       122616.84        261776.23    New York  129917.04   \n",
       "16   78013.11       121597.55        264346.06  California  126992.93   \n",
       "17   94657.16       145077.58        282574.31    New York  125370.37   \n",
       "18   91749.16       114175.79        294919.57     Florida  124266.90   \n",
       "19   86419.70       153514.11             0.00    New York  122776.86   \n",
       "20   76253.86       113867.30        298664.47  California  118474.03   \n",
       "21   78389.47       153773.43        299737.29    New York  111313.02   \n",
       "22   73994.56       122782.75        303319.26     Florida  110352.25   \n",
       "23   67532.53       105751.03        304768.73     Florida  108733.99   \n",
       "24   77044.01        99281.34        140574.81    New York  108552.04   \n",
       "\n",
       "      Summary  share_R&D Spend  share_Administration  share_Marketing Spend  \n",
       "0   774031.10        21.362087             17.686344              60.951569  \n",
       "1   757873.82        21.454455             19.973983              58.571561  \n",
       "2   662521.60        23.160228             15.266755              61.573017  \n",
       "3   646243.88        22.340236             18.363323              59.296441  \n",
       "4   599667.53        23.697688             15.240407              61.061905  \n",
       "5   594552.97        22.180850             16.788195              61.030956  \n",
       "6   409531.15        32.870628             35.943266              31.186106  \n",
       "7   599704.87        21.727042             24.266947              54.006011  \n",
       "8   580874.76        20.751895             25.602584              53.645521  \n",
       "9   536995.67        22.967574             20.238370              56.794056  \n",
       "10  441668.14        23.074583             25.040092              51.885325  \n",
       "11  442207.12        22.765794             20.757379              56.476827  \n",
       "12  471023.57        19.927612             27.030575              53.041813  \n",
       "13  480152.39        19.158999             28.219181              52.621821  \n",
       "14  533003.58        22.503271             29.370801              48.125928  \n",
       "15  498916.68        22.954456             24.576617              52.468927  \n",
       "16  463956.72        16.814739             26.208813              56.976448  \n",
       "17  522309.05        18.122826             27.776195              54.100979  \n",
       "18  500844.52        18.318891             22.796654              58.884456  \n",
       "19  239933.81        36.018142             63.981858               0.000000  \n",
       "20  488785.63        15.600675             23.295959              61.103365  \n",
       "21  531900.19        14.737628             28.910204              56.352168  \n",
       "22  500096.57        14.796054             24.551808              60.652138  \n",
       "23  478052.29        14.126599             22.121227              63.752174  \n",
       "24  316900.16        24.311761             31.328902              44.359337  "
      ]
     },
     "execution_count": 17,
     "metadata": {},
     "output_type": "execute_result"
    }
   ],
   "source": [
    "df_profit = df[df['Profit'] > df_median]\n",
    "df_profit"
   ]
  },
  {
   "cell_type": "markdown",
   "id": "4cca1fd8",
   "metadata": {},
   "source": [
    "_Создадим таблицу: количество компаний по каждому state, у которых процент маркетинговых расходов больше 40% от общего числа расходов и profit более 45-перцентиля по всему датасету. \n",
    "Построим график barchart – ось x - state, y - средний profit по таким компаниям._"
   ]
  },
  {
   "cell_type": "code",
   "execution_count": 46,
   "id": "bc0dab1a",
   "metadata": {},
   "outputs": [],
   "source": [
    "percent_MA = df['Marketing Spend'] / df['Summary'] > 0.4"
   ]
  },
  {
   "cell_type": "code",
   "execution_count": 47,
   "id": "48db0a10",
   "metadata": {},
   "outputs": [],
   "source": [
    "perc_arr=np.percentile(df.Profit, [45])\n",
    "percent_profit = df['Profit'] > perc_arr[0]"
   ]
  },
  {
   "cell_type": "code",
   "execution_count": 84,
   "id": "986351a6",
   "metadata": {},
   "outputs": [],
   "source": [
    "filter_df = df.loc[percent_MA & percent_profit]"
   ]
  },
  {
   "cell_type": "code",
   "execution_count": 78,
   "id": "c9a37168",
   "metadata": {},
   "outputs": [
    {
     "data": {
      "text/html": [
       "<div>\n",
       "<style scoped>\n",
       "    .dataframe tbody tr th:only-of-type {\n",
       "        vertical-align: middle;\n",
       "    }\n",
       "\n",
       "    .dataframe tbody tr th {\n",
       "        vertical-align: top;\n",
       "    }\n",
       "\n",
       "    .dataframe thead th {\n",
       "        text-align: right;\n",
       "    }\n",
       "</style>\n",
       "<table border=\"1\" class=\"dataframe\">\n",
       "  <thead>\n",
       "    <tr style=\"text-align: right;\">\n",
       "      <th></th>\n",
       "      <th>State</th>\n",
       "      <th>Profit</th>\n",
       "    </tr>\n",
       "  </thead>\n",
       "  <tbody>\n",
       "    <tr>\n",
       "      <th>0</th>\n",
       "      <td>New York</td>\n",
       "      <td>192261.83</td>\n",
       "    </tr>\n",
       "    <tr>\n",
       "      <th>1</th>\n",
       "      <td>California</td>\n",
       "      <td>191792.06</td>\n",
       "    </tr>\n",
       "    <tr>\n",
       "      <th>2</th>\n",
       "      <td>Florida</td>\n",
       "      <td>191050.39</td>\n",
       "    </tr>\n",
       "    <tr>\n",
       "      <th>3</th>\n",
       "      <td>New York</td>\n",
       "      <td>182901.99</td>\n",
       "    </tr>\n",
       "    <tr>\n",
       "      <th>4</th>\n",
       "      <td>Florida</td>\n",
       "      <td>166187.94</td>\n",
       "    </tr>\n",
       "    <tr>\n",
       "      <th>5</th>\n",
       "      <td>New York</td>\n",
       "      <td>156991.12</td>\n",
       "    </tr>\n",
       "    <tr>\n",
       "      <th>7</th>\n",
       "      <td>Florida</td>\n",
       "      <td>155752.60</td>\n",
       "    </tr>\n",
       "    <tr>\n",
       "      <th>8</th>\n",
       "      <td>New York</td>\n",
       "      <td>152211.77</td>\n",
       "    </tr>\n",
       "    <tr>\n",
       "      <th>9</th>\n",
       "      <td>California</td>\n",
       "      <td>149759.96</td>\n",
       "    </tr>\n",
       "    <tr>\n",
       "      <th>10</th>\n",
       "      <td>Florida</td>\n",
       "      <td>146121.95</td>\n",
       "    </tr>\n",
       "    <tr>\n",
       "      <th>11</th>\n",
       "      <td>California</td>\n",
       "      <td>144259.40</td>\n",
       "    </tr>\n",
       "    <tr>\n",
       "      <th>12</th>\n",
       "      <td>Florida</td>\n",
       "      <td>141585.52</td>\n",
       "    </tr>\n",
       "    <tr>\n",
       "      <th>13</th>\n",
       "      <td>California</td>\n",
       "      <td>134307.35</td>\n",
       "    </tr>\n",
       "    <tr>\n",
       "      <th>14</th>\n",
       "      <td>Florida</td>\n",
       "      <td>132602.65</td>\n",
       "    </tr>\n",
       "    <tr>\n",
       "      <th>15</th>\n",
       "      <td>New York</td>\n",
       "      <td>129917.04</td>\n",
       "    </tr>\n",
       "    <tr>\n",
       "      <th>16</th>\n",
       "      <td>California</td>\n",
       "      <td>126992.93</td>\n",
       "    </tr>\n",
       "    <tr>\n",
       "      <th>17</th>\n",
       "      <td>New York</td>\n",
       "      <td>125370.37</td>\n",
       "    </tr>\n",
       "    <tr>\n",
       "      <th>18</th>\n",
       "      <td>Florida</td>\n",
       "      <td>124266.90</td>\n",
       "    </tr>\n",
       "    <tr>\n",
       "      <th>20</th>\n",
       "      <td>California</td>\n",
       "      <td>118474.03</td>\n",
       "    </tr>\n",
       "    <tr>\n",
       "      <th>21</th>\n",
       "      <td>New York</td>\n",
       "      <td>111313.02</td>\n",
       "    </tr>\n",
       "    <tr>\n",
       "      <th>22</th>\n",
       "      <td>Florida</td>\n",
       "      <td>110352.25</td>\n",
       "    </tr>\n",
       "    <tr>\n",
       "      <th>23</th>\n",
       "      <td>Florida</td>\n",
       "      <td>108733.99</td>\n",
       "    </tr>\n",
       "    <tr>\n",
       "      <th>24</th>\n",
       "      <td>New York</td>\n",
       "      <td>108552.04</td>\n",
       "    </tr>\n",
       "    <tr>\n",
       "      <th>25</th>\n",
       "      <td>California</td>\n",
       "      <td>107404.34</td>\n",
       "    </tr>\n",
       "  </tbody>\n",
       "</table>\n",
       "</div>"
      ],
      "text/plain": [
       "         State     Profit\n",
       "0     New York  192261.83\n",
       "1   California  191792.06\n",
       "2      Florida  191050.39\n",
       "3     New York  182901.99\n",
       "4      Florida  166187.94\n",
       "5     New York  156991.12\n",
       "7      Florida  155752.60\n",
       "8     New York  152211.77\n",
       "9   California  149759.96\n",
       "10     Florida  146121.95\n",
       "11  California  144259.40\n",
       "12     Florida  141585.52\n",
       "13  California  134307.35\n",
       "14     Florida  132602.65\n",
       "15    New York  129917.04\n",
       "16  California  126992.93\n",
       "17    New York  125370.37\n",
       "18     Florida  124266.90\n",
       "20  California  118474.03\n",
       "21    New York  111313.02\n",
       "22     Florida  110352.25\n",
       "23     Florida  108733.99\n",
       "24    New York  108552.04\n",
       "25  California  107404.34"
      ]
     },
     "execution_count": 78,
     "metadata": {},
     "output_type": "execute_result"
    }
   ],
   "source": [
    "pivot_df = filter_df[['State', 'Profit']]\n",
    "pivot_df"
   ]
  },
  {
   "cell_type": "code",
   "execution_count": 123,
   "id": "adbc7200",
   "metadata": {},
   "outputs": [
    {
     "data": {
      "text/html": [
       "<div>\n",
       "<style scoped>\n",
       "    .dataframe tbody tr th:only-of-type {\n",
       "        vertical-align: middle;\n",
       "    }\n",
       "\n",
       "    .dataframe tbody tr th {\n",
       "        vertical-align: top;\n",
       "    }\n",
       "\n",
       "    .dataframe thead tr th {\n",
       "        text-align: left;\n",
       "    }\n",
       "</style>\n",
       "<table border=\"1\" class=\"dataframe\">\n",
       "  <thead>\n",
       "    <tr>\n",
       "      <th></th>\n",
       "      <th colspan=\"2\" halign=\"left\">State</th>\n",
       "      <th>Profit</th>\n",
       "    </tr>\n",
       "    <tr>\n",
       "      <th></th>\n",
       "      <th></th>\n",
       "      <th>count</th>\n",
       "      <th>mean</th>\n",
       "    </tr>\n",
       "  </thead>\n",
       "  <tbody>\n",
       "    <tr>\n",
       "      <th>0</th>\n",
       "      <td>California</td>\n",
       "      <td>7</td>\n",
       "      <td>138998.581429</td>\n",
       "    </tr>\n",
       "    <tr>\n",
       "      <th>1</th>\n",
       "      <td>Florida</td>\n",
       "      <td>9</td>\n",
       "      <td>141850.465556</td>\n",
       "    </tr>\n",
       "    <tr>\n",
       "      <th>2</th>\n",
       "      <td>New York</td>\n",
       "      <td>8</td>\n",
       "      <td>144939.897500</td>\n",
       "    </tr>\n",
       "  </tbody>\n",
       "</table>\n",
       "</div>"
      ],
      "text/plain": [
       "        State               Profit\n",
       "              count           mean\n",
       "0  California     7  138998.581429\n",
       "1     Florida     9  141850.465556\n",
       "2    New York     8  144939.897500"
      ]
     },
     "execution_count": 123,
     "metadata": {},
     "output_type": "execute_result"
    }
   ],
   "source": [
    "pivot_df.groupby('State').agg({'State':['count'],'Profit': 'mean'}).reset_index()"
   ]
  },
  {
   "cell_type": "code",
   "execution_count": 124,
   "id": "b2b99e14",
   "metadata": {},
   "outputs": [
    {
     "data": {
      "text/html": [
       "<div>\n",
       "<style scoped>\n",
       "    .dataframe tbody tr th:only-of-type {\n",
       "        vertical-align: middle;\n",
       "    }\n",
       "\n",
       "    .dataframe tbody tr th {\n",
       "        vertical-align: top;\n",
       "    }\n",
       "\n",
       "    .dataframe thead th {\n",
       "        text-align: right;\n",
       "    }\n",
       "</style>\n",
       "<table border=\"1\" class=\"dataframe\">\n",
       "  <thead>\n",
       "    <tr style=\"text-align: right;\">\n",
       "      <th></th>\n",
       "      <th>State</th>\n",
       "      <th>Profit</th>\n",
       "    </tr>\n",
       "  </thead>\n",
       "  <tbody>\n",
       "    <tr>\n",
       "      <th>0</th>\n",
       "      <td>California</td>\n",
       "      <td>138998.581429</td>\n",
       "    </tr>\n",
       "    <tr>\n",
       "      <th>1</th>\n",
       "      <td>Florida</td>\n",
       "      <td>141850.465556</td>\n",
       "    </tr>\n",
       "    <tr>\n",
       "      <th>2</th>\n",
       "      <td>New York</td>\n",
       "      <td>144939.897500</td>\n",
       "    </tr>\n",
       "  </tbody>\n",
       "</table>\n",
       "</div>"
      ],
      "text/plain": [
       "        State         Profit\n",
       "0  California  138998.581429\n",
       "1     Florida  141850.465556\n",
       "2    New York  144939.897500"
      ]
     },
     "execution_count": 124,
     "metadata": {},
     "output_type": "execute_result"
    }
   ],
   "source": [
    "df_for_barchart = pivot_df.groupby('State').agg({'Profit': 'mean'}).reset_index()\n",
    "df_for_barchart"
   ]
  },
  {
   "cell_type": "code",
   "execution_count": 130,
   "id": "bd9b689d",
   "metadata": {},
   "outputs": [
    {
     "data": {
      "text/plain": [
       "Text(0.5, 1.0, 'Profit by State')"
      ]
     },
     "execution_count": 130,
     "metadata": {},
     "output_type": "execute_result"
    },
    {
     "data": {
      "image/png": "[encoded data removed]",
      "text/plain": [
       "<Figure size 1080x432 with 1 Axes>"
      ]
     },
     "metadata": {
      "needs_background": "light"
     },
     "output_type": "display_data"
    }
   ],
   "source": [
    "plt.figure(figsize = (15,6))\n",
    "sns.barplot(x= 'State', y = 'Profit', data = df_for_barchart, palette = 'spring_r')\n",
    "plt.tight_layout()\n",
    "plt.xlabel('State')\n",
    "plt.ylabel('Profit mean')\n",
    "plt.title('Profit by State')"
   ]
  },
  {
   "cell_type": "markdown",
   "id": "15088b99",
   "metadata": {},
   "source": [
    "_Построим корреляционную матрицу для показателей различных видов расходов и прибыли_"
   ]
  },
  {
   "cell_type": "code",
   "execution_count": 4,
   "id": "e4063f9b",
   "metadata": {},
   "outputs": [],
   "source": [
    "import numpy as np\n",
    "import matplotlib.pyplot as plt\n",
    "import seaborn as sns\n",
    "from scipy.stats import kurtosis\n",
    "from scipy.stats import skew\n",
    "from scipy import stats\n",
    "import scipy.special as sps\n",
    "import warnings"
   ]
  },
  {
   "cell_type": "code",
   "execution_count": 8,
   "id": "7080d400",
   "metadata": {},
   "outputs": [],
   "source": [
    "research_list = [\"R&D Spend\", \"Administration\", \"Marketing Spend\", \"Profit\", \"Summary\"]"
   ]
  },
  {
   "cell_type": "code",
   "execution_count": 9,
   "id": "108fbcd4",
   "metadata": {},
   "outputs": [
    {
     "data": {
      "text/html": [
       "<div>\n",
       "<style scoped>\n",
       "    .dataframe tbody tr th:only-of-type {\n",
       "        vertical-align: middle;\n",
       "    }\n",
       "\n",
       "    .dataframe tbody tr th {\n",
       "        vertical-align: top;\n",
       "    }\n",
       "\n",
       "    .dataframe thead th {\n",
       "        text-align: right;\n",
       "    }\n",
       "</style>\n",
       "<table border=\"1\" class=\"dataframe\">\n",
       "  <thead>\n",
       "    <tr style=\"text-align: right;\">\n",
       "      <th></th>\n",
       "      <th>R&amp;D Spend</th>\n",
       "      <th>Administration</th>\n",
       "      <th>Marketing Spend</th>\n",
       "      <th>Profit</th>\n",
       "      <th>Summary</th>\n",
       "    </tr>\n",
       "  </thead>\n",
       "  <tbody>\n",
       "    <tr>\n",
       "      <th>R&amp;D Spend</th>\n",
       "      <td>1.000000</td>\n",
       "      <td>0.241955</td>\n",
       "      <td>0.724248</td>\n",
       "      <td>0.972900</td>\n",
       "      <td>0.869663</td>\n",
       "    </tr>\n",
       "    <tr>\n",
       "      <th>Administration</th>\n",
       "      <td>0.241955</td>\n",
       "      <td>1.000000</td>\n",
       "      <td>-0.032154</td>\n",
       "      <td>0.200717</td>\n",
       "      <td>0.216674</td>\n",
       "    </tr>\n",
       "    <tr>\n",
       "      <th>Marketing Spend</th>\n",
       "      <td>0.724248</td>\n",
       "      <td>-0.032154</td>\n",
       "      <td>1.000000</td>\n",
       "      <td>0.747766</td>\n",
       "      <td>0.952069</td>\n",
       "    </tr>\n",
       "    <tr>\n",
       "      <th>Profit</th>\n",
       "      <td>0.972900</td>\n",
       "      <td>0.200717</td>\n",
       "      <td>0.747766</td>\n",
       "      <td>1.000000</td>\n",
       "      <td>0.872598</td>\n",
       "    </tr>\n",
       "    <tr>\n",
       "      <th>Summary</th>\n",
       "      <td>0.869663</td>\n",
       "      <td>0.216674</td>\n",
       "      <td>0.952069</td>\n",
       "      <td>0.872598</td>\n",
       "      <td>1.000000</td>\n",
       "    </tr>\n",
       "  </tbody>\n",
       "</table>\n",
       "</div>"
      ],
      "text/plain": [
       "                 R&D Spend  Administration  Marketing Spend    Profit  \\\n",
       "R&D Spend         1.000000        0.241955         0.724248  0.972900   \n",
       "Administration    0.241955        1.000000        -0.032154  0.200717   \n",
       "Marketing Spend   0.724248       -0.032154         1.000000  0.747766   \n",
       "Profit            0.972900        0.200717         0.747766  1.000000   \n",
       "Summary           0.869663        0.216674         0.952069  0.872598   \n",
       "\n",
       "                  Summary  \n",
       "R&D Spend        0.869663  \n",
       "Administration   0.216674  \n",
       "Marketing Spend  0.952069  \n",
       "Profit           0.872598  \n",
       "Summary          1.000000  "
      ]
     },
     "execution_count": 9,
     "metadata": {},
     "output_type": "execute_result"
    }
   ],
   "source": [
    "corr_m = df[research_list].corr()\n",
    "corr_m"
   ]
  },
  {
   "cell_type": "code",
   "execution_count": 10,
   "id": "da9447ef",
   "metadata": {},
   "outputs": [
    {
     "data": {
      "text/plain": [
       "<AxesSubplot:>"
      ]
     },
     "execution_count": 10,
     "metadata": {},
     "output_type": "execute_result"
    },
    {
     "data": {
      "image/png": "[encoded data removed]",
      "text/plain": [
       "<Figure size 720x504 with 2 Axes>"
      ]
     },
     "metadata": {
      "needs_background": "light"
     },
     "output_type": "display_data"
    }
   ],
   "source": [
    "plt.figure(figsize=(10,7))\n",
    "sns.heatmap(corr_m, center=0, annot=True)"
   ]
  },
  {
   "cell_type": "code",
   "execution_count": 14,
   "id": "f6ca29ae",
   "metadata": {},
   "outputs": [
    {
     "name": "stdout",
     "output_type": "stream",
     "text": [
      "Коэффициент корреляции 0.9729004656594832\n"
     ]
    },
    {
     "data": {
      "image/png": "[encoded data removed]",
      "text/plain": [
       "<Figure size 432x288 with 1 Axes>"
      ]
     },
     "metadata": {
      "needs_background": "light"
     },
     "output_type": "display_data"
    },
    {
     "name": "stdout",
     "output_type": "stream",
     "text": [
      "Коэффициент корреляции 0.7477657217414767\n"
     ]
    },
    {
     "data": {
      "image/png": "[encoded data removed]",
      "text/plain": [
       "<Figure size 432x288 with 1 Axes>"
      ]
     },
     "metadata": {
      "needs_background": "light"
     },
     "output_type": "display_data"
    }
   ],
   "source": [
    "level > 0.5\n",
    "for i in research_list[:-2]:\n",
    "    curr_corr = df[i].corr(df.Profit)\n",
    "    if abs(curr_corr) >= level:\n",
    "        sns.scatterplot(x=\"Profit\", y=i, data=df)\n",
    "        print(\"Коэффициент корреляции \" + str(curr_corr))\n",
    "        plt.title(\"Связь между прибылью и \"+str(i))\n",
    "        plt.show()"
   ]
  },
  {
   "cell_type": "markdown",
   "id": "95fbe9d8",
   "metadata": {},
   "source": [
    "Наглядно видим связь между прибылью и расходами на разработку, а также с маркетинговыми расходами."
   ]
  },
  {
   "cell_type": "markdown",
   "id": "b53fa6d8",
   "metadata": {},
   "source": [
    "_Построим линейные регрессионные модели_"
   ]
  },
  {
   "cell_type": "code",
   "execution_count": 134,
   "id": "a321bea1",
   "metadata": {},
   "outputs": [],
   "source": [
    "train = pd.read_csv('50_Startups.csv')"
   ]
  },
  {
   "cell_type": "code",
   "execution_count": 69,
   "id": "04cb6fb5",
   "metadata": {},
   "outputs": [
    {
     "data": {
      "text/plain": [
       "R&D Spend          0\n",
       "Administration     0\n",
       "Marketing Spend    0\n",
       "State              0\n",
       "Profit             0\n",
       "dtype: int64"
      ]
     },
     "execution_count": 69,
     "metadata": {},
     "output_type": "execute_result"
    }
   ],
   "source": [
    "#проверка нулевых значений\n",
    "train.isnull().sum()"
   ]
  },
  {
   "cell_type": "code",
   "execution_count": 135,
   "id": "e94e6760",
   "metadata": {},
   "outputs": [],
   "source": [
    "X = train[['R&D Spend']]\n",
    "Y = train[['Profit']]"
   ]
  },
  {
   "cell_type": "code",
   "execution_count": 72,
   "id": "c3e9c7a8",
   "metadata": {},
   "outputs": [
    {
     "data": {
      "image/png": "[encoded data removed]",
      "text/plain": [
       "<Figure size 432x288 with 1 Axes>"
      ]
     },
     "metadata": {
      "needs_background": "light"
     },
     "output_type": "display_data"
    }
   ],
   "source": [
    "#строим scatter plot\n",
    "sns.scatterplot(data=train,x='R&D Spend',y='Profit')\n",
    "plt.xlabel('R&D Spend')\n",
    "plt.ylabel('Profit')\n",
    "plt.title('Profit vs. R&D Spend')\n",
    "plt.show()"
   ]
  },
  {
   "cell_type": "code",
   "execution_count": 133,
   "id": "4c5013c9",
   "metadata": {},
   "outputs": [],
   "source": [
    "from sklearn.linear_model import LinearRegression"
   ]
  },
  {
   "cell_type": "code",
   "execution_count": 74,
   "id": "350877dc",
   "metadata": {},
   "outputs": [],
   "source": [
    "reg = LinearRegression()\n",
    "model = reg.fit(X, Y)"
   ]
  },
  {
   "cell_type": "code",
   "execution_count": 75,
   "id": "b18ed953",
   "metadata": {},
   "outputs": [
    {
     "data": {
      "text/plain": [
       "array([49032.89914125])"
      ]
     },
     "execution_count": 75,
     "metadata": {},
     "output_type": "execute_result"
    }
   ],
   "source": [
    "#B0 value\n",
    "model.intercept_"
   ]
  },
  {
   "cell_type": "code",
   "execution_count": 76,
   "id": "b8176a80",
   "metadata": {},
   "outputs": [
    {
     "data": {
      "text/plain": [
       "array([[0.85429137]])"
      ]
     },
     "execution_count": 76,
     "metadata": {},
     "output_type": "execute_result"
    }
   ],
   "source": [
    "#B1 value\n",
    "model.coef_"
   ]
  },
  {
   "cell_type": "code",
   "execution_count": 77,
   "id": "182344f7",
   "metadata": {},
   "outputs": [
    {
     "data": {
      "text/plain": [
       "0.9465353160804392"
      ]
     },
     "execution_count": 77,
     "metadata": {},
     "output_type": "execute_result"
    }
   ],
   "source": [
    "model.score(X,Y)\n",
    "#r2"
   ]
  },
  {
   "cell_type": "code",
   "execution_count": 78,
   "id": "906ebf6a",
   "metadata": {},
   "outputs": [],
   "source": [
    "#зависимость корелляции высокая"
   ]
  },
  {
   "cell_type": "markdown",
   "id": "88c9de05",
   "metadata": {},
   "source": [
    "у=49032+0.85*х уравнение "
   ]
  },
  {
   "cell_type": "code",
   "execution_count": 89,
   "id": "bda1055c",
   "metadata": {},
   "outputs": [
    {
     "data": {
      "text/plain": [
       "array([[49076.46800117]])"
      ]
     },
     "execution_count": 89,
     "metadata": {},
     "output_type": "execute_result"
    }
   ],
   "source": [
    "model.intercept_ + model.coef_*51"
   ]
  },
  {
   "cell_type": "markdown",
   "id": "7f690c54",
   "metadata": {},
   "source": [
    "- В данном случае r2 = 0,94 (по шкале Чеддока связь высокая — от 0,7 до 0,9).\n",
    "\n",
    "- Вариация прибыли объясняется на 94% моделью и остальная часть - неучтенными в модели факторами.\n",
    "\n",
    "\n",
    "- При увеличении на 1 фактора ' R&D Spend', прибыль (Profit) увеличится на 0.94"
   ]
  },
  {
   "cell_type": "code",
   "execution_count": 143,
   "id": "f375d15c",
   "metadata": {},
   "outputs": [],
   "source": [
    "X_2 = train[['Marketing Spend']]\n",
    "Y = train[['Profit']]"
   ]
  },
  {
   "cell_type": "code",
   "execution_count": 91,
   "id": "3dfdbc15",
   "metadata": {},
   "outputs": [
    {
     "data": {
      "image/png": "[encoded data removed]",
      "text/plain": [
       "<Figure size 432x288 with 1 Axes>"
      ]
     },
     "metadata": {
      "needs_background": "light"
     },
     "output_type": "display_data"
    }
   ],
   "source": [
    "#строим scatter plot\n",
    "sns.scatterplot(data=train,x='Marketing Spend',y='Profit')\n",
    "plt.xlabel('Marketing Spend')\n",
    "plt.ylabel('Profit')\n",
    "plt.title('Profit vs. Marketing Spend')\n",
    "plt.show()"
   ]
  },
  {
   "cell_type": "code",
   "execution_count": 92,
   "id": "aae8ae6c",
   "metadata": {},
   "outputs": [],
   "source": [
    "reg = LinearRegression()\n",
    "model = reg.fit(X_2, Y)"
   ]
  },
  {
   "cell_type": "code",
   "execution_count": 93,
   "id": "eb77b4e0",
   "metadata": {},
   "outputs": [
    {
     "data": {
      "text/plain": [
       "array([60003.54881577])"
      ]
     },
     "execution_count": 93,
     "metadata": {},
     "output_type": "execute_result"
    }
   ],
   "source": [
    "#B0 value\n",
    "model.intercept_"
   ]
  },
  {
   "cell_type": "code",
   "execution_count": 94,
   "id": "81ea5f33",
   "metadata": {},
   "outputs": [
    {
     "data": {
      "text/plain": [
       "array([[0.24645926]])"
      ]
     },
     "execution_count": 94,
     "metadata": {},
     "output_type": "execute_result"
    }
   ],
   "source": [
    "#B1 value\n",
    "model.coef_"
   ]
  },
  {
   "cell_type": "code",
   "execution_count": 95,
   "id": "5dba2e51",
   "metadata": {},
   "outputs": [
    {
     "data": {
      "text/plain": [
       "0.5591535746115515"
      ]
     },
     "execution_count": 95,
     "metadata": {},
     "output_type": "execute_result"
    }
   ],
   "source": [
    "model.score(X_2,Y)\n",
    "#r2"
   ]
  },
  {
   "cell_type": "markdown",
   "id": "b246403f",
   "metadata": {},
   "source": [
    "- В нашем случае r2 = 0,55 (по шкале Чеддока 0,5-0,7 заметная сила связи).\n",
    "\n",
    "- Вариация прибыли объясняется на 55% моделью и остальная часть - неучтенными в модели факторами."
   ]
  },
  {
   "cell_type": "code",
   "execution_count": 96,
   "id": "43f42667",
   "metadata": {},
   "outputs": [
    {
     "data": {
      "text/plain": [
       "array([[60016.11823826]])"
      ]
     },
     "execution_count": 96,
     "metadata": {},
     "output_type": "execute_result"
    }
   ],
   "source": [
    "model.intercept_ + model.coef_*51"
   ]
  },
  {
   "cell_type": "markdown",
   "id": "a3917361",
   "metadata": {},
   "source": [
    "- На каждую единицу изменения в изученном показателе Marketing Spend (Маркетинговые расходы) изменение прибыли (Profit) составляет около 0.24\n",
    "\n",
    "\n",
    "- При увеличении на 1 фактора 'Marketing Spend', прибыль увеличится на 0.24"
   ]
  },
  {
   "cell_type": "code",
   "execution_count": 136,
   "id": "1658b38f",
   "metadata": {},
   "outputs": [],
   "source": [
    "X_3 = train[['Administration']]\n",
    "Y = train[['Profit']]"
   ]
  },
  {
   "cell_type": "code",
   "execution_count": 137,
   "id": "45f70e14",
   "metadata": {},
   "outputs": [
    {
     "data": {
      "image/png": "[encoded data removed]",
      "text/plain": [
       "<Figure size 432x288 with 1 Axes>"
      ]
     },
     "metadata": {
      "needs_background": "light"
     },
     "output_type": "display_data"
    }
   ],
   "source": [
    "#строим scatter plot\n",
    "sns.scatterplot(data=train,x='Administration',y='Profit')\n",
    "plt.xlabel('Administration')\n",
    "plt.ylabel('Profit')\n",
    "plt.title('Profit vs. Administration')\n",
    "plt.show()"
   ]
  },
  {
   "cell_type": "code",
   "execution_count": 138,
   "id": "f3f0cc8d",
   "metadata": {},
   "outputs": [],
   "source": [
    "reg = LinearRegression()\n",
    "model = reg.fit(X_3, Y)"
   ]
  },
  {
   "cell_type": "code",
   "execution_count": 139,
   "id": "82588f00",
   "metadata": {},
   "outputs": [
    {
     "data": {
      "text/plain": [
       "array([76974.47130542])"
      ]
     },
     "execution_count": 139,
     "metadata": {},
     "output_type": "execute_result"
    }
   ],
   "source": [
    "#B0 value\n",
    "model.intercept_"
   ]
  },
  {
   "cell_type": "code",
   "execution_count": 140,
   "id": "f0318bf6",
   "metadata": {},
   "outputs": [
    {
     "data": {
      "text/plain": [
       "array([[0.2887492]])"
      ]
     },
     "execution_count": 140,
     "metadata": {},
     "output_type": "execute_result"
    }
   ],
   "source": [
    "#B1 value\n",
    "model.coef_"
   ]
  },
  {
   "cell_type": "code",
   "execution_count": 142,
   "id": "7a87f468",
   "metadata": {},
   "outputs": [
    {
     "data": {
      "text/plain": [
       "0.04028714077757223"
      ]
     },
     "execution_count": 142,
     "metadata": {},
     "output_type": "execute_result"
    }
   ],
   "source": [
    "model.score(X_3,Y)\n",
    "#r2"
   ]
  },
  {
   "cell_type": "markdown",
   "id": "0d9288be",
   "metadata": {},
   "source": [
    "r2 = 0.04 По шкале Чеддока, можем сделать вывод, что связь между Аминистративными расходами и прибылью практичеси отсутствует."
   ]
  },
  {
   "cell_type": "markdown",
   "id": "07db0e8e",
   "metadata": {},
   "source": [
    "_Построим модель множественной регрессии_"
   ]
  },
  {
   "cell_type": "code",
   "execution_count": 5,
   "id": "0495009e",
   "metadata": {},
   "outputs": [],
   "source": [
    "import statsmodels.api as sm\n",
    "import statsmodels.formula.api as smf"
   ]
  },
  {
   "cell_type": "code",
   "execution_count": 13,
   "id": "c725e199",
   "metadata": {},
   "outputs": [],
   "source": [
    "X_4 = df[[\"R&D Spend\", \"Administration\", \"Marketing Spend\", \"Summary\"]]"
   ]
  },
  {
   "cell_type": "code",
   "execution_count": 14,
   "id": "58a79dba",
   "metadata": {},
   "outputs": [],
   "source": [
    "Y_4 = df.Profit"
   ]
  },
  {
   "cell_type": "code",
   "execution_count": 15,
   "id": "62e860f2",
   "metadata": {},
   "outputs": [
    {
     "name": "stdout",
     "output_type": "stream",
     "text": [
      "                            OLS Regression Results                            \n",
      "==============================================================================\n",
      "Dep. Variable:                 Profit   R-squared:                       0.951\n",
      "Model:                            OLS   Adj. R-squared:                  0.948\n",
      "Method:                 Least Squares   F-statistic:                     296.0\n",
      "Date:                Tue, 29 Nov 2022   Prob (F-statistic):           4.53e-30\n",
      "Time:                        09:07:19   Log-Likelihood:                -525.39\n",
      "No. Observations:                  50   AIC:                             1059.\n",
      "Df Residuals:                      46   BIC:                             1066.\n",
      "Df Model:                           3                                         \n",
      "Covariance Type:            nonrobust                                         \n",
      "===================================================================================\n",
      "                      coef    std err          t      P>|t|      [0.025      0.975]\n",
      "-----------------------------------------------------------------------------------\n",
      "const            5.012e+04   6572.353      7.626      0.000    3.69e+04    6.34e+04\n",
      "R&D Spend           0.6042      0.044     13.856      0.000       0.516       0.692\n",
      "Administration     -0.2283      0.042     -5.422      0.000      -0.313      -0.144\n",
      "Marketing Spend    -0.1743      0.021     -8.270      0.000      -0.217      -0.132\n",
      "Summary             0.2015      0.013     15.999      0.000       0.176       0.227\n",
      "==============================================================================\n",
      "Omnibus:                       14.838   Durbin-Watson:                   1.282\n",
      "Prob(Omnibus):                  0.001   Jarque-Bera (JB):               21.442\n",
      "Skew:                          -0.949   Prob(JB):                     2.21e-05\n",
      "Kurtosis:                       5.586   Cond. No.                     3.31e+16\n",
      "==============================================================================\n",
      "\n",
      "Notes:\n",
      "[1] Standard Errors assume that the covariance matrix of the errors is correctly specified.\n",
      "[2] The smallest eigenvalue is 1.22e-20. This might indicate that there are\n",
      "strong multicollinearity problems or that the design matrix is singular.\n"
     ]
    }
   ],
   "source": [
    "X_4 = sm.add_constant(X_4)  # добавить константу, чтобы был свободный член\n",
    "model = sm.OLS(Y_4, X_4)  # говорим модели, что у нас ЗП, а что НП\n",
    "results = model.fit()  # строим регрессионную прямую\n",
    "print(results.summary())  # смотрим результат"
   ]
  },
  {
   "cell_type": "markdown",
   "id": "4a8636ef",
   "metadata": {},
   "source": [
    "- При множественном анализе оцениваем Adj. R-squared: 0.948\n",
    "\n",
    "\n",
    "- Выбранная модель объясняет примерно 95 % дисперсии (окр. до целого). \n",
    "\n",
    "\n",
    "- При единичном изменении показателя R&D Spend, прибыль (Profit) увеличивается на 0.6042, а также можем заметить отрицательную связь между административными/маркетинговыми расходами и прибылью.\n"
   ]
  },
  {
   "cell_type": "markdown",
   "id": "a48c4715",
   "metadata": {},
   "source": [
    "- __Исходя из полученных данных в линейных регрессионных моделях, можем с уверенностью сказать, что на увеличение прибыли очень сильно влияют расходы на разработку и в меньшей степени маркетинговые расходы и административные расходы.__"
   ]
  }
 ],
 "metadata": {
  "kernelspec": {
   "display_name": "Python 3 (ipykernel)",
   "language": "python",
   "name": "python3"
  },
  "language_info": {
   "codemirror_mode": {
    "name": "ipython",
    "version": 3
   },
   "file_extension": ".py",
   "mimetype": "text/x-python",
   "name": "python",
   "nbconvert_exporter": "python",
   "pygments_lexer": "ipython3",
   "version": "3.9.12"
  }
 },
 "nbformat": 4,
 "nbformat_minor": 5
}
